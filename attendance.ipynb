{
 "cells": [
  {
   "cell_type": "markdown",
   "id": "e99e71cd-9868-4173-b602-8fb25a783a3c",
   "metadata": {},
   "source": [
    "# PWHL Attendance\n",
    "\n",
    "## Overview\n",
    "\n",
    "TODO write about how I am interested in how PWHL game attendance evolves over time\n",
    "\n",
    "## Introduction\n",
    "\n",
    "TODO write something about how women’s sports are gaining popularity and (popularity -> players payed full-time salaries to play together -> higher level -> better women’s sports)\n",
    "\n",
    "TODO write something about how the PWHL’s popularity is unprecedented and how I hope it is a sign of a bright future for women’s sports\n",
    "\n",
    "## Dataset\n",
    "\n",
    "The PWHL’s website’s [schedule page](https://www.thepwhl.com/en/stats/schedule/all-teams/5/all-months) lists all games for the current season in a table.\n",
    "\n",
    "![TODO image desc](./img/2025-04-07_ScheduleTable.png)\n",
    "\n"
   ]
  },
  {
   "cell_type": "markdown",
   "id": "6bd83bb0-e08d-4661-9fc1-1d23757c4007",
   "metadata": {},
   "source": [
    "The R button at the end of each line leads to a webpage containing an official game report which specifies, among other things, the venue, date, teams and attendance.\n",
    "\n",
    "The current season is selected by default but it is possible to obtain the same table for past seasons.\n",
    "\n",
    "It is therefore possible to use the webpage to get a list of URLs corresponding to game reports for all of a season’s games. Then, information can be collected from each of the reports, which appear to all be formatted in the same way."
   ]
  },
  {
   "cell_type": "code",
   "execution_count": null,
   "id": "d90b64aa-8e71-4a0d-bf6e-bc54967ab7a9",
   "metadata": {},
   "outputs": [],
   "source": []
  }
 ],
 "metadata": {
  "kernelspec": {
   "display_name": "Python [conda env:base] *",
   "language": "python",
   "name": "conda-base-py"
  },
  "language_info": {
   "codemirror_mode": {
    "name": "ipython",
    "version": 3
   },
   "file_extension": ".py",
   "mimetype": "text/x-python",
   "name": "python",
   "nbconvert_exporter": "python",
   "pygments_lexer": "ipython3",
   "version": "3.11.7"
  }
 },
 "nbformat": 4,
 "nbformat_minor": 5
}
