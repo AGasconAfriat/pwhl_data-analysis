{
 "cells": [
  {
   "cell_type": "markdown",
   "id": "e99e71cd-9868-4173-b602-8fb25a783a3c",
   "metadata": {},
   "source": [
    "# PWHL Attendance\n",
    "\n",
    "## Overview\n",
    "\n",
    "As women’s sports gain popularity, I am interested in the evolution of game attendance over time. I am particularly interested in the case of the Professional Women’s Hockey League (PWHL).\n",
    "\n",
    "## Introduction\n",
    "\n",
    "I had the chance to witness the Montreal Victoire’s first home game, on January 13, 2024. The team did not have a name yet and was simply referred to as \"PWHL Montreal\". The game was held at the Verdun auditorium, the 4114-seat venue where the Victoire trains. The ambiance was amazing.\n",
    "\n",
    "While the Victoire still trains in Verdun, the team now holds all of its regular home matches in a bigger venue, Place Bell, which can accomodate 10,062 spectators.\n",
    "\n",
    "As women’s hockey gains popularity and athletes are getting paid full-time salaries to train together, we are seeing a higher level of play than ever before. I hope the attendance numbers will be maintained over time or even grow, ensuring the PWHL’s future and setting an example which, I hope, will lead to better funding for women’s sports and high level female athletes flourishing.\n",
    "\n",
    "## Dataset\n",
    "\n",
    "### Data source\n",
    "\n",
    "The PWHL’s website’s [schedule page](https://www.thepwhl.com/en/stats/schedule/all-teams/5/all-months) lists all games for the current season in a table.\n",
    "\n",
    "![the top of a table titled Schedule and listing the date, time, teams, scores, venues and broadcasters for PWHL games](./img/2025-04-07_ScheduleTable.png)"
   ]
  },
  {
   "cell_type": "markdown",
   "id": "6bd83bb0-e08d-4661-9fc1-1d23757c4007",
   "metadata": {},
   "source": [
    "The R button at the end of each line leads to a webpage containing an official game report which specifies, among other things, the venue, date, teams and attendance.\n",
    "\n",
    "The current season is selected by default but it is possible to obtain the same table for past seasons.\n",
    "\n",
    "It is therefore possible to use the webpage to get a list of URLs corresponding to game reports for all of a season’s games. Then, information can be collected from each of the reports, which appear to all be formatted in the same way."
   ]
  },
  {
   "cell_type": "markdown",
   "id": "8f1a4780-34d4-4644-9ae4-ecd2398728d7",
   "metadata": {},
   "source": [
    "### Data scraping\n",
    "\n",
    "I scraped a list of game report links from each season’s webpage. Then, I scraped the following information from each report, storing it in a DataFrame: visiting team, home team, venue, date, game start and attendance."
   ]
  },
  {
   "cell_type": "code",
   "execution_count": 4,
   "id": "92637b63-5a78-476a-bc43-0b2626a73eaf",
   "metadata": {},
   "outputs": [],
   "source": [
    "import pandas as pd\n",
    "from selenium import webdriver\n",
    "from selenium.webdriver.common.by import By\n",
    "from selenium.webdriver.support.ui import WebDriverWait\n",
    "from selenium.webdriver.support import expected_conditions as EC"
   ]
  },
  {
   "cell_type": "code",
   "execution_count": 5,
   "id": "084db77a-c51f-4f60-9dc7-482d47a4166e",
   "metadata": {},
   "outputs": [],
   "source": [
    "game_report_urls = []\n",
    "\n",
    "def scrape_game_report_urls(url):\n",
    "    game_report_urls = []\n",
    "    # set up the WebDriver\n",
    "    driver = webdriver.Edge() #EDIT THIS LINE if not using Edge <<<<<<<<<<<<<<<<<<<< IMPORTANT <<<<<<<<<<<<<<<<<<<<\n",
    "    # open the webpage\n",
    "    driver.get(url)\n",
    "    # wait for the table to load\n",
    "    try:\n",
    "        table = WebDriverWait(driver, 2).until(\n",
    "            EC.presence_of_element_located((By.XPATH, '//table'))\n",
    "        )\n",
    "        all_links = driver.find_elements(By.XPATH, \"//a[@href]\")\n",
    "        for link in all_links:\n",
    "            link_url = link.get_attribute(\"href\")\n",
    "            if \"official-game-report\" in link_url:\n",
    "                game_report_urls.append(link_url)\n",
    "    finally:\n",
    "        driver.quit()\n",
    "    return game_report_urls\n",
    "\n",
    "for i in range(1, 6): # currently, there are 5 seasons\n",
    "    game_report_urls.extend(scrape_game_report_urls(\"https://www.thepwhl.com/en/stats/schedule/all-teams/\" + str(i) + \"/all-months\"))"
   ]
  },
  {
   "cell_type": "code",
   "execution_count": 6,
   "id": "7c25136b-b845-4c2c-92b1-b21599f0154f",
   "metadata": {},
   "outputs": [
    {
     "data": {
      "text/plain": [
       "['https://lscluster.hockeytech.com/game_reports/official-game-report.php?client_code=pwhl&game_id=2&lang_id=1',\n",
       " 'https://lscluster.hockeytech.com/game_reports/official-game-report.php?client_code=pwhl&game_id=3&lang_id=1',\n",
       " 'https://lscluster.hockeytech.com/game_reports/official-game-report.php?client_code=pwhl&game_id=4&lang_id=1',\n",
       " 'https://lscluster.hockeytech.com/game_reports/official-game-report.php?client_code=pwhl&game_id=5&lang_id=1',\n",
       " 'https://lscluster.hockeytech.com/game_reports/official-game-report.php?client_code=pwhl&game_id=6&lang_id=1']"
      ]
     },
     "execution_count": 6,
     "metadata": {},
     "output_type": "execute_result"
    }
   ],
   "source": [
    "game_report_urls[0:5]"
   ]
  },
  {
   "cell_type": "markdown",
   "id": "7fe62c69-4e04-4215-95c1-4db20994e37e",
   "metadata": {},
   "source": [
    "Now that I have the URL for each report, I want to extract specific information: visiting team, home team, venue, date, game start and attendance."
   ]
  },
  {
   "cell_type": "code",
   "execution_count": 8,
   "id": "d90b64aa-8e71-4a0d-bf6e-bc54967ab7a9",
   "metadata": {},
   "outputs": [],
   "source": [
    "import re\n",
    "import requests \n",
    "from bs4 import BeautifulSoup as bs"
   ]
  },
  {
   "cell_type": "code",
   "execution_count": 9,
   "id": "4014ee79-e053-42de-ae16-715c6bde93c9",
   "metadata": {},
   "outputs": [],
   "source": [
    "def get_game_info(url):\n",
    "    game_info = {}\n",
    "    regex = r\"#\\d+ (\\w+) \\d+ at (\\w+) \\d+  (.*) (\\w+ \\d+, \\d+)\"\n",
    "    # scrape data\n",
    "    r = requests.get(url) \n",
    "    soup = bs(r.content)\n",
    "    table = soup.select('table')[0]\n",
    "    game_data = pd.read_html(str(table))[0]\n",
    "    # find all required values\n",
    "    text = game_data.iloc[0][1]\n",
    "    captures = re.findall(regex, text)\n",
    "    if len(captures) > 0:\n",
    "        if len(captures[0]) >= 4:\n",
    "            game_info[\"visiting team\"], game_info[\"home team\"], game_info[\"venue\"], game_info[\"date\"] = captures[0]\n",
    "        else:\n",
    "            print(\"Problem with captures \", captures[0])\n",
    "    else:\n",
    "        print(\"Problem with url \", url)\n",
    "    game_info[\"game start\"] = game_data.iloc[4][1]\n",
    "    game_info[\"attendance\"] = game_data.iloc[7][1]\n",
    "    return game_info"
   ]
  },
  {
   "cell_type": "code",
   "execution_count": 10,
   "id": "184ab655-9e84-4237-a7a5-46a909895005",
   "metadata": {},
   "outputs": [
    {
     "name": "stderr",
     "output_type": "stream",
     "text": [
      "C:\\Users\\agaco\\AppData\\Local\\Temp\\ipykernel_20772\\564919858.py:8: FutureWarning: Passing literal html to 'read_html' is deprecated and will be removed in a future version. To read from a literal string, wrap it in a 'StringIO' object.\n",
      "  game_data = pd.read_html(str(table))[0]\n"
     ]
    },
    {
     "data": {
      "text/plain": [
       "{'visiting team': 'Boston',\n",
       " 'home team': 'Toronto',\n",
       " 'venue': 'Coca-Cola Coliseum',\n",
       " 'date': 'Nov 30, 2024',\n",
       " 'game start': '2:15 PM EST',\n",
       " 'attendance': '8089'}"
      ]
     },
     "execution_count": 10,
     "metadata": {},
     "output_type": "execute_result"
    }
   ],
   "source": [
    "get_game_info(\"https://lscluster.hockeytech.com/game_reports/official-game-report.php?client_code=pwhl&game_id=105&lang_id=1\")"
   ]
  },
  {
   "cell_type": "markdown",
   "id": "30c25de9-56b6-425b-b985-2b539792793c",
   "metadata": {},
   "source": [
    "Let’s go and get the info from all the game reports."
   ]
  },
  {
   "cell_type": "code",
   "execution_count": 12,
   "id": "aacdf597-5a85-4113-8147-59a55bf5d117",
   "metadata": {},
   "outputs": [],
   "source": [
    "import warnings\n",
    "warnings.filterwarnings('ignore')"
   ]
  },
  {
   "cell_type": "code",
   "execution_count": 20,
   "id": "b69179ba-8cbc-44bd-8052-4e6883fe01de",
   "metadata": {},
   "outputs": [
    {
     "name": "stdout",
     "output_type": "stream",
     "text": [
      "Problem with url  https://lscluster.hockeytech.com/game_reports/official-game-report.php?client_code=pwhl&game_id=2&lang_id=1\n",
      "Problem with url  https://lscluster.hockeytech.com/game_reports/official-game-report.php?client_code=pwhl&game_id=5&lang_id=1\n",
      "Problem with url  https://lscluster.hockeytech.com/game_reports/official-game-report.php?client_code=pwhl&game_id=9&lang_id=1\n",
      "Problem with url  https://lscluster.hockeytech.com/game_reports/official-game-report.php?client_code=pwhl&game_id=12&lang_id=1\n",
      "Problem with url  https://lscluster.hockeytech.com/game_reports/official-game-report.php?client_code=pwhl&game_id=13&lang_id=1\n",
      "Problem with url  https://lscluster.hockeytech.com/game_reports/official-game-report.php?client_code=pwhl&game_id=16&lang_id=1\n",
      "Problem with url  https://lscluster.hockeytech.com/game_reports/official-game-report.php?client_code=pwhl&game_id=21&lang_id=1\n",
      "Problem with url  https://lscluster.hockeytech.com/game_reports/official-game-report.php?client_code=pwhl&game_id=24&lang_id=1\n",
      "Problem with url  https://lscluster.hockeytech.com/game_reports/official-game-report.php?client_code=pwhl&game_id=26&lang_id=1\n",
      "Problem with url  https://lscluster.hockeytech.com/game_reports/official-game-report.php?client_code=pwhl&game_id=32&lang_id=1\n",
      "Problem with url  https://lscluster.hockeytech.com/game_reports/official-game-report.php?client_code=pwhl&game_id=35&lang_id=1\n",
      "Problem with url  https://lscluster.hockeytech.com/game_reports/official-game-report.php?client_code=pwhl&game_id=36&lang_id=1\n",
      "Problem with url  https://lscluster.hockeytech.com/game_reports/official-game-report.php?client_code=pwhl&game_id=39&lang_id=1\n",
      "Problem with url  https://lscluster.hockeytech.com/game_reports/official-game-report.php?client_code=pwhl&game_id=43&lang_id=1\n",
      "Problem with url  https://lscluster.hockeytech.com/game_reports/official-game-report.php?client_code=pwhl&game_id=46&lang_id=1\n",
      "Problem with url  https://lscluster.hockeytech.com/game_reports/official-game-report.php?client_code=pwhl&game_id=48&lang_id=1\n",
      "Problem with url  https://lscluster.hockeytech.com/game_reports/official-game-report.php?client_code=pwhl&game_id=51&lang_id=1\n",
      "Problem with url  https://lscluster.hockeytech.com/game_reports/official-game-report.php?client_code=pwhl&game_id=53&lang_id=1\n",
      "Problem with url  https://lscluster.hockeytech.com/game_reports/official-game-report.php?client_code=pwhl&game_id=56&lang_id=1\n",
      "Problem with url  https://lscluster.hockeytech.com/game_reports/official-game-report.php?client_code=pwhl&game_id=68&lang_id=1\n",
      "Problem with url  https://lscluster.hockeytech.com/game_reports/official-game-report.php?client_code=pwhl&game_id=60&lang_id=1\n",
      "Problem with url  https://lscluster.hockeytech.com/game_reports/official-game-report.php?client_code=pwhl&game_id=61&lang_id=1\n",
      "Problem with url  https://lscluster.hockeytech.com/game_reports/official-game-report.php?client_code=pwhl&game_id=71&lang_id=1\n",
      "Problem with url  https://lscluster.hockeytech.com/game_reports/official-game-report.php?client_code=pwhl&game_id=73&lang_id=1\n",
      "Problem with url  https://lscluster.hockeytech.com/game_reports/official-game-report.php?client_code=pwhl&game_id=76&lang_id=1\n",
      "Problem with url  https://lscluster.hockeytech.com/game_reports/official-game-report.php?client_code=pwhl&game_id=79&lang_id=1\n",
      "Problem with url  https://lscluster.hockeytech.com/game_reports/official-game-report.php?client_code=pwhl&game_id=81&lang_id=1\n",
      "Problem with url  https://lscluster.hockeytech.com/game_reports/official-game-report.php?client_code=pwhl&game_id=84&lang_id=1\n",
      "Problem with url  https://lscluster.hockeytech.com/game_reports/official-game-report.php?client_code=pwhl&game_id=85&lang_id=1\n",
      "Problem with url  https://lscluster.hockeytech.com/game_reports/official-game-report.php?client_code=pwhl&game_id=86&lang_id=1\n",
      "Problem with url  https://lscluster.hockeytech.com/game_reports/official-game-report.php?client_code=pwhl&game_id=87&lang_id=1\n",
      "Problem with url  https://lscluster.hockeytech.com/game_reports/official-game-report.php?client_code=pwhl&game_id=88&lang_id=1\n",
      "Problem with url  https://lscluster.hockeytech.com/game_reports/official-game-report.php?client_code=pwhl&game_id=89&lang_id=1\n",
      "Problem with url  https://lscluster.hockeytech.com/game_reports/official-game-report.php?client_code=pwhl&game_id=90&lang_id=1\n",
      "Problem with url  https://lscluster.hockeytech.com/game_reports/official-game-report.php?client_code=pwhl&game_id=92&lang_id=1\n",
      "Problem with url  https://lscluster.hockeytech.com/game_reports/official-game-report.php?client_code=pwhl&game_id=94&lang_id=1\n",
      "Problem with url  https://lscluster.hockeytech.com/game_reports/official-game-report.php?client_code=pwhl&game_id=95&lang_id=1\n",
      "Problem with url  https://lscluster.hockeytech.com/game_reports/official-game-report.php?client_code=pwhl&game_id=96&lang_id=1\n",
      "Problem with url  https://lscluster.hockeytech.com/game_reports/official-game-report.php?client_code=pwhl&game_id=97&lang_id=1\n",
      "Problem with url  https://lscluster.hockeytech.com/game_reports/official-game-report.php?client_code=pwhl&game_id=98&lang_id=1\n",
      "Problem with url  https://lscluster.hockeytech.com/game_reports/official-game-report.php?client_code=pwhl&game_id=102&lang_id=1\n",
      "Problem with url  https://lscluster.hockeytech.com/game_reports/official-game-report.php?client_code=pwhl&game_id=104&lang_id=1\n",
      "Problem with url  https://lscluster.hockeytech.com/game_reports/official-game-report.php?client_code=pwhl&game_id=107&lang_id=1\n",
      "Problem with url  https://lscluster.hockeytech.com/game_reports/official-game-report.php?client_code=pwhl&game_id=110&lang_id=1\n",
      "Problem with url  https://lscluster.hockeytech.com/game_reports/official-game-report.php?client_code=pwhl&game_id=112&lang_id=1\n",
      "Problem with url  https://lscluster.hockeytech.com/game_reports/official-game-report.php?client_code=pwhl&game_id=114&lang_id=1\n",
      "Problem with url  https://lscluster.hockeytech.com/game_reports/official-game-report.php?client_code=pwhl&game_id=117&lang_id=1\n",
      "Problem with url  https://lscluster.hockeytech.com/game_reports/official-game-report.php?client_code=pwhl&game_id=120&lang_id=1\n",
      "Problem with url  https://lscluster.hockeytech.com/game_reports/official-game-report.php?client_code=pwhl&game_id=124&lang_id=1\n",
      "Problem with url  https://lscluster.hockeytech.com/game_reports/official-game-report.php?client_code=pwhl&game_id=125&lang_id=1\n",
      "Problem with url  https://lscluster.hockeytech.com/game_reports/official-game-report.php?client_code=pwhl&game_id=128&lang_id=1\n",
      "Problem with url  https://lscluster.hockeytech.com/game_reports/official-game-report.php?client_code=pwhl&game_id=130&lang_id=1\n",
      "Problem with url  https://lscluster.hockeytech.com/game_reports/official-game-report.php?client_code=pwhl&game_id=177&lang_id=1\n",
      "Problem with url  https://lscluster.hockeytech.com/game_reports/official-game-report.php?client_code=pwhl&game_id=135&lang_id=1\n",
      "Problem with url  https://lscluster.hockeytech.com/game_reports/official-game-report.php?client_code=pwhl&game_id=139&lang_id=1\n",
      "Problem with url  https://lscluster.hockeytech.com/game_reports/official-game-report.php?client_code=pwhl&game_id=141&lang_id=1\n",
      "Problem with url  https://lscluster.hockeytech.com/game_reports/official-game-report.php?client_code=pwhl&game_id=143&lang_id=1\n",
      "Problem with url  https://lscluster.hockeytech.com/game_reports/official-game-report.php?client_code=pwhl&game_id=146&lang_id=1\n",
      "Problem with url  https://lscluster.hockeytech.com/game_reports/official-game-report.php?client_code=pwhl&game_id=148&lang_id=1\n",
      "Problem with url  https://lscluster.hockeytech.com/game_reports/official-game-report.php?client_code=pwhl&game_id=150&lang_id=1\n",
      "Problem with url  https://lscluster.hockeytech.com/game_reports/official-game-report.php?client_code=pwhl&game_id=179&lang_id=1\n",
      "Problem with url  https://lscluster.hockeytech.com/game_reports/official-game-report.php?client_code=pwhl&game_id=155&lang_id=1\n",
      "Problem with url  https://lscluster.hockeytech.com/game_reports/official-game-report.php?client_code=pwhl&game_id=157&lang_id=1\n",
      "Problem with url  https://lscluster.hockeytech.com/game_reports/official-game-report.php?client_code=pwhl&game_id=161&lang_id=1\n",
      "Problem with url  https://lscluster.hockeytech.com/game_reports/official-game-report.php?client_code=pwhl&game_id=183&lang_id=1\n",
      "Problem with url  https://lscluster.hockeytech.com/game_reports/official-game-report.php?client_code=pwhl&game_id=164&lang_id=1\n",
      "Problem with url  https://lscluster.hockeytech.com/game_reports/official-game-report.php?client_code=pwhl&game_id=165&lang_id=1\n",
      "Problem with url  https://lscluster.hockeytech.com/game_reports/official-game-report.php?client_code=pwhl&game_id=167&lang_id=1\n",
      "Problem with url  https://lscluster.hockeytech.com/game_reports/official-game-report.php?client_code=pwhl&game_id=170&lang_id=1\n"
     ]
    }
   ],
   "source": [
    "games = []\n",
    "for url in game_report_urls:\n",
    "    new_data = get_game_info(url)\n",
    "    games.append(new_data)"
   ]
  },
  {
   "cell_type": "code",
   "execution_count": null,
   "id": "1788def1-2693-4c32-a401-9636bc080b4b",
   "metadata": {},
   "outputs": [],
   "source": [
    "df"
   ]
  },
  {
   "cell_type": "code",
   "execution_count": 179,
   "id": "38ca70b3-3d2a-4ef9-af41-e6ed5ab39ce4",
   "metadata": {},
   "outputs": [
    {
     "name": "stdout",
     "output_type": "stream",
     "text": [
      "[]\n"
     ]
    }
   ],
   "source": [
    "print(re.findall(regex, \"blahblah\"))"
   ]
  },
  {
   "cell_type": "markdown",
   "id": "82230b00-a472-4a1b-905a-17993605fb8a",
   "metadata": {},
   "source": [
    "TODO:\n",
    "\n",
    "- Add day of the week and seat capacity to df\n",
    "- Add column specifying if the local NHL team is playing that day to df\n",
    "- Check if I can find attendance records for the CWHL (prior women’s hockey league) for comparison"
   ]
  },
  {
   "cell_type": "code",
   "execution_count": null,
   "id": "7b374fdb-c813-477e-b8a2-099ac3c87225",
   "metadata": {},
   "outputs": [],
   "source": []
  }
 ],
 "metadata": {
  "kernelspec": {
   "display_name": "Python [conda env:base] *",
   "language": "python",
   "name": "conda-base-py"
  },
  "language_info": {
   "codemirror_mode": {
    "name": "ipython",
    "version": 3
   },
   "file_extension": ".py",
   "mimetype": "text/x-python",
   "name": "python",
   "nbconvert_exporter": "python",
   "pygments_lexer": "ipython3",
   "version": "3.11.7"
  }
 },
 "nbformat": 4,
 "nbformat_minor": 5
}
