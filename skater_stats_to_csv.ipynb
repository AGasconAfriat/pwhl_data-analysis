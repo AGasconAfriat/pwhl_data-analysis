{
 "cells": [
  {
   "cell_type": "markdown",
   "id": "48f6d52a-3962-4846-b8bc-76a760591276",
   "metadata": {},
   "source": [
    "# PWHL Skater Statistics for the Current Season\n",
    "\n",
    "## Overview\n",
    "\n",
    "This notebook shows how to create a dataset from PWHL skater statistics and save it as a CSV file.\n",
    "\n",
    "## Setup\n",
    "Decomment any of the following lines to install the corresponding packages."
   ]
  },
  {
   "cell_type": "code",
   "execution_count": 2,
   "id": "2e9d911e-796d-4c82-b911-8d3629299122",
   "metadata": {},
   "outputs": [],
   "source": [
    "#!pip install html5lib\n",
    "#!pip install lxml\n",
    "#!pip install selenium"
   ]
  },
  {
   "cell_type": "markdown",
   "id": "c05d4bd8-eac2-4d22-8b6b-405a0f42ce9a",
   "metadata": {},
   "source": [
    "Import all required libraries/packages."
   ]
  },
  {
   "cell_type": "code",
   "execution_count": 4,
   "id": "20b83100-57c2-4951-bbc7-43ce525f5875",
   "metadata": {},
   "outputs": [],
   "source": [
    "import requests\n",
    "import pandas as pd\n",
    "import matplotlib.pyplot as plt\n",
    "import numpy as np\n",
    "from selenium import webdriver\n",
    "from selenium.webdriver.common.by import By\n",
    "from selenium.webdriver.support.ui import WebDriverWait\n",
    "from selenium.webdriver.support import expected_conditions as EC"
   ]
  },
  {
   "cell_type": "markdown",
   "id": "87365d4d-0784-4cdb-8185-2a61c5e6012a",
   "metadata": {},
   "source": [
    "Define the webscraping function.\n",
    "\n",
    "**NOTE:** A WebDriver must be installed for this to work. See [Selenium’s download page](https://www.selenium.dev/downloads/) for details. If not using Edge, edit the third line of the following cell."
   ]
  },
  {
   "cell_type": "code",
   "execution_count": 6,
   "id": "855ef86f-e013-44ce-b4bc-74a3959242cc",
   "metadata": {},
   "outputs": [],
   "source": [
    "def scrape_stats_page(url):\n",
    "    # set up the WebDriver\n",
    "    driver = webdriver.Edge() #EDIT THIS LINE if not using Edge\n",
    "    # open the webpage\n",
    "    driver.get(url)\n",
    "    # wait for the table to load\n",
    "    try:\n",
    "        table = WebDriverWait(driver, 2).until(\n",
    "            EC.presence_of_element_located((By.XPATH, '//table'))\n",
    "        )\n",
    "        rows = table.find_elements(By.TAG_NAME, 'tr')\n",
    "        data = []\n",
    "        for row in rows:\n",
    "            cols = row.find_elements(By.TAG_NAME, 'td')\n",
    "            data.append([col.text for col in cols])\n",
    "        df = pd.DataFrame(data)\n",
    "    finally:\n",
    "        driver.quit()\n",
    "    return df"
   ]
  },
  {
   "cell_type": "markdown",
   "id": "697abea6-7931-4d3b-95f4-d735f33f22d4",
   "metadata": {},
   "source": [
    "## Webscraping\n",
    "First, get the information from the player statistics table on the league’s website.\n",
    "\n",
    "The page doesn’t load the table immediately so there is a delay before scraping the data. Wait for the completion message before trying to use `df`."
   ]
  },
  {
   "cell_type": "code",
   "execution_count": 8,
   "id": "02330a9a-32ce-4488-9bd6-8cde8647fcfe",
   "metadata": {},
   "outputs": [
    {
     "name": "stdout",
     "output_type": "stream",
     "text": [
      "Webscraping complete.\n"
     ]
    }
   ],
   "source": [
    "for i in range (1, 8):\n",
    "    page_url = \"https://www.thepwhl.com/en/stats/player-stats/all-teams/5?sort=points&playertype=skater&position=skaters&rookie=no&statstype=expanded&page=\" + str(i) + \"&league=1\"\n",
    "    page_df = scrape_stats_page(page_url)\n",
    "    if (\"temp_df\" not in globals()):\n",
    "        temp_df = page_df\n",
    "    else:\n",
    "        temp_df = pd.concat([temp_df, page_df])\n",
    "df = temp_df\n",
    "del temp_df\n",
    "print(\"Webscraping complete.\")"
   ]
  },
  {
   "cell_type": "markdown",
   "id": "849f4c97-79ee-4593-93d2-925786439bd0",
   "metadata": {},
   "source": [
    "Then, do the same for each team’s player details page.\n",
    "\n",
    "The page doesn’t load the table immediately so there is a delay before scraping the data. Wait for the completion message before trying to use `det_df`."
   ]
  },
  {
   "cell_type": "code",
   "execution_count": 10,
   "id": "b5952248-5db8-4733-b7fd-10ebc379ef04",
   "metadata": {},
   "outputs": [
    {
     "name": "stdout",
     "output_type": "stream",
     "text": [
      "Webscraping complete.\n"
     ]
    }
   ],
   "source": [
    "for i in range (1, 7):\n",
    "    page_url = \"https://www.thepwhl.com/en/stats/roster/\" + str(i) + \"/5?league=1\"\n",
    "    page_df = scrape_stats_page(page_url)\n",
    "    if (\"temp_df\" not in globals()):\n",
    "        temp_df = page_df\n",
    "    else:\n",
    "        temp_df = pd.concat([temp_df, page_df])\n",
    "det_df = temp_df\n",
    "del temp_df\n",
    "print(\"Webscraping complete.\")"
   ]
  },
  {
   "cell_type": "markdown",
   "id": "8d3253d5-bd82-44d9-8159-da99c5dd461a",
   "metadata": {},
   "source": [
    "You should now have two dataframes, `df` and `det_df`, containing player statistics and details, respectively."
   ]
  },
  {
   "cell_type": "markdown",
   "id": "b4caf4ab-7027-4f59-bdc9-d74c0c878965",
   "metadata": {},
   "source": [
    "## Data cleaning and formatting\n",
    "\n",
    "First, give a name to each column. Then, and drop (remove) useless columns."
   ]
  },
  {
   "cell_type": "code",
   "execution_count": 13,
   "id": "ebce787c-549e-4c7b-956e-040b4f3cbf51",
   "metadata": {},
   "outputs": [],
   "source": [
    "# statistics dataframe\n",
    "df.columns = [\"rank\", \"status\", \"photo\", \"name\", \"position\",\n",
    "              \"team\", \"games played\", \"goals\", \"assists\", \"points\",\n",
    "              \"plus/minus\", \"penalty minutes\", \"power play goals\", \"power play assists\", \"short handed goals\",\n",
    "              \"shots\", \"short handed assists\", \"game winning goals\", \"first goals\", \"insurance goals\",\n",
    "              \"overtime goals\", \"unassisted goals\", \"empty net\", \"shooting percentage\", \"shootout goals\",\n",
    "              \"shots in shootouts\", \"shootout winning goals\", \"shootout percentage\", \"nothing\"]\n",
    "df.drop(columns=[\"photo\", \"nothing\", \"position\"], inplace=True) #photo and nothing are just blank spaces in the table; the photos are loaded separately\n",
    "                                                                #the position is covered by the details dataframe\n",
    "# details dataframe\n",
    "det_df.columns = [\"jersey number\", \"name\", \"position\", \"shoots\", \"date of birth\", \"hometown\", \"nothing\"]\n",
    "det_df.drop(columns=[\"nothing\"], inplace=True) #this one is just blank space in the table"
   ]
  },
  {
   "cell_type": "markdown",
   "id": "14d6e700-6b61-4c93-976d-02217cae2684",
   "metadata": {},
   "source": [
    "In the statistics table on the PWHL website, players who switched teams during the season have \" +\" after their name. The plus sign is used as a button to access the player’s statistics with each team. Remove these extra characters so each player’s name is identical in both dataframes."
   ]
  },
  {
   "cell_type": "code",
   "execution_count": 15,
   "id": "7b049d7d-8431-43ad-8439-87bbb66d17f6",
   "metadata": {},
   "outputs": [],
   "source": [
    "# Removing \" +\"\n",
    "df[\"name\"] = df[\"name\"].str.replace(\" +\", \"\")"
   ]
  },
  {
   "cell_type": "markdown",
   "id": "50802d59-2148-4422-9c95-653e0ed362ec",
   "metadata": {},
   "source": [
    "Blank lines from each dataframe prior to joining them. Otherwise, the lines with no data would all match each other and the resulting merged dataframe would contain thousands of rows."
   ]
  },
  {
   "cell_type": "code",
   "execution_count": 17,
   "id": "6aca5498-01d2-4608-abd9-c26483f10934",
   "metadata": {},
   "outputs": [],
   "source": [
    "df.dropna(inplace = True)\n",
    "det_df.dropna(inplace = True) #removing blank lines"
   ]
  },
  {
   "cell_type": "markdown",
   "id": "01e92295-0c11-4c7b-bff5-55569b5ace2b",
   "metadata": {},
   "source": [
    "You can now use the player names to join the dataframes."
   ]
  },
  {
   "cell_type": "code",
   "execution_count": 19,
   "id": "ad91f166-3b6b-4d8a-aa47-1535617c4271",
   "metadata": {},
   "outputs": [
    {
     "data": {
      "text/html": [
       "<div>\n",
       "<style scoped>\n",
       "    .dataframe tbody tr th:only-of-type {\n",
       "        vertical-align: middle;\n",
       "    }\n",
       "\n",
       "    .dataframe tbody tr th {\n",
       "        vertical-align: top;\n",
       "    }\n",
       "\n",
       "    .dataframe thead th {\n",
       "        text-align: right;\n",
       "    }\n",
       "</style>\n",
       "<table border=\"1\" class=\"dataframe\">\n",
       "  <thead>\n",
       "    <tr style=\"text-align: right;\">\n",
       "      <th></th>\n",
       "      <th>rank</th>\n",
       "      <th>status</th>\n",
       "      <th>name</th>\n",
       "      <th>team</th>\n",
       "      <th>games played</th>\n",
       "      <th>goals</th>\n",
       "      <th>assists</th>\n",
       "      <th>points</th>\n",
       "      <th>plus/minus</th>\n",
       "      <th>penalty minutes</th>\n",
       "      <th>...</th>\n",
       "      <th>shooting percentage</th>\n",
       "      <th>shootout goals</th>\n",
       "      <th>shots in shootouts</th>\n",
       "      <th>shootout winning goals</th>\n",
       "      <th>shootout percentage</th>\n",
       "      <th>jersey number</th>\n",
       "      <th>position</th>\n",
       "      <th>shoots</th>\n",
       "      <th>date of birth</th>\n",
       "      <th>hometown</th>\n",
       "    </tr>\n",
       "  </thead>\n",
       "  <tbody>\n",
       "    <tr>\n",
       "      <th>0</th>\n",
       "      <td>1</td>\n",
       "      <td>*</td>\n",
       "      <td>Sarah Fillier</td>\n",
       "      <td>NY</td>\n",
       "      <td>14</td>\n",
       "      <td>5</td>\n",
       "      <td>10</td>\n",
       "      <td>15</td>\n",
       "      <td>4</td>\n",
       "      <td>10</td>\n",
       "      <td>...</td>\n",
       "      <td>12.8</td>\n",
       "      <td>0</td>\n",
       "      <td>3</td>\n",
       "      <td>0</td>\n",
       "      <td>0.0</td>\n",
       "      <td>10</td>\n",
       "      <td>F</td>\n",
       "      <td>R</td>\n",
       "      <td>2000-06-09</td>\n",
       "      <td>Georgetown, ON</td>\n",
       "    </tr>\n",
       "    <tr>\n",
       "      <th>1</th>\n",
       "      <td>2</td>\n",
       "      <td></td>\n",
       "      <td>Kendall Coyne Schofield</td>\n",
       "      <td>MIN</td>\n",
       "      <td>15</td>\n",
       "      <td>6</td>\n",
       "      <td>8</td>\n",
       "      <td>14</td>\n",
       "      <td>8</td>\n",
       "      <td>2</td>\n",
       "      <td>...</td>\n",
       "      <td>13.0</td>\n",
       "      <td>0</td>\n",
       "      <td>0</td>\n",
       "      <td>0</td>\n",
       "      <td>0.0</td>\n",
       "      <td>26</td>\n",
       "      <td>F</td>\n",
       "      <td>L</td>\n",
       "      <td>1992-05-25</td>\n",
       "      <td>Palos Heights, IL</td>\n",
       "    </tr>\n",
       "    <tr>\n",
       "      <th>2</th>\n",
       "      <td>3</td>\n",
       "      <td></td>\n",
       "      <td>Taylor Heise</td>\n",
       "      <td>MIN</td>\n",
       "      <td>14</td>\n",
       "      <td>4</td>\n",
       "      <td>10</td>\n",
       "      <td>14</td>\n",
       "      <td>1</td>\n",
       "      <td>0</td>\n",
       "      <td>...</td>\n",
       "      <td>8.7</td>\n",
       "      <td>2</td>\n",
       "      <td>5</td>\n",
       "      <td>1</td>\n",
       "      <td>40.0</td>\n",
       "      <td>27</td>\n",
       "      <td>F</td>\n",
       "      <td>R</td>\n",
       "      <td>2000-03-17</td>\n",
       "      <td>Lake City, MN</td>\n",
       "    </tr>\n",
       "    <tr>\n",
       "      <th>3</th>\n",
       "      <td>4</td>\n",
       "      <td></td>\n",
       "      <td>Claire Thompson</td>\n",
       "      <td>MIN</td>\n",
       "      <td>15</td>\n",
       "      <td>3</td>\n",
       "      <td>11</td>\n",
       "      <td>14</td>\n",
       "      <td>2</td>\n",
       "      <td>4</td>\n",
       "      <td>...</td>\n",
       "      <td>16.7</td>\n",
       "      <td>1</td>\n",
       "      <td>2</td>\n",
       "      <td>1</td>\n",
       "      <td>50.0</td>\n",
       "      <td>42</td>\n",
       "      <td>D</td>\n",
       "      <td>L</td>\n",
       "      <td>1998-01-28</td>\n",
       "      <td>Toronto, ON</td>\n",
       "    </tr>\n",
       "    <tr>\n",
       "      <th>4</th>\n",
       "      <td>5</td>\n",
       "      <td></td>\n",
       "      <td>Hannah Miller</td>\n",
       "      <td>TOR</td>\n",
       "      <td>15</td>\n",
       "      <td>7</td>\n",
       "      <td>6</td>\n",
       "      <td>13</td>\n",
       "      <td>4</td>\n",
       "      <td>0</td>\n",
       "      <td>...</td>\n",
       "      <td>21.2</td>\n",
       "      <td>0</td>\n",
       "      <td>2</td>\n",
       "      <td>0</td>\n",
       "      <td>0.0</td>\n",
       "      <td>34</td>\n",
       "      <td>F</td>\n",
       "      <td>L</td>\n",
       "      <td>1996-02-16</td>\n",
       "      <td>North Vancouver, BC</td>\n",
       "    </tr>\n",
       "    <tr>\n",
       "      <th>...</th>\n",
       "      <td>...</td>\n",
       "      <td>...</td>\n",
       "      <td>...</td>\n",
       "      <td>...</td>\n",
       "      <td>...</td>\n",
       "      <td>...</td>\n",
       "      <td>...</td>\n",
       "      <td>...</td>\n",
       "      <td>...</td>\n",
       "      <td>...</td>\n",
       "      <td>...</td>\n",
       "      <td>...</td>\n",
       "      <td>...</td>\n",
       "      <td>...</td>\n",
       "      <td>...</td>\n",
       "      <td>...</td>\n",
       "      <td>...</td>\n",
       "      <td>...</td>\n",
       "      <td>...</td>\n",
       "      <td>...</td>\n",
       "      <td>...</td>\n",
       "    </tr>\n",
       "    <tr>\n",
       "      <th>135</th>\n",
       "      <td>136</td>\n",
       "      <td></td>\n",
       "      <td>Maddie Rooney</td>\n",
       "      <td>MIN</td>\n",
       "      <td>9</td>\n",
       "      <td>0</td>\n",
       "      <td>0</td>\n",
       "      <td>0</td>\n",
       "      <td>0</td>\n",
       "      <td>0</td>\n",
       "      <td>...</td>\n",
       "      <td>0.0</td>\n",
       "      <td>0</td>\n",
       "      <td>0</td>\n",
       "      <td>0</td>\n",
       "      <td>0.0</td>\n",
       "      <td>35</td>\n",
       "      <td>G</td>\n",
       "      <td>L</td>\n",
       "      <td>1997-07-07</td>\n",
       "      <td>Andover, MN</td>\n",
       "    </tr>\n",
       "    <tr>\n",
       "      <th>136</th>\n",
       "      <td>137</td>\n",
       "      <td></td>\n",
       "      <td>Ann-Renée Desbiens</td>\n",
       "      <td>MTL</td>\n",
       "      <td>10</td>\n",
       "      <td>0</td>\n",
       "      <td>0</td>\n",
       "      <td>0</td>\n",
       "      <td>0</td>\n",
       "      <td>2</td>\n",
       "      <td>...</td>\n",
       "      <td>0.0</td>\n",
       "      <td>0</td>\n",
       "      <td>0</td>\n",
       "      <td>0</td>\n",
       "      <td>0.0</td>\n",
       "      <td>35</td>\n",
       "      <td>G</td>\n",
       "      <td>L</td>\n",
       "      <td>1994-04-10</td>\n",
       "      <td>Clermont, QC</td>\n",
       "    </tr>\n",
       "    <tr>\n",
       "      <th>137</th>\n",
       "      <td>138</td>\n",
       "      <td></td>\n",
       "      <td>Aerin Frankel</td>\n",
       "      <td>BOS</td>\n",
       "      <td>10</td>\n",
       "      <td>0</td>\n",
       "      <td>0</td>\n",
       "      <td>0</td>\n",
       "      <td>0</td>\n",
       "      <td>0</td>\n",
       "      <td>...</td>\n",
       "      <td>0.0</td>\n",
       "      <td>0</td>\n",
       "      <td>0</td>\n",
       "      <td>0</td>\n",
       "      <td>0.0</td>\n",
       "      <td>31</td>\n",
       "      <td>G</td>\n",
       "      <td>L</td>\n",
       "      <td>1999-05-24</td>\n",
       "      <td>Chappaqua, NY</td>\n",
       "    </tr>\n",
       "    <tr>\n",
       "      <th>138</th>\n",
       "      <td>139</td>\n",
       "      <td></td>\n",
       "      <td>Corinne Schroeder</td>\n",
       "      <td>NY</td>\n",
       "      <td>10</td>\n",
       "      <td>0</td>\n",
       "      <td>0</td>\n",
       "      <td>0</td>\n",
       "      <td>0</td>\n",
       "      <td>0</td>\n",
       "      <td>...</td>\n",
       "      <td>0.0</td>\n",
       "      <td>0</td>\n",
       "      <td>0</td>\n",
       "      <td>0</td>\n",
       "      <td>0.0</td>\n",
       "      <td>30</td>\n",
       "      <td>G</td>\n",
       "      <td>L</td>\n",
       "      <td>1999-08-17</td>\n",
       "      <td>Elm Creek, MB</td>\n",
       "    </tr>\n",
       "    <tr>\n",
       "      <th>139</th>\n",
       "      <td>140</td>\n",
       "      <td></td>\n",
       "      <td>Hayley Scamurra</td>\n",
       "      <td>TOR</td>\n",
       "      <td>11</td>\n",
       "      <td>0</td>\n",
       "      <td>0</td>\n",
       "      <td>0</td>\n",
       "      <td>-1</td>\n",
       "      <td>6</td>\n",
       "      <td>...</td>\n",
       "      <td>0.0</td>\n",
       "      <td>0</td>\n",
       "      <td>1</td>\n",
       "      <td>0</td>\n",
       "      <td>0.0</td>\n",
       "      <td>16</td>\n",
       "      <td>F</td>\n",
       "      <td>L</td>\n",
       "      <td>1994-12-14</td>\n",
       "      <td>Buffalo, NY</td>\n",
       "    </tr>\n",
       "  </tbody>\n",
       "</table>\n",
       "<p>140 rows × 31 columns</p>\n",
       "</div>"
      ],
      "text/plain": [
       "    rank status                     name team games played goals assists  \\\n",
       "0      1      *            Sarah Fillier   NY           14     5      10   \n",
       "1      2         Kendall Coyne Schofield  MIN           15     6       8   \n",
       "2      3                    Taylor Heise  MIN           14     4      10   \n",
       "3      4                 Claire Thompson  MIN           15     3      11   \n",
       "4      5                   Hannah Miller  TOR           15     7       6   \n",
       "..   ...    ...                      ...  ...          ...   ...     ...   \n",
       "135  136                   Maddie Rooney  MIN            9     0       0   \n",
       "136  137              Ann-Renée Desbiens  MTL           10     0       0   \n",
       "137  138                   Aerin Frankel  BOS           10     0       0   \n",
       "138  139               Corinne Schroeder   NY           10     0       0   \n",
       "139  140                 Hayley Scamurra  TOR           11     0       0   \n",
       "\n",
       "    points plus/minus penalty minutes  ... shooting percentage shootout goals  \\\n",
       "0       15          4              10  ...                12.8              0   \n",
       "1       14          8               2  ...                13.0              0   \n",
       "2       14          1               0  ...                 8.7              2   \n",
       "3       14          2               4  ...                16.7              1   \n",
       "4       13          4               0  ...                21.2              0   \n",
       "..     ...        ...             ...  ...                 ...            ...   \n",
       "135      0          0               0  ...                 0.0              0   \n",
       "136      0          0               2  ...                 0.0              0   \n",
       "137      0          0               0  ...                 0.0              0   \n",
       "138      0          0               0  ...                 0.0              0   \n",
       "139      0         -1               6  ...                 0.0              0   \n",
       "\n",
       "    shots in shootouts shootout winning goals shootout percentage  \\\n",
       "0                    3                      0                 0.0   \n",
       "1                    0                      0                 0.0   \n",
       "2                    5                      1                40.0   \n",
       "3                    2                      1                50.0   \n",
       "4                    2                      0                 0.0   \n",
       "..                 ...                    ...                 ...   \n",
       "135                  0                      0                 0.0   \n",
       "136                  0                      0                 0.0   \n",
       "137                  0                      0                 0.0   \n",
       "138                  0                      0                 0.0   \n",
       "139                  1                      0                 0.0   \n",
       "\n",
       "    jersey number position shoots date of birth             hometown  \n",
       "0              10        F      R    2000-06-09       Georgetown, ON  \n",
       "1              26        F      L    1992-05-25    Palos Heights, IL  \n",
       "2              27        F      R    2000-03-17        Lake City, MN  \n",
       "3              42        D      L    1998-01-28          Toronto, ON  \n",
       "4              34        F      L    1996-02-16  North Vancouver, BC  \n",
       "..            ...      ...    ...           ...                  ...  \n",
       "135            35        G      L    1997-07-07          Andover, MN  \n",
       "136            35        G      L    1994-04-10         Clermont, QC  \n",
       "137            31        G      L    1999-05-24        Chappaqua, NY  \n",
       "138            30        G      L    1999-08-17        Elm Creek, MB  \n",
       "139            16        F      L    1994-12-14          Buffalo, NY  \n",
       "\n",
       "[140 rows x 31 columns]"
      ]
     },
     "execution_count": 19,
     "metadata": {},
     "output_type": "execute_result"
    }
   ],
   "source": [
    "skaters_df = df.merge(det_df, on=\"name\")\n",
    "skaters_df"
   ]
  },
  {
   "cell_type": "markdown",
   "id": "75cc3018-aa2e-4384-9f3b-3afd0b101a2f",
   "metadata": {},
   "source": [
    "On occasion, goaltenders may be awarded assists or even score goals. They are therefore included in skater rankings. However, their role on the ice and therefore their statistics greatly differ from that of other players. They are outliers in almost every aspect.\n",
    "\n",
    "For this reason, I chose to exclude goalies from the dataset."
   ]
  },
  {
   "cell_type": "code",
   "execution_count": 21,
   "id": "69bf7ec3-093f-418d-8fcc-b472b3c0147c",
   "metadata": {},
   "outputs": [],
   "source": [
    "skaters_df = skaters_df[skaters_df[\"position\"] != \"G\"] #removing goalies"
   ]
  },
  {
   "cell_type": "markdown",
   "id": "66c95902-a38d-4271-92c7-7ad26165605a",
   "metadata": {},
   "source": [
    "Then, edit a few textual values to make them clearer."
   ]
  },
  {
   "cell_type": "code",
   "execution_count": 23,
   "id": "787dd35a-b44f-41f9-9c49-5d3069d8cd35",
   "metadata": {},
   "outputs": [],
   "source": [
    "# The status column contains an asterisk for a rookie and an X for an inactive player\n",
    "# Changing them to words for clarity\n",
    "pd.options.mode.copy_on_write = True\n",
    "is_rookie = (skaters_df[\"status\"] == \"*\")\n",
    "is_inactive = (skaters_df[\"status\"] == \"x\")\n",
    "skaters_df.loc[is_rookie, \"status\"] = \"rookie\"\n",
    "skaters_df.loc[is_inactive, \"status\"] = \"inactive\""
   ]
  },
  {
   "cell_type": "code",
   "execution_count": 24,
   "id": "6d9848ba-a502-4fa7-a535-cd1dd080eb09",
   "metadata": {},
   "outputs": [],
   "source": [
    "# Boston gives more specific values for the position, like \"LW\" for \"left wing\" or \"C\" for \"center\"\n",
    "# Not retaining that information since the other teams just have \"F\" and \"D\"\n",
    "\n",
    "# Changing all position values to \"forward\" and \"defense\" for clarity\n",
    "pd.options.mode.copy_on_write = True\n",
    "forward = skaters_df[\"position\"].isin([\"F\", \"RW\", \"C\", \"LW\"])\n",
    "defense = skaters_df[\"position\"].isin([\"D\", \"RD\", \"LD\"])\n",
    "skaters_df.loc[forward, \"position\"] = \"forward\"\n",
    "skaters_df.loc[defense, \"position\"] = \"defense\""
   ]
  },
  {
   "cell_type": "code",
   "execution_count": 25,
   "id": "130cba86-17dd-48f0-926c-1e34a1abee37",
   "metadata": {},
   "outputs": [],
   "source": [
    "# Changing \"L\" and \"R\" in the \"shoots\" column to \"left\" and \"right\" for clarity\n",
    "pd.options.mode.copy_on_write = True\n",
    "left = (skaters_df[\"shoots\"] == \"L\")\n",
    "right = (skaters_df[\"shoots\"] == \"R\")\n",
    "skaters_df.loc[left, \"shoots\"] = \"left\"\n",
    "skaters_df.loc[right, \"shoots\"] = \"right\""
   ]
  },
  {
   "cell_type": "markdown",
   "id": "5650480d-e452-4e80-a5ad-b61deea92c30",
   "metadata": {},
   "source": [
    "The \"hometown\" column has each player’s hometown in the following format: `<town name>, <code>`. The code is that of the state, province or territory when in the United States and Canada. Otherwise, the code is that of the country."
   ]
  },
  {
   "cell_type": "code",
   "execution_count": 27,
   "id": "7634a672-3f9d-411f-b2a5-212c922d1928",
   "metadata": {},
   "outputs": [],
   "source": [
    "skaters_df[['hometown','hometown location']] = skaters_df[\"hometown\"].str.split(\", \", expand=True)"
   ]
  },
  {
   "cell_type": "markdown",
   "id": "eefe387e-93d8-4a9b-b063-7fc4bd9eca6a",
   "metadata": {},
   "source": [
    "The dataframe has a birthdate column. Use it to add an age column."
   ]
  },
  {
   "cell_type": "code",
   "execution_count": 29,
   "id": "265c8ff9-aef8-41a9-8c91-4af21bf108bb",
   "metadata": {},
   "outputs": [],
   "source": [
    "# function to return the age, in years, rounded down\n",
    "def calculate_age(birthdate_str):\n",
    "    birthdate = pd.to_datetime(birthdate_str)\n",
    "    today = pd.to_datetime('today')\n",
    "    age = today.year - birthdate.year - ((today.month, today.day) < (birthdate.month, birthdate.day))\n",
    "    return age\n",
    "# create a row for the age in years\n",
    "skaters_df[\"age\"] = skaters_df.apply(lambda row: calculate_age(row[\"date of birth\"]), axis = 1)"
   ]
  },
  {
   "cell_type": "code",
   "execution_count": 70,
   "id": "35c7767c-03d7-4684-9b96-55a71f4e5e1d",
   "metadata": {},
   "outputs": [],
   "source": [
    "#TODO\n",
    "#add home country column"
   ]
  },
  {
   "cell_type": "markdown",
   "id": "31330769-ba37-4cf7-a17d-2fe3fdb53a68",
   "metadata": {},
   "source": [
    "## Saving to CSV"
   ]
  },
  {
   "cell_type": "code",
   "execution_count": 49,
   "id": "cac82a38-e0c6-48c3-b594-424443d579dc",
   "metadata": {},
   "outputs": [],
   "source": [
    "skaters_df.to_csv(\"skater_stats.csv\", index=False)"
   ]
  },
  {
   "cell_type": "markdown",
   "id": "61bc1ad1-8054-4623-aa4c-de4e61325ed9",
   "metadata": {},
   "source": [
    "## Example visualization: points per rookie per team"
   ]
  },
  {
   "cell_type": "code",
   "execution_count": 51,
   "id": "fdde5ce5-db54-4f34-b688-45a6ed59fe9c",
   "metadata": {},
   "outputs": [],
   "source": [
    "# define team names, location, codes and colors\n",
    "teams = {\"BOS\": {\"name\": \"Fleet\", \"location\": \"Boston\", \"code\": \"BOS\", \"color\":\"#173f35\"},\n",
    "         \"MIN\": {\"name\": \"Frost\", \"location\": \"Minnesota\", \"code\": \"MIN\", \"color\":\"#251161\"},\n",
    "         \"MTL\": {\"name\": \"Victoire\", \"location\": \"Montréal\", \"code\": \"MTL\", \"color\":\"#832434\"},\n",
    "         \"NY\": {\"name\": \"Sirens\", \"location\": \"New York\", \"code\": \"NY\", \"color\":\"#00bcb5\"},\n",
    "         \"OTT\": {\"name\": \"Charge\", \"location\": \"Ottawa\", \"code\": \"OTT\", \"color\":\"#a3142f\"},\n",
    "         \"TOR\": {\"name\": \"Sceptres\", \"location\": \"Toronto\", \"code\": \"TOR\", \"color\":\"#1869b7\"}}"
   ]
  },
  {
   "cell_type": "code",
   "execution_count": 64,
   "id": "976444b4-84f0-40c4-8390-21b418ff8a13",
   "metadata": {},
   "outputs": [],
   "source": [
    "# converting points to numeric format\n",
    "skaters_df[\"points\"] = pd.to_numeric(skaters_df[\"points\"])"
   ]
  },
  {
   "cell_type": "code",
   "execution_count": 66,
   "id": "d1aa9e9e-9c5e-4180-9bb3-3a38f58ea6be",
   "metadata": {},
   "outputs": [
    {
     "data": {
      "text/html": [
       "<div>\n",
       "<style scoped>\n",
       "    .dataframe tbody tr th:only-of-type {\n",
       "        vertical-align: middle;\n",
       "    }\n",
       "\n",
       "    .dataframe tbody tr th {\n",
       "        vertical-align: top;\n",
       "    }\n",
       "\n",
       "    .dataframe thead th {\n",
       "        text-align: right;\n",
       "    }\n",
       "</style>\n",
       "<table border=\"1\" class=\"dataframe\">\n",
       "  <thead>\n",
       "    <tr style=\"text-align: right;\">\n",
       "      <th></th>\n",
       "      <th>team</th>\n",
       "      <th>points per rookie</th>\n",
       "    </tr>\n",
       "  </thead>\n",
       "  <tbody>\n",
       "    <tr>\n",
       "      <th>0</th>\n",
       "      <td>BOS</td>\n",
       "      <td>4.250000</td>\n",
       "    </tr>\n",
       "    <tr>\n",
       "      <th>1</th>\n",
       "      <td>MIN</td>\n",
       "      <td>2.375000</td>\n",
       "    </tr>\n",
       "    <tr>\n",
       "      <th>2</th>\n",
       "      <td>MTL</td>\n",
       "      <td>4.600000</td>\n",
       "    </tr>\n",
       "    <tr>\n",
       "      <th>3</th>\n",
       "      <td>NY</td>\n",
       "      <td>5.166667</td>\n",
       "    </tr>\n",
       "    <tr>\n",
       "      <th>4</th>\n",
       "      <td>OTT</td>\n",
       "      <td>3.666667</td>\n",
       "    </tr>\n",
       "    <tr>\n",
       "      <th>5</th>\n",
       "      <td>TOR</td>\n",
       "      <td>1.833333</td>\n",
       "    </tr>\n",
       "  </tbody>\n",
       "</table>\n",
       "</div>"
      ],
      "text/plain": [
       "  team  points per rookie\n",
       "0  BOS           4.250000\n",
       "1  MIN           2.375000\n",
       "2  MTL           4.600000\n",
       "3   NY           5.166667\n",
       "4  OTT           3.666667\n",
       "5  TOR           1.833333"
      ]
     },
     "execution_count": 66,
     "metadata": {},
     "output_type": "execute_result"
    }
   ],
   "source": [
    "def points_per_rookie(df, team_code):\n",
    "    rookie_points = (df[(df[\"status\"] == \"rookie\") & (df[\"team\"] == team_code)])[\"points\"] #only keeps the rookies from the specified team\n",
    "    return rookie_points.sum() / rookie_points.count() # total points divided by number of rookies\n",
    "\n",
    "colors = []\n",
    "pprookie_data = []\n",
    "\n",
    "# creating the colors and pprookie_data lists\n",
    "for team, details in teams.items():\n",
    "    pprookie_data.append((team, points_per_rookie(skaters_df, team)))\n",
    "    colors.append(details[\"color\"])\n",
    "\n",
    "# turning the pprookie_data list into a DataFrame\n",
    "pprookie_df = pd.DataFrame(pprookie_data)\n",
    "# naming the columns\n",
    "pprookie_df.columns = [\"team\", \"points per rookie\"]\n",
    "pprookie_df"
   ]
  },
  {
   "cell_type": "code",
   "execution_count": 68,
   "id": "c4340d82-83e4-47d1-b3dc-205c7e97d887",
   "metadata": {},
   "outputs": [
    {
     "data": {
      "image/png": "[encoded data removed]",
      "text/plain": [
       "<Figure size 640x480 with 1 Axes>"
      ]
     },
     "metadata": {},
     "output_type": "display_data"
    }
   ],
   "source": [
    "pprookie_df.plot.bar(x=\"team\", y=\"points per rookie\", color=colors, title=\"Points per rookie in the 2024-2025 season\", legend=None)\n",
    "plt.show()"
   ]
  },
  {
   "cell_type": "markdown",
   "id": "a028e795-8134-4b1a-b566-e1a751736e3e",
   "metadata": {},
   "source": [
    "## Notes\n",
    "\n",
    "* The number of rows in the output file may vary as players may join the league during the season.\n",
    "* The highest player rank may be higher than the number of rows in the CSV file as goalies may also score points and obtain a rank, but are removed from this dataset."
   ]
  }
 ],
 "metadata": {
  "kernelspec": {
   "display_name": "Python [conda env:base] *",
   "language": "python",
   "name": "conda-base-py"
  },
  "language_info": {
   "codemirror_mode": {
    "name": "ipython",
    "version": 3
   },
   "file_extension": ".py",
   "mimetype": "text/x-python",
   "name": "python",
   "nbconvert_exporter": "python",
   "pygments_lexer": "ipython3",
   "version": "3.11.7"
  }
 },
 "nbformat": 4,
 "nbformat_minor": 5
}
