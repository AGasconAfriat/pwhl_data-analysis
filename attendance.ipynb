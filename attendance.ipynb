{
 "cells": [
  {
   "cell_type": "markdown",
   "id": "e99e71cd-9868-4173-b602-8fb25a783a3c",
   "metadata": {},
   "source": [
    "# PWHL Attendance\n",
    "\n",
    "## Overview\n",
    "\n",
    "As women’s sports gain popularity, I am interested in the evolution of game attendance over time. I am particularly interested in the case of the Professional Women’s Hockey League (PWHL).\n",
    "\n",
    "## Introduction\n",
    "\n",
    "I had the chance to witness the Montreal Victoire’s first home game, on January 13, 2024. The team did not have a name yet and was simply referred to as \"PWHL Montreal\". The game was held at the Verdun auditorium, the 4114-seat venue where the Victoire trains. The ambiance was amazing.\n",
    "\n",
    "While the Victoire still trains in Verdun, the team now holds all of its regular home matches in a bigger venue, Place Bell, which can accomodate 10,062 spectators.\n",
    "\n",
    "As women’s hockey gains popularity and athletes are getting paid full-time salaries to train together, we are seeing a higher level of play than ever before. I hope the attendance numbers will be maintained over time or even grow, ensuring the PWHL’s future and setting an example which, I hope, will lead to better funding for women’s sports and high level female athletes flourishing.\n",
    "\n",
    "## Dataset\n",
    "\n",
    "### Data source\n",
    "\n",
    "The PWHL’s website’s [schedule page](https://www.thepwhl.com/en/stats/schedule/all-teams/5/all-months) lists all games for the current season in a table.\n",
    "\n",
    "![the top of a table titled Schedule and listing the date, time, teams, scores, venues and broadcasters for PWHL games](./img/2025-04-07_ScheduleTable.png)"
   ]
  },
  {
   "cell_type": "markdown",
   "id": "6bd83bb0-e08d-4661-9fc1-1d23757c4007",
   "metadata": {},
   "source": [
    "The R button at the end of each line leads to a webpage containing an official game report which specifies, among other things, the venue, date, teams and attendance.\n",
    "\n",
    "The current season is selected by default but it is possible to obtain the same table for past seasons.\n",
    "\n",
    "It is therefore possible to use the webpage to get a list of URLs corresponding to game reports for all of a season’s games. Then, information can be collected from each of the reports, which appear to all be formatted in the same way."
   ]
  },
  {
   "cell_type": "markdown",
   "id": "8f1a4780-34d4-4644-9ae4-ecd2398728d7",
   "metadata": {},
   "source": [
    "### Data scraping\n",
    "\n",
    "I scraped a list of game report links from each season’s webpage. Then, I scraped the following information from each report, storing it in a DataFrame: visiting team, home team, venue, date, game start and attendance."
   ]
  },
  {
   "cell_type": "code",
   "execution_count": 1,
   "id": "92637b63-5a78-476a-bc43-0b2626a73eaf",
   "metadata": {},
   "outputs": [],
   "source": [
    "import pandas as pd\n",
    "from selenium import webdriver\n",
    "from selenium.webdriver.common.by import By\n",
    "from selenium.webdriver.support.ui import WebDriverWait\n",
    "from selenium.webdriver.support import expected_conditions as EC"
   ]
  },
  {
   "cell_type": "code",
   "execution_count": 41,
   "id": "084db77a-c51f-4f60-9dc7-482d47a4166e",
   "metadata": {},
   "outputs": [],
   "source": [
    "game_report_urls = []\n",
    "\n",
    "def scrape_game_report_urls(url):\n",
    "    game_report_urls = []\n",
    "    # set up the WebDriver\n",
    "    driver = webdriver.Edge() #EDIT THIS LINE if not using Edge <<<<<<<<<<<<<<<<<<<< IMPORTANT <<<<<<<<<<<<<<<<<<<<\n",
    "    # open the webpage\n",
    "    driver.get(url)\n",
    "    # wait for the table to load\n",
    "    try:\n",
    "        table = WebDriverWait(driver, 2).until(\n",
    "            EC.presence_of_element_located((By.XPATH, '//table'))\n",
    "        )\n",
    "        all_links = driver.find_elements(By.XPATH, \"//a[@href]\")\n",
    "        for link in all_links:\n",
    "            link_url = link.get_attribute(\"href\")\n",
    "            if \"official-game-report\" in link_url:\n",
    "                game_report_urls.append(link_url)\n",
    "    finally:\n",
    "        driver.quit()\n",
    "    return game_report_urls\n",
    "\n",
    "for i in range(1, 6): # currently, there are 5 seasons\n",
    "    game_report_urls.extend(scrape_game_report_urls(\"https://www.thepwhl.com/en/stats/schedule/all-teams/\" + str(i) + \"/all-months\"))"
   ]
  },
  {
   "cell_type": "code",
   "execution_count": 42,
   "id": "7c25136b-b845-4c2c-92b1-b21599f0154f",
   "metadata": {},
   "outputs": [
    {
     "data": {
      "text/plain": [
       "['https://lscluster.hockeytech.com/game_reports/official-game-report.php?client_code=pwhl&game_id=2&lang_id=1',\n",
       " 'https://lscluster.hockeytech.com/game_reports/official-game-report.php?client_code=pwhl&game_id=3&lang_id=1',\n",
       " 'https://lscluster.hockeytech.com/game_reports/official-game-report.php?client_code=pwhl&game_id=4&lang_id=1',\n",
       " 'https://lscluster.hockeytech.com/game_reports/official-game-report.php?client_code=pwhl&game_id=5&lang_id=1',\n",
       " 'https://lscluster.hockeytech.com/game_reports/official-game-report.php?client_code=pwhl&game_id=6&lang_id=1']"
      ]
     },
     "execution_count": 42,
     "metadata": {},
     "output_type": "execute_result"
    }
   ],
   "source": [
    "game_report_urls[0:5]"
   ]
  },
  {
   "cell_type": "markdown",
   "id": "7fe62c69-4e04-4215-95c1-4db20994e37e",
   "metadata": {},
   "source": [
    "Now that I have the URL for each report, I want to extract specific information: visiting team, home team, venue, date, game start and attendance."
   ]
  },
  {
   "cell_type": "code",
   "execution_count": 52,
   "id": "d90b64aa-8e71-4a0d-bf6e-bc54967ab7a9",
   "metadata": {},
   "outputs": [],
   "source": [
    "import requests \n",
    "from bs4 import BeautifulSoup as bs \n",
    "r = requests.get('https://lscluster.hockeytech.com/game_reports/official-game-report.php?client_code=pwhl&game_id=6&lang_id=1') \n",
    "# convert to beautiful soup \n",
    "soup = bs(r.content)"
   ]
  },
  {
   "cell_type": "code",
   "execution_count": 54,
   "id": "4014ee79-e053-42de-ae16-715c6bde93c9",
   "metadata": {},
   "outputs": [],
   "source": [
    "game_info = {}"
   ]
  },
  {
   "cell_type": "code",
   "execution_count": 72,
   "id": "184ab655-9e84-4237-a7a5-46a909895005",
   "metadata": {},
   "outputs": [
    {
     "name": "stderr",
     "output_type": "stream",
     "text": [
      "C:\\Users\\agaco\\AppData\\Local\\Temp\\ipykernel_22240\\265662422.py:2: FutureWarning: Passing literal html to 'read_html' is deprecated and will be removed in a future version. To read from a literal string, wrap it in a 'StringIO' object.\n",
      "  game_data = pd.read_html(str(table))[0]\n"
     ]
    },
    {
     "data": {
      "text/html": [
       "<div>\n",
       "<style scoped>\n",
       "    .dataframe tbody tr th:only-of-type {\n",
       "        vertical-align: middle;\n",
       "    }\n",
       "\n",
       "    .dataframe tbody tr th {\n",
       "        vertical-align: top;\n",
       "    }\n",
       "\n",
       "    .dataframe thead th {\n",
       "        text-align: right;\n",
       "    }\n",
       "</style>\n",
       "<table border=\"1\" class=\"dataframe\">\n",
       "  <thead>\n",
       "    <tr style=\"text-align: right;\">\n",
       "      <th></th>\n",
       "      <th>0</th>\n",
       "      <th>1</th>\n",
       "      <th>2</th>\n",
       "      <th>3</th>\n",
       "      <th>4</th>\n",
       "    </tr>\n",
       "  </thead>\n",
       "  <tbody>\n",
       "    <tr>\n",
       "      <th>0</th>\n",
       "      <td>NaN</td>\n",
       "      <td>PWHL Game #2 Ottawa 3 at Montréal 4  Place Bel...</td>\n",
       "      <td>Referee:Beatrice Fortin (26) Jack Hennigan (44...</td>\n",
       "      <td>Three Stars:  1. MTL - M. Poulin  2. OTT - E. ...</td>\n",
       "      <td>Game Start: 5:18 PM EST Game End: 7:47 PM Game...</td>\n",
       "    </tr>\n",
       "    <tr>\n",
       "      <th>1</th>\n",
       "      <td>Referee:</td>\n",
       "      <td>Beatrice Fortin (26) Jack Hennigan (44)</td>\n",
       "      <td>NaN</td>\n",
       "      <td>NaN</td>\n",
       "      <td>NaN</td>\n",
       "    </tr>\n",
       "    <tr>\n",
       "      <th>2</th>\n",
       "      <td>linespersons:</td>\n",
       "      <td>Ali Beres (67) Laura Gutauskas (68)</td>\n",
       "      <td>NaN</td>\n",
       "      <td>NaN</td>\n",
       "      <td>NaN</td>\n",
       "    </tr>\n",
       "    <tr>\n",
       "      <th>3</th>\n",
       "      <td>NaN</td>\n",
       "      <td>NaN</td>\n",
       "      <td>NaN</td>\n",
       "      <td>NaN</td>\n",
       "      <td>NaN</td>\n",
       "    </tr>\n",
       "    <tr>\n",
       "      <th>4</th>\n",
       "      <td>Game Start:</td>\n",
       "      <td>5:18 PM EST</td>\n",
       "      <td>NaN</td>\n",
       "      <td>NaN</td>\n",
       "      <td>NaN</td>\n",
       "    </tr>\n",
       "    <tr>\n",
       "      <th>5</th>\n",
       "      <td>Game End:</td>\n",
       "      <td>7:47 PM</td>\n",
       "      <td>NaN</td>\n",
       "      <td>NaN</td>\n",
       "      <td>NaN</td>\n",
       "    </tr>\n",
       "    <tr>\n",
       "      <th>6</th>\n",
       "      <td>Game Length:</td>\n",
       "      <td>2:29</td>\n",
       "      <td>NaN</td>\n",
       "      <td>NaN</td>\n",
       "      <td>NaN</td>\n",
       "    </tr>\n",
       "    <tr>\n",
       "      <th>7</th>\n",
       "      <td>Attendance:</td>\n",
       "      <td>10033</td>\n",
       "      <td>NaN</td>\n",
       "      <td>NaN</td>\n",
       "      <td>NaN</td>\n",
       "    </tr>\n",
       "  </tbody>\n",
       "</table>\n",
       "</div>"
      ],
      "text/plain": [
       "               0                                                  1  \\\n",
       "0            NaN  PWHL Game #2 Ottawa 3 at Montréal 4  Place Bel...   \n",
       "1       Referee:            Beatrice Fortin (26) Jack Hennigan (44)   \n",
       "2  linespersons:                Ali Beres (67) Laura Gutauskas (68)   \n",
       "3            NaN                                                NaN   \n",
       "4    Game Start:                                        5:18 PM EST   \n",
       "5      Game End:                                            7:47 PM   \n",
       "6   Game Length:                                               2:29   \n",
       "7    Attendance:                                              10033   \n",
       "\n",
       "                                                   2  \\\n",
       "0  Referee:Beatrice Fortin (26) Jack Hennigan (44...   \n",
       "1                                                NaN   \n",
       "2                                                NaN   \n",
       "3                                                NaN   \n",
       "4                                                NaN   \n",
       "5                                                NaN   \n",
       "6                                                NaN   \n",
       "7                                                NaN   \n",
       "\n",
       "                                                   3  \\\n",
       "0  Three Stars:  1. MTL - M. Poulin  2. OTT - E. ...   \n",
       "1                                                NaN   \n",
       "2                                                NaN   \n",
       "3                                                NaN   \n",
       "4                                                NaN   \n",
       "5                                                NaN   \n",
       "6                                                NaN   \n",
       "7                                                NaN   \n",
       "\n",
       "                                                   4  \n",
       "0  Game Start: 5:18 PM EST Game End: 7:47 PM Game...  \n",
       "1                                                NaN  \n",
       "2                                                NaN  \n",
       "3                                                NaN  \n",
       "4                                                NaN  \n",
       "5                                                NaN  \n",
       "6                                                NaN  \n",
       "7                                                NaN  "
      ]
     },
     "execution_count": 72,
     "metadata": {},
     "output_type": "execute_result"
    }
   ],
   "source": [
    "table = soup.select('table')[0]\n",
    "game_data = pd.read_html(str(table))[0]\n",
    "game_data"
   ]
  },
  {
   "cell_type": "code",
   "execution_count": 86,
   "id": "899e08d1-2508-46c5-aa3e-6d7ab7ce3fea",
   "metadata": {},
   "outputs": [
    {
     "name": "stderr",
     "output_type": "stream",
     "text": [
      "C:\\Users\\agaco\\AppData\\Local\\Temp\\ipykernel_22240\\299409350.py:4: FutureWarning: Passing literal html to 'read_html' is deprecated and will be removed in a future version. To read from a literal string, wrap it in a 'StringIO' object.\n",
      "  game_data = pd.read_html(str(table))[0]\n"
     ]
    },
    {
     "data": {
      "text/plain": [
       "{'visiting team': 'testOtt',\n",
       " 'home team': 'testMtl',\n",
       " 'venue': 'testPBell',\n",
       " 'date': 'testDate',\n",
       " 'game start': '2:15 PM EST',\n",
       " 'attendance': '8089'}"
      ]
     },
     "execution_count": 86,
     "metadata": {},
     "output_type": "execute_result"
    }
   ],
   "source": [
    "r = requests.get('https://lscluster.hockeytech.com/game_reports/official-game-report.php?client_code=pwhl&game_id=105&lang_id=1') \n",
    "soup = bs(r.content)\n",
    "table = soup.select('table')[0]\n",
    "game_data = pd.read_html(str(table))[0]\n",
    "game_info[\"visiting team\"] = \"testOtt\"\n",
    "game_info[\"home team\"] = \"testMtl\"\n",
    "game_info[\"venue\"] = \"testPBell\"\n",
    "game_info[\"date\"] = \"testDate\"\n",
    "game_info[\"game start\"] = game_data.iloc[4][1]\n",
    "game_info[\"attendance\"] = game_data.iloc[7][1]\n",
    "game_info"
   ]
  },
  {
   "cell_type": "code",
   "execution_count": 87,
   "id": "b69179ba-8cbc-44bd-8052-4e6883fe01de",
   "metadata": {},
   "outputs": [
    {
     "data": {
      "text/plain": [
       "'PWHL Game #1 Boston 1 at Toronto 3  Coca-Cola Coliseum Nov 30, 2024'"
      ]
     },
     "execution_count": 87,
     "metadata": {},
     "output_type": "execute_result"
    }
   ],
   "source": [
    "game_data.iloc[0][1]"
   ]
  },
  {
   "cell_type": "markdown",
   "id": "82230b00-a472-4a1b-905a-17993605fb8a",
   "metadata": {},
   "source": [
    "TODO:\n",
    "\n",
    "- Add day of the week and seat capacity to df\n",
    "- Add column specifying if the local NHL team is playing that day to df\n",
    "- Check if I can find attendance records for the CWHL (prior women’s hockey league) for comparison"
   ]
  },
  {
   "cell_type": "code",
   "execution_count": null,
   "id": "7b374fdb-c813-477e-b8a2-099ac3c87225",
   "metadata": {},
   "outputs": [],
   "source": []
  }
 ],
 "metadata": {
  "kernelspec": {
   "display_name": "Python [conda env:base] *",
   "language": "python",
   "name": "conda-base-py"
  },
  "language_info": {
   "codemirror_mode": {
    "name": "ipython",
    "version": 3
   },
   "file_extension": ".py",
   "mimetype": "text/x-python",
   "name": "python",
   "nbconvert_exporter": "python",
   "pygments_lexer": "ipython3",
   "version": "3.11.7"
  }
 },
 "nbformat": 4,
 "nbformat_minor": 5
}
