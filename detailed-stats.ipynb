{
 "cells": [
  {
   "cell_type": "markdown",
   "id": "67a7bd2b-30e9-47e5-8baf-bb3154e35533",
   "metadata": {},
   "source": [
    "# Detailed Statistics\n",
    "\n",
    "## Overview\n",
    "\n",
    "I previously created a interactive dashboard displaying several statistics about PWHL players. The scripts necessary to obtain the data it requires and run it, `step1_get_stats.py` and `step2_run_dashboard.py`, are available in this repository.\n",
    "\n",
    "![The upper part of an interactive dashboard titled \"PWHL Player Statistics\", showing charts aggregating statictics about each of the six teams’ players](./visual_samples/2025-03-16_currentseason_top.png)\n",
    "\n",
    "It was very interesting to look at these aggregated statistics and I learned more about the league and each of its teams, I would like to create a dashboard to display detailed statistics about my favorite players and their evolution over time.\n",
    "\n",
    "This notebook will document the preparation process for the creation of this new dashboard.\n",
    "\n",
    "## Exploring the PWHL website\n",
    "\n",
    "### Webpage overview\n",
    "\n",
    "I am interested about getting specific stats about players and their contribution to each match. Each player has a page like [this one](https://www.thepwhl.com/en/stats/player/31/5), with a very useful table at the end:\n",
    "\n",
    "![A table showing statistics for Marie-Philip Poulin, with each row representing a game from the 2024-2025 season](./img/2025-04-06_PlayerStatsTable.png)"
   ]
  },
  {
   "cell_type": "markdown",
   "id": "5e91c77f-e715-4789-aae2-5bafb21853ce",
   "metadata": {},
   "source": [
    "Each player’s page shows a photo of them along with various data points such as their position, height and birthdate.\n",
    "\n",
    "Underneath is a biography section which may or may not contain text, typically a list of hockey-related achievements.\n",
    "\n",
    "Underneath are several tables. First, under the \"FirstName LastName Player Stats\" subtitle, are two tables containing summary statistics for the regular and playoffs seasons the player participated in, if any. These table are absent if they would be empty. Then, under the \"FirstName LastName Game by Game\" subtitle, the game by game table, which is present even if empty.\n",
    "\n",
    "### URL\n",
    "\n",
    "Each player’s URL looks like this: `https://www.thepwhl.com/en/stats/player/1/` The number of course changes depending on the player. Numbers between 1 and 233 are assigned. Inputting an out of range number will result in a webpage displaying \"NO DATA WAS FOUND\".\n",
    "\n",
    "A number can be added to the end of the URL to pull statistics from an earlier season (ex.: `https://www.thepwhl.com/en/stats/player/1/1`). If attempting to pull information from a season the player did not participate in, the page will default to displaying statistics for the current season.\n",
    "\n",
    "### Seasons\n",
    "\n",
    "There is no summary table for preseasons.\n",
    "\n",
    "Above the game by game table is a dropdown menu listing the seasons the player participated in.\n",
    "\n",
    "Certain players (ex.: [Nikki Nightengale](https://www.thepwhl.com/en/stats/player/120)) have no statistics. This appears to be because they are reserve players who have yet to play in an official PWHL game.\n",
    "\n",
    "### Available data\n",
    "\n",
    "The game by game table for a skater has the following columns:\n",
    "\n",
    "- **Game**, indicating which two teams played and where. For example, `OTT @ MTL` indicates that the Ottawa and Montreal team played on Montreal’s ice.\n",
    "- **Date**, in the `YYYY-MM-DD` format.\n",
    "- **G**, for the number of goals scored by the player.\n",
    "- **A**, for their number of assists.\n",
    "- **PTS**, for the number of points they obtained.\n",
    "- **+/-**, for the plus-minus, which corresponds to the difference between the number of goals scored by their team and the number of goals scored by the opposing team while the player was on the ice.\n",
    "- **Shots**, for number of shots to the goal the skater made. Solely shots that were goals or would have been if not blocked/deviated are counted. Shots that hit a pole or missed the goal are not counted.\n",
    "- **PIM**, for their penalty minutes.\n",
    "- **FO**, for their number of faceoffs.\n",
    "- **WF%**, for their won faceoffs percentage. If the player did not participate in any faceoffs during the game, this value is set to 0.\n",
    "- **PPG**, or \"power play goals\", for the number of goals scored by the skater while their team had more players on the ice than the opposing team.\n",
    "- **SHG**, or \"short handed goals\", for the number of goals scored by the skater while their team had less players on the ice than the opposing team.\n",
    "- **GWG**, or \"game winning goals\", TODO check the PWHL’s definition of this since it may vary per league\n",
    "- **SOG**, or \"shootout goals\", TODO\n",
    "- **SOA**, or \"shootout attempts\", TODO\n",
    "- **TOI**, for the time they spent on the ice, in the `MM:SS` format.\n",
    "- **Hits**, for the number of body checks the skater delivered to an opponent in possession of the puck.\n",
    "\n",
    "The game by game table for a goalie has the following columns:\n",
    "\n",
    "- **Game**, same as above.\n",
    "- **Date**, same as above.\n",
    "- **Min**, for the \"minutes played\", equivalent to *TOI* above.\n",
    "- **SA**, or \"shots against\", for the number of shots to the goal (calculated as stated above for the *Shots* column) while the goalie was on the ice.\n",
    "- **GA**, or \"goals against\", for the number of these shots that were goals for the opposing team.\n",
    "- **SVS**, or \"saves\", corresponding to the difference between *SA* and *GA*.\n",
    "- **W**, or \"wins\", 1 if the game was won by the goalie’s team, 0 otherwise.\n",
    "- **L**, or \"loss\", 1 if the game was loss by the goalie’s team during regular time, 0 otherwise.\n",
    "- **OT**, or \"overtime loss\", 1 if the game was loss by the goalie’s team during overtime, 0 otherwise.\n",
    "- **SOL**, or \"shootout loss\", 1 if the game was loss by the goalie’s team during shootouts, 0 otherwise\n",
    "- **GAA**, or \"goals against average\", the amount of goals against per hour on the ice\n",
    "- **SV%**, or \"save percentage\", for the ratio between the shots (*SA*) and saves (*SVS*). Despite the label indicating that this is a percentage, it is formatted as a decimal greater than 0 and lower or equal to 1.\n",
    "- **SO**, or \"shotout\", 0 if any goal was scored againt the goalie (*GA*), 1 otherwise.\n",
    "- **G**, same as above.\n",
    "- **A**, same as above.\n",
    "- **PIM**, same as above.\n",
    "\n",
    "NOTE 1: In cases where the goalie was changed during the match, only one goalie, the \"main goalie\" for the match gets a 1 in the *W*, *L*, *OT* or *SOL* column. It is therefore possible for the total of these columns to be lower than the amount of games played. TODO check how the leagues determine which goalie gets the 1.\n",
    "\n",
    "NOTE 2: In cases where a goalie was not the \"main goalie\" for a match, the *SO* value will be 0 even if no goal was scored against the goalie."
   ]
  },
  {
   "cell_type": "markdown",
   "id": "b4534f2c-10b0-48e7-9181-c2f3559b24a1",
   "metadata": {},
   "source": [
    "## Setup"
   ]
  },
  {
   "cell_type": "code",
   "execution_count": 2,
   "id": "ad5743f1-ae72-4351-a4d7-d48bbd2899d0",
   "metadata": {},
   "outputs": [],
   "source": [
    "import pandas as pd\n",
    "import matplotlib.pyplot as plt\n",
    "import numpy as np\n",
    "from selenium import webdriver\n",
    "from selenium.webdriver.common.by import By\n",
    "from selenium.webdriver.support.ui import WebDriverWait\n",
    "from selenium.webdriver.support import expected_conditions as EC"
   ]
  },
  {
   "cell_type": "markdown",
   "id": "344e27dc-3199-4f22-be9c-5c48bce8be39",
   "metadata": {},
   "source": [
    "## Statistics for one skater\n",
    "\n",
    "I plan to create a dashboard that will have a dropdown menu to select a specific players. There will be three versions of the dashboard: one for forward players, one for defense players and one for goalies.\n",
    "\n",
    "I decided to go with my favorite defense player first: Erin Ambrose. She plays for the Montreal Victoire and has participated in every PWHL season so far."
   ]
  },
  {
   "cell_type": "markdown",
   "id": "a058ec40-49d1-4676-b2fd-70542847b2a1",
   "metadata": {},
   "source": [
    "### Webscraping\n",
    "\n",
    "Like the other statistics pages on the PWHL website, her page loads without the table, and then it load the table, so I will need to use WebDriver.\n",
    "\n",
    "I used it in my script `step1_get_stats.py`, so let’s look at the function I was using and give it Ambrose’s page’s URL:"
   ]
  },
  {
   "cell_type": "code",
   "execution_count": 13,
   "id": "3b77a12e-c2bc-4edf-b0a6-a1cbdd82e424",
   "metadata": {},
   "outputs": [],
   "source": [
    "def scrape_stats_page(url):\n",
    "    # set up the WebDriver\n",
    "    driver = webdriver.Edge() #EDIT THIS LINE if not using Edge <<<<<<<<<<<<<<<<<<<< IMPORTANT <<<<<<<<<<<<<<<<<<<<\n",
    "    # open the webpage\n",
    "    driver.get(url)\n",
    "    # wait for the table to load\n",
    "    try:\n",
    "        table = WebDriverWait(driver, 2).until(\n",
    "            EC.presence_of_element_located((By.XPATH, '//table'))\n",
    "        )\n",
    "        rows = table.find_elements(By.TAG_NAME, 'tr')\n",
    "        data = []\n",
    "        for row in rows:\n",
    "            cols = row.find_elements(By.TAG_NAME, 'td')\n",
    "            data.append([col.text for col in cols])\n",
    "        df = pd.DataFrame(data)\n",
    "    finally:\n",
    "        driver.quit()\n",
    "    return df"
   ]
  },
  {
   "cell_type": "code",
   "execution_count": 17,
   "id": "c192d724-da27-4e6a-af33-ea2c2695db41",
   "metadata": {},
   "outputs": [
    {
     "data": {
      "text/html": [
       "<div>\n",
       "<style scoped>\n",
       "    .dataframe tbody tr th:only-of-type {\n",
       "        vertical-align: middle;\n",
       "    }\n",
       "\n",
       "    .dataframe tbody tr th {\n",
       "        vertical-align: top;\n",
       "    }\n",
       "\n",
       "    .dataframe thead th {\n",
       "        text-align: right;\n",
       "    }\n",
       "</style>\n",
       "<table border=\"1\" class=\"dataframe\">\n",
       "  <thead>\n",
       "    <tr style=\"text-align: right;\">\n",
       "      <th></th>\n",
       "      <th>0</th>\n",
       "      <th>1</th>\n",
       "      <th>2</th>\n",
       "      <th>3</th>\n",
       "      <th>4</th>\n",
       "      <th>5</th>\n",
       "      <th>6</th>\n",
       "      <th>7</th>\n",
       "      <th>8</th>\n",
       "      <th>9</th>\n",
       "      <th>10</th>\n",
       "      <th>11</th>\n",
       "      <th>12</th>\n",
       "      <th>13</th>\n",
       "      <th>14</th>\n",
       "      <th>15</th>\n",
       "      <th>16</th>\n",
       "      <th>17</th>\n",
       "      <th>18</th>\n",
       "    </tr>\n",
       "  </thead>\n",
       "  <tbody>\n",
       "    <tr>\n",
       "      <th>2</th>\n",
       "      <td>2024-25 Regular Season</td>\n",
       "      <td>Montréal Victoire</td>\n",
       "      <td>26</td>\n",
       "      <td>0</td>\n",
       "      <td>12</td>\n",
       "      <td>12</td>\n",
       "      <td>9</td>\n",
       "      <td>4</td>\n",
       "      <td>3</td>\n",
       "      <td>7</td>\n",
       "      <td>42.9</td>\n",
       "      <td>0</td>\n",
       "      <td>0</td>\n",
       "      <td>0</td>\n",
       "      <td>1</td>\n",
       "      <td>4</td>\n",
       "      <td>25.0</td>\n",
       "      <td>40</td>\n",
       "      <td>0.0</td>\n",
       "    </tr>\n",
       "    <tr>\n",
       "      <th>3</th>\n",
       "      <td>2024 Regular Season</td>\n",
       "      <td>PWHL Montreal</td>\n",
       "      <td>24</td>\n",
       "      <td>4</td>\n",
       "      <td>14</td>\n",
       "      <td>18</td>\n",
       "      <td>5</td>\n",
       "      <td>4</td>\n",
       "      <td>0</td>\n",
       "      <td>0</td>\n",
       "      <td>0.0</td>\n",
       "      <td>1</td>\n",
       "      <td>0</td>\n",
       "      <td>0</td>\n",
       "      <td>1</td>\n",
       "      <td>2</td>\n",
       "      <td>50.0</td>\n",
       "      <td>47</td>\n",
       "      <td>8.5</td>\n",
       "    </tr>\n",
       "    <tr>\n",
       "      <th>4</th>\n",
       "      <td>Total</td>\n",
       "      <td></td>\n",
       "      <td>50</td>\n",
       "      <td>4</td>\n",
       "      <td>26</td>\n",
       "      <td>30</td>\n",
       "      <td>14</td>\n",
       "      <td>8</td>\n",
       "      <td>3</td>\n",
       "      <td>7</td>\n",
       "      <td>42.9</td>\n",
       "      <td>1</td>\n",
       "      <td>0</td>\n",
       "      <td>0</td>\n",
       "      <td>2</td>\n",
       "      <td>6</td>\n",
       "      <td>33.3</td>\n",
       "      <td>87</td>\n",
       "      <td>4.6</td>\n",
       "    </tr>\n",
       "    <tr>\n",
       "      <th>7</th>\n",
       "      <td>2024 Playoffs</td>\n",
       "      <td>PWHL Montreal</td>\n",
       "      <td>3</td>\n",
       "      <td>0</td>\n",
       "      <td>2</td>\n",
       "      <td>2</td>\n",
       "      <td>-2</td>\n",
       "      <td>0</td>\n",
       "      <td>0</td>\n",
       "      <td>0</td>\n",
       "      <td>0.0</td>\n",
       "      <td>0</td>\n",
       "      <td>0</td>\n",
       "      <td>0</td>\n",
       "      <td>0</td>\n",
       "      <td>0</td>\n",
       "      <td>0.0</td>\n",
       "      <td>10</td>\n",
       "      <td>0.0</td>\n",
       "    </tr>\n",
       "    <tr>\n",
       "      <th>8</th>\n",
       "      <td>Total</td>\n",
       "      <td></td>\n",
       "      <td>3</td>\n",
       "      <td>0</td>\n",
       "      <td>2</td>\n",
       "      <td>2</td>\n",
       "      <td>-2</td>\n",
       "      <td>0</td>\n",
       "      <td>0</td>\n",
       "      <td>0</td>\n",
       "      <td>0.0</td>\n",
       "      <td>0</td>\n",
       "      <td>0</td>\n",
       "      <td>0</td>\n",
       "      <td>0</td>\n",
       "      <td>0</td>\n",
       "      <td>0.0</td>\n",
       "      <td>10</td>\n",
       "      <td>0.0</td>\n",
       "    </tr>\n",
       "  </tbody>\n",
       "</table>\n",
       "</div>"
      ],
      "text/plain": [
       "                       0                  1   2  3   4   5   6  7  8  9   \\\n",
       "2  2024-25 Regular Season  Montréal Victoire  26  0  12  12   9  4  3  7   \n",
       "3     2024 Regular Season      PWHL Montreal  24  4  14  18   5  4  0  0   \n",
       "4                   Total                     50  4  26  30  14  8  3  7   \n",
       "7           2024 Playoffs      PWHL Montreal   3  0   2   2  -2  0  0  0   \n",
       "8                   Total                      3  0   2   2  -2  0  0  0   \n",
       "\n",
       "     10 11 12 13 14 15    16  17   18  \n",
       "2  42.9  0  0  0  1  4  25.0  40  0.0  \n",
       "3   0.0  1  0  0  1  2  50.0  47  8.5  \n",
       "4  42.9  1  0  0  2  6  33.3  87  4.6  \n",
       "7   0.0  0  0  0  0  0   0.0  10  0.0  \n",
       "8   0.0  0  0  0  0  0   0.0  10  0.0  "
      ]
     },
     "execution_count": 17,
     "metadata": {},
     "output_type": "execute_result"
    }
   ],
   "source": [
    "df = scrape_stats_page(\"https://www.thepwhl.com/en/stats/player/83\").dropna()\n",
    "df"
   ]
  },
  {
   "cell_type": "markdown",
   "id": "6ceacd6e-c3b0-40fc-8735-56b5a432d592",
   "metadata": {},
   "source": [
    "I now have the contents of the two summary tables. That’s pretty cool, but I want the game by game. I inspected the HTML and found that the game by game table is inside an HTML `div` within another `div` within another `div` within a `div` which has a \"data-head-id\" attribute whose value is \"player_game_by_game\".\n",
    "\n",
    "Therefore, let’s change `EC.presence_of_element_located((By.XPATH, '//table'))` to `EC.presence_of_element_located((By.XPATH, '//div[@data-head-id=\"player_game_by_game\"]//table'))`."
   ]
  },
  {
   "cell_type": "code",
   "execution_count": 49,
   "id": "b14342f3-3d60-42e6-b3fd-b61194913861",
   "metadata": {},
   "outputs": [],
   "source": [
    "def scrape_stats_page_gbg(url):\n",
    "    # set up the WebDriver\n",
    "    driver = webdriver.Edge() #EDIT THIS LINE if not using Edge <<<<<<<<<<<<<<<<<<<< IMPORTANT <<<<<<<<<<<<<<<<<<<<\n",
    "    # open the webpage\n",
    "    driver.get(url)\n",
    "    # wait for the table to load\n",
    "    try:\n",
    "        table = WebDriverWait(driver, 2).until(\n",
    "            EC.presence_of_element_located((By.XPATH, \"//div[@data-head-id='player_game_by_game']//table\"))\n",
    "        )\n",
    "        rows = table.find_elements(By.TAG_NAME, 'tr')\n",
    "        data = []\n",
    "        for row in rows:\n",
    "            cols = row.find_elements(By.TAG_NAME, 'td')\n",
    "            data.append([col.text for col in cols])\n",
    "        df = pd.DataFrame(data)\n",
    "    finally:\n",
    "        driver.quit()\n",
    "    return df"
   ]
  },
  {
   "cell_type": "code",
   "execution_count": 51,
   "id": "0a8ff90f-7096-466e-92b0-5cd5668a8fb4",
   "metadata": {},
   "outputs": [
    {
     "data": {
      "text/html": [
       "<div>\n",
       "<style scoped>\n",
       "    .dataframe tbody tr th:only-of-type {\n",
       "        vertical-align: middle;\n",
       "    }\n",
       "\n",
       "    .dataframe tbody tr th {\n",
       "        vertical-align: top;\n",
       "    }\n",
       "\n",
       "    .dataframe thead th {\n",
       "        text-align: right;\n",
       "    }\n",
       "</style>\n",
       "<table border=\"1\" class=\"dataframe\">\n",
       "  <thead>\n",
       "    <tr style=\"text-align: right;\">\n",
       "      <th></th>\n",
       "      <th>0</th>\n",
       "      <th>1</th>\n",
       "      <th>2</th>\n",
       "      <th>3</th>\n",
       "      <th>4</th>\n",
       "      <th>5</th>\n",
       "      <th>6</th>\n",
       "      <th>7</th>\n",
       "      <th>8</th>\n",
       "      <th>9</th>\n",
       "      <th>10</th>\n",
       "      <th>11</th>\n",
       "      <th>12</th>\n",
       "      <th>13</th>\n",
       "      <th>14</th>\n",
       "      <th>15</th>\n",
       "      <th>16</th>\n",
       "      <th>17</th>\n",
       "    </tr>\n",
       "  </thead>\n",
       "  <tbody>\n",
       "    <tr>\n",
       "      <th>1</th>\n",
       "      <td>OTT @ MTL</td>\n",
       "      <td>2024-11-30</td>\n",
       "      <td>0</td>\n",
       "      <td>1</td>\n",
       "      <td>1</td>\n",
       "      <td>0</td>\n",
       "      <td>5</td>\n",
       "      <td>0</td>\n",
       "      <td>0</td>\n",
       "      <td>0</td>\n",
       "      <td>0</td>\n",
       "      <td>0</td>\n",
       "      <td>0</td>\n",
       "      <td>0</td>\n",
       "      <td>1</td>\n",
       "      <td>24:19</td>\n",
       "      <td>2</td>\n",
       "      <td></td>\n",
       "    </tr>\n",
       "    <tr>\n",
       "      <th>2</th>\n",
       "      <td>NY @ MTL</td>\n",
       "      <td>2024-12-04</td>\n",
       "      <td>0</td>\n",
       "      <td>0</td>\n",
       "      <td>0</td>\n",
       "      <td>-1</td>\n",
       "      <td>1</td>\n",
       "      <td>2</td>\n",
       "      <td>0</td>\n",
       "      <td>0</td>\n",
       "      <td>0</td>\n",
       "      <td>0</td>\n",
       "      <td>0</td>\n",
       "      <td>0</td>\n",
       "      <td>0</td>\n",
       "      <td>21:45</td>\n",
       "      <td>0</td>\n",
       "      <td></td>\n",
       "    </tr>\n",
       "    <tr>\n",
       "      <th>3</th>\n",
       "      <td>MTL @ OTT</td>\n",
       "      <td>2024-12-06</td>\n",
       "      <td>0</td>\n",
       "      <td>0</td>\n",
       "      <td>0</td>\n",
       "      <td>1</td>\n",
       "      <td>3</td>\n",
       "      <td>0</td>\n",
       "      <td>3</td>\n",
       "      <td>33.3</td>\n",
       "      <td>0</td>\n",
       "      <td>0</td>\n",
       "      <td>0</td>\n",
       "      <td>0</td>\n",
       "      <td>0</td>\n",
       "      <td>21:56</td>\n",
       "      <td>0</td>\n",
       "      <td></td>\n",
       "    </tr>\n",
       "    <tr>\n",
       "      <th>4</th>\n",
       "      <td>MTL @ TOR</td>\n",
       "      <td>2024-12-21</td>\n",
       "      <td>0</td>\n",
       "      <td>0</td>\n",
       "      <td>0</td>\n",
       "      <td>3</td>\n",
       "      <td>2</td>\n",
       "      <td>0</td>\n",
       "      <td>0</td>\n",
       "      <td>0</td>\n",
       "      <td>0</td>\n",
       "      <td>0</td>\n",
       "      <td>0</td>\n",
       "      <td>0</td>\n",
       "      <td>0</td>\n",
       "      <td>25:14</td>\n",
       "      <td>4</td>\n",
       "      <td></td>\n",
       "    </tr>\n",
       "    <tr>\n",
       "      <th>5</th>\n",
       "      <td>MTL @ MIN</td>\n",
       "      <td>2024-12-28</td>\n",
       "      <td>0</td>\n",
       "      <td>0</td>\n",
       "      <td>0</td>\n",
       "      <td>2</td>\n",
       "      <td>1</td>\n",
       "      <td>0</td>\n",
       "      <td>0</td>\n",
       "      <td>0</td>\n",
       "      <td>0</td>\n",
       "      <td>0</td>\n",
       "      <td>0</td>\n",
       "      <td>0</td>\n",
       "      <td>0</td>\n",
       "      <td>19:11</td>\n",
       "      <td>0</td>\n",
       "      <td></td>\n",
       "    </tr>\n",
       "    <tr>\n",
       "      <th>6</th>\n",
       "      <td>BOS @ MTL</td>\n",
       "      <td>2024-12-30</td>\n",
       "      <td>0</td>\n",
       "      <td>0</td>\n",
       "      <td>0</td>\n",
       "      <td>1</td>\n",
       "      <td>1</td>\n",
       "      <td>0</td>\n",
       "      <td>0</td>\n",
       "      <td>0</td>\n",
       "      <td>0</td>\n",
       "      <td>0</td>\n",
       "      <td>0</td>\n",
       "      <td>0</td>\n",
       "      <td>0</td>\n",
       "      <td>19:52</td>\n",
       "      <td>0</td>\n",
       "      <td></td>\n",
       "    </tr>\n",
       "    <tr>\n",
       "      <th>7</th>\n",
       "      <td>MTL @ BOS</td>\n",
       "      <td>2025-01-05</td>\n",
       "      <td>0</td>\n",
       "      <td>1</td>\n",
       "      <td>1</td>\n",
       "      <td>1</td>\n",
       "      <td>0</td>\n",
       "      <td>0</td>\n",
       "      <td>0</td>\n",
       "      <td>0</td>\n",
       "      <td>0</td>\n",
       "      <td>0</td>\n",
       "      <td>0</td>\n",
       "      <td>0</td>\n",
       "      <td>1</td>\n",
       "      <td>24:31</td>\n",
       "      <td>0</td>\n",
       "      <td></td>\n",
       "    </tr>\n",
       "    <tr>\n",
       "      <th>8</th>\n",
       "      <td>MTL @ TOR</td>\n",
       "      <td>2025-01-08</td>\n",
       "      <td>0</td>\n",
       "      <td>1</td>\n",
       "      <td>1</td>\n",
       "      <td>0</td>\n",
       "      <td>2</td>\n",
       "      <td>0</td>\n",
       "      <td>1</td>\n",
       "      <td>100.0</td>\n",
       "      <td>0</td>\n",
       "      <td>0</td>\n",
       "      <td>0</td>\n",
       "      <td>0</td>\n",
       "      <td>0</td>\n",
       "      <td>20:55</td>\n",
       "      <td>1</td>\n",
       "      <td></td>\n",
       "    </tr>\n",
       "    <tr>\n",
       "      <th>9</th>\n",
       "      <td>MTL @ MIN</td>\n",
       "      <td>2025-01-12</td>\n",
       "      <td>0</td>\n",
       "      <td>0</td>\n",
       "      <td>0</td>\n",
       "      <td>-1</td>\n",
       "      <td>1</td>\n",
       "      <td>0</td>\n",
       "      <td>1</td>\n",
       "      <td>100.0</td>\n",
       "      <td>0</td>\n",
       "      <td>0</td>\n",
       "      <td>0</td>\n",
       "      <td>0</td>\n",
       "      <td>0</td>\n",
       "      <td>22:55</td>\n",
       "      <td>1</td>\n",
       "      <td></td>\n",
       "    </tr>\n",
       "    <tr>\n",
       "      <th>10</th>\n",
       "      <td>MIN @ MTL</td>\n",
       "      <td>2025-01-17</td>\n",
       "      <td>0</td>\n",
       "      <td>3</td>\n",
       "      <td>3</td>\n",
       "      <td>1</td>\n",
       "      <td>0</td>\n",
       "      <td>0</td>\n",
       "      <td>0</td>\n",
       "      <td>0</td>\n",
       "      <td>0</td>\n",
       "      <td>0</td>\n",
       "      <td>0</td>\n",
       "      <td>0</td>\n",
       "      <td>0</td>\n",
       "      <td>20:36</td>\n",
       "      <td>0</td>\n",
       "      <td></td>\n",
       "    </tr>\n",
       "    <tr>\n",
       "      <th>11</th>\n",
       "      <td>OTT @ MTL</td>\n",
       "      <td>2025-01-19</td>\n",
       "      <td>0</td>\n",
       "      <td>2</td>\n",
       "      <td>2</td>\n",
       "      <td>0</td>\n",
       "      <td>3</td>\n",
       "      <td>0</td>\n",
       "      <td>0</td>\n",
       "      <td>0</td>\n",
       "      <td>0</td>\n",
       "      <td>0</td>\n",
       "      <td>0</td>\n",
       "      <td>0</td>\n",
       "      <td>0</td>\n",
       "      <td>16:59</td>\n",
       "      <td>0</td>\n",
       "      <td></td>\n",
       "    </tr>\n",
       "    <tr>\n",
       "      <th>12</th>\n",
       "      <td>OTT @ MTL</td>\n",
       "      <td>2025-01-29</td>\n",
       "      <td>0</td>\n",
       "      <td>1</td>\n",
       "      <td>1</td>\n",
       "      <td>1</td>\n",
       "      <td>1</td>\n",
       "      <td>0</td>\n",
       "      <td>0</td>\n",
       "      <td>0</td>\n",
       "      <td>0</td>\n",
       "      <td>0</td>\n",
       "      <td>0</td>\n",
       "      <td>0</td>\n",
       "      <td>0</td>\n",
       "      <td>17:49</td>\n",
       "      <td>0</td>\n",
       "      <td></td>\n",
       "    </tr>\n",
       "    <tr>\n",
       "      <th>13</th>\n",
       "      <td>TOR @ MTL</td>\n",
       "      <td>2025-01-30</td>\n",
       "      <td>0</td>\n",
       "      <td>0</td>\n",
       "      <td>0</td>\n",
       "      <td>1</td>\n",
       "      <td>0</td>\n",
       "      <td>0</td>\n",
       "      <td>0</td>\n",
       "      <td>0</td>\n",
       "      <td>0</td>\n",
       "      <td>0</td>\n",
       "      <td>0</td>\n",
       "      <td>0</td>\n",
       "      <td>1</td>\n",
       "      <td>23:11</td>\n",
       "      <td>3</td>\n",
       "      <td></td>\n",
       "    </tr>\n",
       "    <tr>\n",
       "      <th>14</th>\n",
       "      <td>MTL @ NY</td>\n",
       "      <td>2025-02-02</td>\n",
       "      <td>0</td>\n",
       "      <td>0</td>\n",
       "      <td>0</td>\n",
       "      <td>2</td>\n",
       "      <td>1</td>\n",
       "      <td>0</td>\n",
       "      <td>2</td>\n",
       "      <td>0</td>\n",
       "      <td>0</td>\n",
       "      <td>0</td>\n",
       "      <td>0</td>\n",
       "      <td>0</td>\n",
       "      <td>0</td>\n",
       "      <td>18:06</td>\n",
       "      <td>0</td>\n",
       "      <td></td>\n",
       "    </tr>\n",
       "    <tr>\n",
       "      <th>15</th>\n",
       "      <td>NY @ MTL</td>\n",
       "      <td>2025-02-15</td>\n",
       "      <td>0</td>\n",
       "      <td>1</td>\n",
       "      <td>1</td>\n",
       "      <td>2</td>\n",
       "      <td>3</td>\n",
       "      <td>0</td>\n",
       "      <td>0</td>\n",
       "      <td>0</td>\n",
       "      <td>0</td>\n",
       "      <td>0</td>\n",
       "      <td>0</td>\n",
       "      <td>0</td>\n",
       "      <td>0</td>\n",
       "      <td>16:15</td>\n",
       "      <td>0</td>\n",
       "      <td></td>\n",
       "    </tr>\n",
       "    <tr>\n",
       "      <th>16</th>\n",
       "      <td>MIN @ MTL</td>\n",
       "      <td>2025-02-18</td>\n",
       "      <td>0</td>\n",
       "      <td>0</td>\n",
       "      <td>0</td>\n",
       "      <td>-2</td>\n",
       "      <td>2</td>\n",
       "      <td>0</td>\n",
       "      <td>0</td>\n",
       "      <td>0</td>\n",
       "      <td>0</td>\n",
       "      <td>0</td>\n",
       "      <td>0</td>\n",
       "      <td>0</td>\n",
       "      <td>0</td>\n",
       "      <td>19:29</td>\n",
       "      <td>1</td>\n",
       "      <td></td>\n",
       "    </tr>\n",
       "    <tr>\n",
       "      <th>17</th>\n",
       "      <td>TOR @ MTL</td>\n",
       "      <td>2025-02-25</td>\n",
       "      <td>0</td>\n",
       "      <td>0</td>\n",
       "      <td>0</td>\n",
       "      <td>1</td>\n",
       "      <td>2</td>\n",
       "      <td>2</td>\n",
       "      <td>0</td>\n",
       "      <td>0</td>\n",
       "      <td>0</td>\n",
       "      <td>0</td>\n",
       "      <td>0</td>\n",
       "      <td>0</td>\n",
       "      <td>0</td>\n",
       "      <td>19:34</td>\n",
       "      <td>0</td>\n",
       "      <td></td>\n",
       "    </tr>\n",
       "    <tr>\n",
       "      <th>18</th>\n",
       "      <td>BOS @ MTL</td>\n",
       "      <td>2025-03-01</td>\n",
       "      <td>0</td>\n",
       "      <td>0</td>\n",
       "      <td>0</td>\n",
       "      <td>2</td>\n",
       "      <td>1</td>\n",
       "      <td>0</td>\n",
       "      <td>0</td>\n",
       "      <td>0</td>\n",
       "      <td>0</td>\n",
       "      <td>0</td>\n",
       "      <td>0</td>\n",
       "      <td>0</td>\n",
       "      <td>0</td>\n",
       "      <td>24:37</td>\n",
       "      <td>0</td>\n",
       "      <td></td>\n",
       "    </tr>\n",
       "    <tr>\n",
       "      <th>19</th>\n",
       "      <td>MIN @ MTL</td>\n",
       "      <td>2025-03-04</td>\n",
       "      <td>0</td>\n",
       "      <td>1</td>\n",
       "      <td>1</td>\n",
       "      <td>1</td>\n",
       "      <td>3</td>\n",
       "      <td>0</td>\n",
       "      <td>0</td>\n",
       "      <td>0</td>\n",
       "      <td>0</td>\n",
       "      <td>0</td>\n",
       "      <td>0</td>\n",
       "      <td>0</td>\n",
       "      <td>0</td>\n",
       "      <td>23:52</td>\n",
       "      <td>1</td>\n",
       "      <td></td>\n",
       "    </tr>\n",
       "    <tr>\n",
       "      <th>20</th>\n",
       "      <td>MTL @ TOR</td>\n",
       "      <td>2025-03-06</td>\n",
       "      <td>0</td>\n",
       "      <td>0</td>\n",
       "      <td>0</td>\n",
       "      <td>-1</td>\n",
       "      <td>3</td>\n",
       "      <td>0</td>\n",
       "      <td>0</td>\n",
       "      <td>0</td>\n",
       "      <td>0</td>\n",
       "      <td>0</td>\n",
       "      <td>0</td>\n",
       "      <td>0</td>\n",
       "      <td>0</td>\n",
       "      <td>20:12</td>\n",
       "      <td>1</td>\n",
       "      <td></td>\n",
       "    </tr>\n",
       "    <tr>\n",
       "      <th>21</th>\n",
       "      <td>MTL @ BOS</td>\n",
       "      <td>2025-03-08</td>\n",
       "      <td>0</td>\n",
       "      <td>0</td>\n",
       "      <td>0</td>\n",
       "      <td>-1</td>\n",
       "      <td>0</td>\n",
       "      <td>0</td>\n",
       "      <td>0</td>\n",
       "      <td>0</td>\n",
       "      <td>0</td>\n",
       "      <td>0</td>\n",
       "      <td>0</td>\n",
       "      <td>0</td>\n",
       "      <td>0</td>\n",
       "      <td>19:39</td>\n",
       "      <td>0</td>\n",
       "      <td></td>\n",
       "    </tr>\n",
       "    <tr>\n",
       "      <th>22</th>\n",
       "      <td>MTL @ NY</td>\n",
       "      <td>2025-03-12</td>\n",
       "      <td>0</td>\n",
       "      <td>1</td>\n",
       "      <td>1</td>\n",
       "      <td>-1</td>\n",
       "      <td>1</td>\n",
       "      <td>0</td>\n",
       "      <td>0</td>\n",
       "      <td>0</td>\n",
       "      <td>0</td>\n",
       "      <td>0</td>\n",
       "      <td>0</td>\n",
       "      <td>0</td>\n",
       "      <td>0</td>\n",
       "      <td>21:28</td>\n",
       "      <td>1</td>\n",
       "      <td></td>\n",
       "    </tr>\n",
       "    <tr>\n",
       "      <th>23</th>\n",
       "      <td>MTL @ BOS</td>\n",
       "      <td>2025-03-18</td>\n",
       "      <td>0</td>\n",
       "      <td>0</td>\n",
       "      <td>0</td>\n",
       "      <td>-1</td>\n",
       "      <td>2</td>\n",
       "      <td>0</td>\n",
       "      <td>0</td>\n",
       "      <td>0</td>\n",
       "      <td>0</td>\n",
       "      <td>0</td>\n",
       "      <td>0</td>\n",
       "      <td>1</td>\n",
       "      <td>0</td>\n",
       "      <td>23:23</td>\n",
       "      <td>1</td>\n",
       "      <td></td>\n",
       "    </tr>\n",
       "    <tr>\n",
       "      <th>24</th>\n",
       "      <td>TOR @ MTL</td>\n",
       "      <td>2025-03-23</td>\n",
       "      <td>0</td>\n",
       "      <td>0</td>\n",
       "      <td>0</td>\n",
       "      <td>-1</td>\n",
       "      <td>2</td>\n",
       "      <td>0</td>\n",
       "      <td>0</td>\n",
       "      <td>0</td>\n",
       "      <td>0</td>\n",
       "      <td>0</td>\n",
       "      <td>0</td>\n",
       "      <td>0</td>\n",
       "      <td>0</td>\n",
       "      <td>24:28</td>\n",
       "      <td>0</td>\n",
       "      <td></td>\n",
       "    </tr>\n",
       "    <tr>\n",
       "      <th>25</th>\n",
       "      <td>MTL @ MIN</td>\n",
       "      <td>2025-03-26</td>\n",
       "      <td>0</td>\n",
       "      <td>0</td>\n",
       "      <td>0</td>\n",
       "      <td>0</td>\n",
       "      <td>0</td>\n",
       "      <td>0</td>\n",
       "      <td>0</td>\n",
       "      <td>0</td>\n",
       "      <td>0</td>\n",
       "      <td>0</td>\n",
       "      <td>0</td>\n",
       "      <td>0</td>\n",
       "      <td>0</td>\n",
       "      <td>19:56</td>\n",
       "      <td>1</td>\n",
       "      <td></td>\n",
       "    </tr>\n",
       "    <tr>\n",
       "      <th>26</th>\n",
       "      <td>NY @ MTL</td>\n",
       "      <td>2025-04-01</td>\n",
       "      <td>0</td>\n",
       "      <td>0</td>\n",
       "      <td>0</td>\n",
       "      <td>-1</td>\n",
       "      <td>0</td>\n",
       "      <td>0</td>\n",
       "      <td>0</td>\n",
       "      <td>0</td>\n",
       "      <td>0</td>\n",
       "      <td>0</td>\n",
       "      <td>0</td>\n",
       "      <td>0</td>\n",
       "      <td>0</td>\n",
       "      <td>23:29</td>\n",
       "      <td>0</td>\n",
       "      <td></td>\n",
       "    </tr>\n",
       "  </tbody>\n",
       "</table>\n",
       "</div>"
      ],
      "text/plain": [
       "           0           1  2  3  4   5  6  7  8      9  10 11 12 13 14     15  \\\n",
       "1   OTT @ MTL  2024-11-30  0  1  1   0  5  0  0      0  0  0  0  0  1  24:19   \n",
       "2    NY @ MTL  2024-12-04  0  0  0  -1  1  2  0      0  0  0  0  0  0  21:45   \n",
       "3   MTL @ OTT  2024-12-06  0  0  0   1  3  0  3   33.3  0  0  0  0  0  21:56   \n",
       "4   MTL @ TOR  2024-12-21  0  0  0   3  2  0  0      0  0  0  0  0  0  25:14   \n",
       "5   MTL @ MIN  2024-12-28  0  0  0   2  1  0  0      0  0  0  0  0  0  19:11   \n",
       "6   BOS @ MTL  2024-12-30  0  0  0   1  1  0  0      0  0  0  0  0  0  19:52   \n",
       "7   MTL @ BOS  2025-01-05  0  1  1   1  0  0  0      0  0  0  0  0  1  24:31   \n",
       "8   MTL @ TOR  2025-01-08  0  1  1   0  2  0  1  100.0  0  0  0  0  0  20:55   \n",
       "9   MTL @ MIN  2025-01-12  0  0  0  -1  1  0  1  100.0  0  0  0  0  0  22:55   \n",
       "10  MIN @ MTL  2025-01-17  0  3  3   1  0  0  0      0  0  0  0  0  0  20:36   \n",
       "11  OTT @ MTL  2025-01-19  0  2  2   0  3  0  0      0  0  0  0  0  0  16:59   \n",
       "12  OTT @ MTL  2025-01-29  0  1  1   1  1  0  0      0  0  0  0  0  0  17:49   \n",
       "13  TOR @ MTL  2025-01-30  0  0  0   1  0  0  0      0  0  0  0  0  1  23:11   \n",
       "14   MTL @ NY  2025-02-02  0  0  0   2  1  0  2      0  0  0  0  0  0  18:06   \n",
       "15   NY @ MTL  2025-02-15  0  1  1   2  3  0  0      0  0  0  0  0  0  16:15   \n",
       "16  MIN @ MTL  2025-02-18  0  0  0  -2  2  0  0      0  0  0  0  0  0  19:29   \n",
       "17  TOR @ MTL  2025-02-25  0  0  0   1  2  2  0      0  0  0  0  0  0  19:34   \n",
       "18  BOS @ MTL  2025-03-01  0  0  0   2  1  0  0      0  0  0  0  0  0  24:37   \n",
       "19  MIN @ MTL  2025-03-04  0  1  1   1  3  0  0      0  0  0  0  0  0  23:52   \n",
       "20  MTL @ TOR  2025-03-06  0  0  0  -1  3  0  0      0  0  0  0  0  0  20:12   \n",
       "21  MTL @ BOS  2025-03-08  0  0  0  -1  0  0  0      0  0  0  0  0  0  19:39   \n",
       "22   MTL @ NY  2025-03-12  0  1  1  -1  1  0  0      0  0  0  0  0  0  21:28   \n",
       "23  MTL @ BOS  2025-03-18  0  0  0  -1  2  0  0      0  0  0  0  1  0  23:23   \n",
       "24  TOR @ MTL  2025-03-23  0  0  0  -1  2  0  0      0  0  0  0  0  0  24:28   \n",
       "25  MTL @ MIN  2025-03-26  0  0  0   0  0  0  0      0  0  0  0  0  0  19:56   \n",
       "26   NY @ MTL  2025-04-01  0  0  0  -1  0  0  0      0  0  0  0  0  0  23:29   \n",
       "\n",
       "   16 17  \n",
       "1   2     \n",
       "2   0     \n",
       "3   0     \n",
       "4   4     \n",
       "5   0     \n",
       "6   0     \n",
       "7   0     \n",
       "8   1     \n",
       "9   1     \n",
       "10  0     \n",
       "11  0     \n",
       "12  0     \n",
       "13  3     \n",
       "14  0     \n",
       "15  0     \n",
       "16  1     \n",
       "17  0     \n",
       "18  0     \n",
       "19  1     \n",
       "20  1     \n",
       "21  0     \n",
       "22  1     \n",
       "23  1     \n",
       "24  0     \n",
       "25  1     \n",
       "26  0     "
      ]
     },
     "execution_count": 51,
     "metadata": {},
     "output_type": "execute_result"
    }
   ],
   "source": [
    "df = scrape_stats_page_gbg(\"https://www.thepwhl.com/en/stats/player/83\").dropna()\n",
    "df"
   ]
  },
  {
   "cell_type": "markdown",
   "id": "0f8ff9c4-4b41-48d3-a0ed-747d6a60bed8",
   "metadata": {},
   "source": [
    "I now have Ambrose’s game by game statistics for the current season, but I want ALL of her statistics.\n",
    "\n",
    "Now, I could go and get the statistics for all seasons (numbered 1 to 5) because she did play during each one of them, but it won’t work like that for every player. I noted earlier that there is a dropdown menu that loads with options corresponding to the seasons the player participated in, and only those seasons.\n",
    "\n",
    "So the plan is:\n",
    "1. Load the player’s page with no specific season selected\n",
    "2. Grab the values (integers) corresponding to the seasons the player actually participated in as well as the player’s name\n",
    "3. Create a dataframe\n",
    "4. Iterate through the seasons the player participated in, scraping their stats for each and adding them to the dataframe\n",
    "\n",
    "I already have a function to scrape table data, so let’s create one for scraping dropdown menu values."
   ]
  },
  {
   "cell_type": "code",
   "execution_count": 134,
   "id": "38f3c0da-bcfe-4ab3-9ba1-ba1f327345f6",
   "metadata": {},
   "outputs": [],
   "source": [
    "from selenium.webdriver.support.ui import Select\n",
    "\n",
    "def get_element_attributes(element):\n",
    "    attributes = {}\n",
    "    for attribute in element.get_property('attributes'):\n",
    "        attributes[attribute['name']] = attribute['value']\n",
    "    return attributes\n",
    "\n",
    "def scrape_seasons_played(url):\n",
    "    data_dicts = []\n",
    "    data = []\n",
    "    # set up the WebDriver\n",
    "    driver = webdriver.Edge() #EDIT THIS LINE if not using Edge <<<<<<<<<<<<<<<<<<<< IMPORTANT <<<<<<<<<<<<<<<<<<<<\n",
    "    # open the webpage\n",
    "    driver.get(url)\n",
    "    # wait for the dropdown menu to load\n",
    "    try:\n",
    "        select = WebDriverWait(driver, 2).until(\n",
    "            EC.presence_of_element_located((By.XPATH, \"//select\"))\n",
    "        )\n",
    "        select = Select(select)\n",
    "        dropdown_options = select.options\n",
    "        for option in dropdown_options:\n",
    "            data_dicts.append(get_element_attributes(option))\n",
    "        for dict in data_dicts:\n",
    "            data.append(dict[\"value\"])\n",
    "    finally:\n",
    "        driver.quit()\n",
    "    return data"
   ]
  },
  {
   "cell_type": "code",
   "execution_count": 136,
   "id": "8b09ec14-ca32-4531-8afb-97abb9dadc9e",
   "metadata": {},
   "outputs": [
    {
     "data": {
      "text/plain": [
       "['5', '4', '3', '1', '2']"
      ]
     },
     "execution_count": 136,
     "metadata": {},
     "output_type": "execute_result"
    }
   ],
   "source": [
    "seasons_list = scrape_seasons_played(\"https://www.thepwhl.com/en/stats/player/83\")\n",
    "seasons_list"
   ]
  },
  {
   "cell_type": "markdown",
   "id": "a5ac665c-1e97-40fe-9e3a-9916521c6b5f",
   "metadata": {},
   "source": [
    "Alright. If enough of the page has loaded for the dropdown to be there, the name should also be there, so I should be able to grab it in the same function."
   ]
  },
  {
   "cell_type": "code",
   "execution_count": 204,
   "id": "1e6add2d-227e-465f-97e8-15c55afe2ea1",
   "metadata": {},
   "outputs": [],
   "source": [
    "from selenium.webdriver.support.ui import Select\n",
    "\n",
    "def get_element_attributes(element):\n",
    "    attributes = {}\n",
    "    for attribute in element.get_property('attributes'):\n",
    "        attributes[attribute['name']] = attribute['value']\n",
    "    return attributes\n",
    "\n",
    "def scrape_name_and_seasons_played(url):\n",
    "    data_dicts = []\n",
    "    data = []\n",
    "    # set up the WebDriver\n",
    "    driver = webdriver.Edge() #EDIT THIS LINE if not using Edge <<<<<<<<<<<<<<<<<<<< IMPORTANT <<<<<<<<<<<<<<<<<<<<\n",
    "    # open the webpage\n",
    "    driver.get(url)\n",
    "    # wait for the dropdown menu to load\n",
    "    try:\n",
    "        # getting season numbers\n",
    "        select = WebDriverWait(driver, 2).until(\n",
    "            EC.presence_of_element_located((By.XPATH, \"//select\"))\n",
    "        )\n",
    "        select = Select(select)\n",
    "        dropdown_options = select.options\n",
    "        for option in dropdown_options:\n",
    "            data_dicts.append(get_element_attributes(option))\n",
    "        for dict in data_dicts:\n",
    "            data.append(dict[\"value\"])\n",
    "        # getting player name\n",
    "        str1 = \"::playerInfo.firstName +' '+ playerInfo.lastName\"\n",
    "        str2 = f'//h1[@ng-bind=\"{str1}\"]'\n",
    "        name_h1 = driver.find_element(By.XPATH, str2).text\n",
    "    finally:\n",
    "        driver.quit()\n",
    "    return [name_h1, data]"
   ]
  },
  {
   "cell_type": "code",
   "execution_count": 206,
   "id": "65aa8ce3-ef80-4139-9d96-a174eda373e8",
   "metadata": {},
   "outputs": [
    {
     "name": "stdout",
     "output_type": "stream",
     "text": [
      "ERIN AMBROSE\n",
      "['5', '4', '3', '1', '2']\n"
     ]
    }
   ],
   "source": [
    "name, seasons_list = scrape_name_and_seasons_played(\"https://www.thepwhl.com/en/stats/player/83\")\n",
    "print(name)\n",
    "print(seasons_list)"
   ]
  },
  {
   "cell_type": "markdown",
   "id": "61f810c8-d367-4e65-a0ba-12f451013d14",
   "metadata": {},
   "source": [
    "Now that I did that, I realize I should also pull the position because I will want the dashboard to look different based on player position."
   ]
  },
  {
   "cell_type": "code",
   "execution_count": 217,
   "id": "59451984-72a4-4e29-bfe2-967d9457b748",
   "metadata": {},
   "outputs": [],
   "source": [
    "def scrape_name_and_seasons_played(url):\n",
    "    data_dicts = []\n",
    "    data = []\n",
    "    # set up the WebDriver\n",
    "    driver = webdriver.Edge() #EDIT THIS LINE if not using Edge <<<<<<<<<<<<<<<<<<<< IMPORTANT <<<<<<<<<<<<<<<<<<<<\n",
    "    # open the webpage\n",
    "    driver.get(url)\n",
    "    # wait for the dropdown menu to load\n",
    "    try:\n",
    "        # getting season numbers\n",
    "        select = WebDriverWait(driver, 2).until(\n",
    "            EC.presence_of_element_located((By.XPATH, \"//select\"))\n",
    "        )\n",
    "        select = Select(select)\n",
    "        dropdown_options = select.options\n",
    "        for option in dropdown_options:\n",
    "            data_dicts.append(get_element_attributes(option))\n",
    "        for dict in data_dicts:\n",
    "            data.append(dict[\"value\"])\n",
    "        # getting player name\n",
    "        str1 = \"::playerInfo.firstName +' '+ playerInfo.lastName\"\n",
    "        str2 = f'//h1[@ng-bind=\"{str1}\"]'\n",
    "        name_h1 = driver.find_element(By.XPATH, str2).text\n",
    "        # getting player position\n",
    "        pos_span = driver.find_element(By.XPATH, \"//span[@ng-bind='playerInfo.position']\").text\n",
    "    finally:\n",
    "        driver.quit()\n",
    "    return [name_h1, pos_span, data]"
   ]
  },
  {
   "cell_type": "code",
   "execution_count": 219,
   "id": "fc7df640-da9d-4c55-ab8b-bd6ac223c41a",
   "metadata": {},
   "outputs": [
    {
     "name": "stdout",
     "output_type": "stream",
     "text": [
      "ERIN AMBROSE\n",
      "D\n",
      "['5', '4', '3', '1', '2']\n"
     ]
    }
   ],
   "source": [
    "name, position, seasons_list = scrape_name_and_seasons_played(\"https://www.thepwhl.com/en/stats/player/83\")\n",
    "print(name)\n",
    "print(position)\n",
    "print(seasons_list)"
   ]
  },
  {
   "cell_type": "markdown",
   "id": "f9de4a11-4284-4f42-b5ee-2daa29ac7528",
   "metadata": {},
   "source": [
    "### Script creation\n",
    "\n",
    "I should now be able to create a script which will scrape Ambrose’s name, her position, the seasons she played and her stats for each game, put all that information into a dataframe and save that dataframe to a CSV file."
   ]
  },
  {
   "cell_type": "code",
   "execution_count": 37,
   "id": "19a1ac77-90c0-4048-8bf7-d5814f604cda",
   "metadata": {},
   "outputs": [],
   "source": [
    "import pandas as pd\n",
    "from selenium import webdriver\n",
    "from selenium.webdriver.common.by import By\n",
    "from selenium.webdriver.support.ui import WebDriverWait\n",
    "from selenium.webdriver.support import expected_conditions as EC\n",
    "from selenium.webdriver.support.ui import Select"
   ]
  },
  {
   "cell_type": "code",
   "execution_count": 39,
   "id": "b2accfd3-94bf-4b45-b012-17652569afa4",
   "metadata": {},
   "outputs": [],
   "source": [
    "AMBROSE_URL = \"https://www.thepwhl.com/en/stats/player/83/\"\n",
    "\n",
    "def scrape_stats_page_gbg(url):\n",
    "    # set up the WebDriver\n",
    "    driver = webdriver.Edge() #EDIT THIS LINE if not using Edge <<<<<<<<<<<<<<<<<<<< IMPORTANT <<<<<<<<<<<<<<<<<<<<\n",
    "    # open the webpage\n",
    "    driver.get(url)\n",
    "    # wait for the table to load\n",
    "    try:\n",
    "        table = WebDriverWait(driver, 2).until(\n",
    "            EC.presence_of_element_located((By.XPATH, \"//div[@data-head-id='player_game_by_game']//table\"))\n",
    "        )\n",
    "        rows = table.find_elements(By.TAG_NAME, 'tr')\n",
    "        data = []\n",
    "        for row in rows:\n",
    "            cols = row.find_elements(By.TAG_NAME, 'td')\n",
    "            data.append([col.text for col in cols])\n",
    "        df = pd.DataFrame(data)\n",
    "    finally:\n",
    "        driver.quit()\n",
    "    return df\n",
    "\n",
    "def get_element_attributes(element):\n",
    "    attributes = {}\n",
    "    for attribute in element.get_property('attributes'):\n",
    "        attributes[attribute['name']] = attribute['value']\n",
    "    return attributes\n",
    "\n",
    "def scrape_name_and_seasons_played(url):\n",
    "    data_dicts = []\n",
    "    data = []\n",
    "    # set up the WebDriver\n",
    "    driver = webdriver.Edge() #EDIT THIS LINE if not using Edge <<<<<<<<<<<<<<<<<<<< IMPORTANT <<<<<<<<<<<<<<<<<<<<\n",
    "    # open the webpage\n",
    "    driver.get(url)\n",
    "    # wait for the dropdown menu to load\n",
    "    try:\n",
    "        # getting season numbers\n",
    "        select = WebDriverWait(driver, 2).until(\n",
    "            EC.presence_of_element_located((By.XPATH, \"//select\"))\n",
    "        )\n",
    "        select = Select(select)\n",
    "        dropdown_options = select.options\n",
    "        for option in dropdown_options:\n",
    "            data_dicts.append(get_element_attributes(option))\n",
    "        for dict in data_dicts:\n",
    "            data.append(dict[\"value\"])\n",
    "        # getting player name\n",
    "        str1 = \"::playerInfo.firstName +' '+ playerInfo.lastName\"\n",
    "        str2 = f'//h1[@ng-bind=\"{str1}\"]'\n",
    "        name_h1 = driver.find_element(By.XPATH, str2).text\n",
    "        # getting player position\n",
    "        pos_span = driver.find_element(By.XPATH, \"//span[@ng-bind='playerInfo.position']\").text\n",
    "    finally:\n",
    "        driver.quit()\n",
    "    return [name_h1, pos_span, data]"
   ]
  },
  {
   "cell_type": "code",
   "execution_count": 41,
   "id": "04718ade-ce5a-4e1b-a246-d6a5933cca81",
   "metadata": {},
   "outputs": [],
   "source": [
    "name, position, seasons_played = scrape_name_and_seasons_played(AMBROSE_URL)"
   ]
  },
  {
   "cell_type": "code",
   "execution_count": 66,
   "id": "8bb57134-a0b2-461e-9dcb-e41a48e00ecd",
   "metadata": {},
   "outputs": [],
   "source": [
    "def get_season_stats(player_url, seasons):\n",
    "    temp_df = pd.DataFrame()\n",
    "    for s in seasons:\n",
    "        season_df = scrape_stats_page_gbg(player_url + str(s))\n",
    "        season_df[\"season\"] = s\n",
    "        temp_df = pd.concat([temp_df, season_df])\n",
    "    return temp_df"
   ]
  },
  {
   "cell_type": "code",
   "execution_count": 43,
   "id": "236e0ffb-0936-480a-ac33-668a46c7780c",
   "metadata": {},
   "outputs": [],
   "source": [
    "df = get_season_stats(AMBROSE_URL, seasons_played).dropna()"
   ]
  },
  {
   "cell_type": "code",
   "execution_count": 44,
   "id": "cc36e2ba-b54c-4a66-a50f-a33c01df33c9",
   "metadata": {},
   "outputs": [],
   "source": [
    "df[\"name\"] = name\n",
    "df[\"position\"] = position"
   ]
  },
  {
   "cell_type": "code",
   "execution_count": 45,
   "id": "822cab45-3c45-4a89-a13f-14598826e021",
   "metadata": {},
   "outputs": [
    {
     "data": {
      "text/html": [
       "<div>\n",
       "<style scoped>\n",
       "    .dataframe tbody tr th:only-of-type {\n",
       "        vertical-align: middle;\n",
       "    }\n",
       "\n",
       "    .dataframe tbody tr th {\n",
       "        vertical-align: top;\n",
       "    }\n",
       "\n",
       "    .dataframe thead th {\n",
       "        text-align: right;\n",
       "    }\n",
       "</style>\n",
       "<table border=\"1\" class=\"dataframe\">\n",
       "  <thead>\n",
       "    <tr style=\"text-align: right;\">\n",
       "      <th></th>\n",
       "      <th>0</th>\n",
       "      <th>1</th>\n",
       "      <th>2</th>\n",
       "      <th>3</th>\n",
       "      <th>4</th>\n",
       "      <th>5</th>\n",
       "      <th>6</th>\n",
       "      <th>7</th>\n",
       "      <th>8</th>\n",
       "      <th>9</th>\n",
       "      <th>10</th>\n",
       "      <th>11</th>\n",
       "      <th>12</th>\n",
       "      <th>13</th>\n",
       "      <th>14</th>\n",
       "      <th>15</th>\n",
       "      <th>16</th>\n",
       "      <th>17</th>\n",
       "      <th>name</th>\n",
       "      <th>position</th>\n",
       "    </tr>\n",
       "  </thead>\n",
       "  <tbody>\n",
       "    <tr>\n",
       "      <th>1</th>\n",
       "      <td>OTT @ MTL</td>\n",
       "      <td>2024-11-30</td>\n",
       "      <td>0</td>\n",
       "      <td>1</td>\n",
       "      <td>1</td>\n",
       "      <td>0</td>\n",
       "      <td>5</td>\n",
       "      <td>0</td>\n",
       "      <td>0</td>\n",
       "      <td>0</td>\n",
       "      <td>0</td>\n",
       "      <td>0</td>\n",
       "      <td>0</td>\n",
       "      <td>0</td>\n",
       "      <td>1</td>\n",
       "      <td>24:19</td>\n",
       "      <td>2</td>\n",
       "      <td></td>\n",
       "      <td>ERIN AMBROSE</td>\n",
       "      <td>D</td>\n",
       "    </tr>\n",
       "    <tr>\n",
       "      <th>2</th>\n",
       "      <td>NY @ MTL</td>\n",
       "      <td>2024-12-04</td>\n",
       "      <td>0</td>\n",
       "      <td>0</td>\n",
       "      <td>0</td>\n",
       "      <td>-1</td>\n",
       "      <td>1</td>\n",
       "      <td>2</td>\n",
       "      <td>0</td>\n",
       "      <td>0</td>\n",
       "      <td>0</td>\n",
       "      <td>0</td>\n",
       "      <td>0</td>\n",
       "      <td>0</td>\n",
       "      <td>0</td>\n",
       "      <td>21:45</td>\n",
       "      <td>0</td>\n",
       "      <td></td>\n",
       "      <td>ERIN AMBROSE</td>\n",
       "      <td>D</td>\n",
       "    </tr>\n",
       "    <tr>\n",
       "      <th>3</th>\n",
       "      <td>MTL @ OTT</td>\n",
       "      <td>2024-12-06</td>\n",
       "      <td>0</td>\n",
       "      <td>0</td>\n",
       "      <td>0</td>\n",
       "      <td>1</td>\n",
       "      <td>3</td>\n",
       "      <td>0</td>\n",
       "      <td>3</td>\n",
       "      <td>33.3</td>\n",
       "      <td>0</td>\n",
       "      <td>0</td>\n",
       "      <td>0</td>\n",
       "      <td>0</td>\n",
       "      <td>0</td>\n",
       "      <td>21:56</td>\n",
       "      <td>0</td>\n",
       "      <td></td>\n",
       "      <td>ERIN AMBROSE</td>\n",
       "      <td>D</td>\n",
       "    </tr>\n",
       "    <tr>\n",
       "      <th>4</th>\n",
       "      <td>MTL @ TOR</td>\n",
       "      <td>2024-12-21</td>\n",
       "      <td>0</td>\n",
       "      <td>0</td>\n",
       "      <td>0</td>\n",
       "      <td>3</td>\n",
       "      <td>2</td>\n",
       "      <td>0</td>\n",
       "      <td>0</td>\n",
       "      <td>0</td>\n",
       "      <td>0</td>\n",
       "      <td>0</td>\n",
       "      <td>0</td>\n",
       "      <td>0</td>\n",
       "      <td>0</td>\n",
       "      <td>25:14</td>\n",
       "      <td>4</td>\n",
       "      <td></td>\n",
       "      <td>ERIN AMBROSE</td>\n",
       "      <td>D</td>\n",
       "    </tr>\n",
       "    <tr>\n",
       "      <th>5</th>\n",
       "      <td>MTL @ MIN</td>\n",
       "      <td>2024-12-28</td>\n",
       "      <td>0</td>\n",
       "      <td>0</td>\n",
       "      <td>0</td>\n",
       "      <td>2</td>\n",
       "      <td>1</td>\n",
       "      <td>0</td>\n",
       "      <td>0</td>\n",
       "      <td>0</td>\n",
       "      <td>0</td>\n",
       "      <td>0</td>\n",
       "      <td>0</td>\n",
       "      <td>0</td>\n",
       "      <td>0</td>\n",
       "      <td>19:11</td>\n",
       "      <td>0</td>\n",
       "      <td></td>\n",
       "      <td>ERIN AMBROSE</td>\n",
       "      <td>D</td>\n",
       "    </tr>\n",
       "    <tr>\n",
       "      <th>...</th>\n",
       "      <td>...</td>\n",
       "      <td>...</td>\n",
       "      <td>...</td>\n",
       "      <td>...</td>\n",
       "      <td>...</td>\n",
       "      <td>...</td>\n",
       "      <td>...</td>\n",
       "      <td>...</td>\n",
       "      <td>...</td>\n",
       "      <td>...</td>\n",
       "      <td>...</td>\n",
       "      <td>...</td>\n",
       "      <td>...</td>\n",
       "      <td>...</td>\n",
       "      <td>...</td>\n",
       "      <td>...</td>\n",
       "      <td>...</td>\n",
       "      <td>...</td>\n",
       "      <td>...</td>\n",
       "      <td>...</td>\n",
       "    </tr>\n",
       "    <tr>\n",
       "      <th>22</th>\n",
       "      <td>MTL @ NY</td>\n",
       "      <td>2025-03-12</td>\n",
       "      <td>0</td>\n",
       "      <td>1</td>\n",
       "      <td>1</td>\n",
       "      <td>-1</td>\n",
       "      <td>1</td>\n",
       "      <td>0</td>\n",
       "      <td>0</td>\n",
       "      <td>0</td>\n",
       "      <td>0</td>\n",
       "      <td>0</td>\n",
       "      <td>0</td>\n",
       "      <td>0</td>\n",
       "      <td>0</td>\n",
       "      <td>21:28</td>\n",
       "      <td>1</td>\n",
       "      <td></td>\n",
       "      <td>ERIN AMBROSE</td>\n",
       "      <td>D</td>\n",
       "    </tr>\n",
       "    <tr>\n",
       "      <th>23</th>\n",
       "      <td>MTL @ BOS</td>\n",
       "      <td>2025-03-18</td>\n",
       "      <td>0</td>\n",
       "      <td>0</td>\n",
       "      <td>0</td>\n",
       "      <td>-1</td>\n",
       "      <td>2</td>\n",
       "      <td>0</td>\n",
       "      <td>0</td>\n",
       "      <td>0</td>\n",
       "      <td>0</td>\n",
       "      <td>0</td>\n",
       "      <td>0</td>\n",
       "      <td>1</td>\n",
       "      <td>0</td>\n",
       "      <td>23:23</td>\n",
       "      <td>1</td>\n",
       "      <td></td>\n",
       "      <td>ERIN AMBROSE</td>\n",
       "      <td>D</td>\n",
       "    </tr>\n",
       "    <tr>\n",
       "      <th>24</th>\n",
       "      <td>TOR @ MTL</td>\n",
       "      <td>2025-03-23</td>\n",
       "      <td>0</td>\n",
       "      <td>0</td>\n",
       "      <td>0</td>\n",
       "      <td>-1</td>\n",
       "      <td>2</td>\n",
       "      <td>0</td>\n",
       "      <td>0</td>\n",
       "      <td>0</td>\n",
       "      <td>0</td>\n",
       "      <td>0</td>\n",
       "      <td>0</td>\n",
       "      <td>0</td>\n",
       "      <td>0</td>\n",
       "      <td>24:28</td>\n",
       "      <td>0</td>\n",
       "      <td></td>\n",
       "      <td>ERIN AMBROSE</td>\n",
       "      <td>D</td>\n",
       "    </tr>\n",
       "    <tr>\n",
       "      <th>25</th>\n",
       "      <td>MTL @ MIN</td>\n",
       "      <td>2025-03-26</td>\n",
       "      <td>0</td>\n",
       "      <td>0</td>\n",
       "      <td>0</td>\n",
       "      <td>0</td>\n",
       "      <td>0</td>\n",
       "      <td>0</td>\n",
       "      <td>0</td>\n",
       "      <td>0</td>\n",
       "      <td>0</td>\n",
       "      <td>0</td>\n",
       "      <td>0</td>\n",
       "      <td>0</td>\n",
       "      <td>0</td>\n",
       "      <td>19:56</td>\n",
       "      <td>1</td>\n",
       "      <td></td>\n",
       "      <td>ERIN AMBROSE</td>\n",
       "      <td>D</td>\n",
       "    </tr>\n",
       "    <tr>\n",
       "      <th>26</th>\n",
       "      <td>NY @ MTL</td>\n",
       "      <td>2025-04-01</td>\n",
       "      <td>0</td>\n",
       "      <td>0</td>\n",
       "      <td>0</td>\n",
       "      <td>-1</td>\n",
       "      <td>0</td>\n",
       "      <td>0</td>\n",
       "      <td>0</td>\n",
       "      <td>0</td>\n",
       "      <td>0</td>\n",
       "      <td>0</td>\n",
       "      <td>0</td>\n",
       "      <td>0</td>\n",
       "      <td>0</td>\n",
       "      <td>23:29</td>\n",
       "      <td>0</td>\n",
       "      <td></td>\n",
       "      <td>ERIN AMBROSE</td>\n",
       "      <td>D</td>\n",
       "    </tr>\n",
       "  </tbody>\n",
       "</table>\n",
       "<p>105 rows × 20 columns</p>\n",
       "</div>"
      ],
      "text/plain": [
       "            0           1  2  3  4   5  6  7  8     9 10 11 12 13 14     15  \\\n",
       "1   OTT @ MTL  2024-11-30  0  1  1   0  5  0  0     0  0  0  0  0  1  24:19   \n",
       "2    NY @ MTL  2024-12-04  0  0  0  -1  1  2  0     0  0  0  0  0  0  21:45   \n",
       "3   MTL @ OTT  2024-12-06  0  0  0   1  3  0  3  33.3  0  0  0  0  0  21:56   \n",
       "4   MTL @ TOR  2024-12-21  0  0  0   3  2  0  0     0  0  0  0  0  0  25:14   \n",
       "5   MTL @ MIN  2024-12-28  0  0  0   2  1  0  0     0  0  0  0  0  0  19:11   \n",
       "..        ...         ... .. .. ..  .. .. .. ..   ... .. .. .. .. ..    ...   \n",
       "22   MTL @ NY  2025-03-12  0  1  1  -1  1  0  0     0  0  0  0  0  0  21:28   \n",
       "23  MTL @ BOS  2025-03-18  0  0  0  -1  2  0  0     0  0  0  0  1  0  23:23   \n",
       "24  TOR @ MTL  2025-03-23  0  0  0  -1  2  0  0     0  0  0  0  0  0  24:28   \n",
       "25  MTL @ MIN  2025-03-26  0  0  0   0  0  0  0     0  0  0  0  0  0  19:56   \n",
       "26   NY @ MTL  2025-04-01  0  0  0  -1  0  0  0     0  0  0  0  0  0  23:29   \n",
       "\n",
       "   16 17          name position  \n",
       "1   2     ERIN AMBROSE        D  \n",
       "2   0     ERIN AMBROSE        D  \n",
       "3   0     ERIN AMBROSE        D  \n",
       "4   4     ERIN AMBROSE        D  \n",
       "5   0     ERIN AMBROSE        D  \n",
       ".. .. ..           ...      ...  \n",
       "22  1     ERIN AMBROSE        D  \n",
       "23  1     ERIN AMBROSE        D  \n",
       "24  0     ERIN AMBROSE        D  \n",
       "25  1     ERIN AMBROSE        D  \n",
       "26  0     ERIN AMBROSE        D  \n",
       "\n",
       "[105 rows x 20 columns]"
      ]
     },
     "execution_count": 45,
     "metadata": {},
     "output_type": "execute_result"
    }
   ],
   "source": [
    "df"
   ]
  },
  {
   "cell_type": "markdown",
   "id": "c5e21a1d-f136-435f-be08-23c55f7c0d33",
   "metadata": {},
   "source": [
    "Now that I have what I want, time to generalize the method and try it with a different defense player: Renata Fast, whose page is numbered 67."
   ]
  },
  {
   "cell_type": "code",
   "execution_count": 47,
   "id": "2bd7543c-590f-4a2c-81c5-dd113d207b41",
   "metadata": {},
   "outputs": [],
   "source": [
    "def get_player_gbg(num):\n",
    "    url = \"https://www.thepwhl.com/en/stats/player/\" + str(num) + \"/\"\n",
    "    name, position, seasons_played = scrape_name_and_seasons_played(url)\n",
    "    df = get_season_stats(url, seasons_played).dropna()\n",
    "    df[\"name\"] = name\n",
    "    df[\"position\"] = position\n",
    "    return df"
   ]
  },
  {
   "cell_type": "code",
   "execution_count": 48,
   "id": "8d9bb355-81f8-4751-a244-30b835bb44c2",
   "metadata": {},
   "outputs": [
    {
     "data": {
      "text/html": [
       "<div>\n",
       "<style scoped>\n",
       "    .dataframe tbody tr th:only-of-type {\n",
       "        vertical-align: middle;\n",
       "    }\n",
       "\n",
       "    .dataframe tbody tr th {\n",
       "        vertical-align: top;\n",
       "    }\n",
       "\n",
       "    .dataframe thead th {\n",
       "        text-align: right;\n",
       "    }\n",
       "</style>\n",
       "<table border=\"1\" class=\"dataframe\">\n",
       "  <thead>\n",
       "    <tr style=\"text-align: right;\">\n",
       "      <th></th>\n",
       "      <th>0</th>\n",
       "      <th>1</th>\n",
       "      <th>2</th>\n",
       "      <th>3</th>\n",
       "      <th>4</th>\n",
       "      <th>5</th>\n",
       "      <th>6</th>\n",
       "      <th>7</th>\n",
       "      <th>8</th>\n",
       "      <th>9</th>\n",
       "      <th>10</th>\n",
       "      <th>11</th>\n",
       "      <th>12</th>\n",
       "      <th>13</th>\n",
       "      <th>14</th>\n",
       "      <th>15</th>\n",
       "      <th>16</th>\n",
       "      <th>17</th>\n",
       "      <th>name</th>\n",
       "      <th>position</th>\n",
       "    </tr>\n",
       "  </thead>\n",
       "  <tbody>\n",
       "    <tr>\n",
       "      <th>1</th>\n",
       "      <td>BOS @ TOR</td>\n",
       "      <td>2024-11-30</td>\n",
       "      <td>0</td>\n",
       "      <td>1</td>\n",
       "      <td>1</td>\n",
       "      <td>2</td>\n",
       "      <td>1</td>\n",
       "      <td>0</td>\n",
       "      <td>0</td>\n",
       "      <td>0</td>\n",
       "      <td>0</td>\n",
       "      <td>0</td>\n",
       "      <td>0</td>\n",
       "      <td>0</td>\n",
       "      <td>0</td>\n",
       "      <td>26:21</td>\n",
       "      <td>1</td>\n",
       "      <td></td>\n",
       "      <td>RENATA FAST</td>\n",
       "      <td>D</td>\n",
       "    </tr>\n",
       "    <tr>\n",
       "      <th>2</th>\n",
       "      <td>TOR @ OTT</td>\n",
       "      <td>2024-12-03</td>\n",
       "      <td>0</td>\n",
       "      <td>1</td>\n",
       "      <td>1</td>\n",
       "      <td>0</td>\n",
       "      <td>2</td>\n",
       "      <td>0</td>\n",
       "      <td>0</td>\n",
       "      <td>0</td>\n",
       "      <td>0</td>\n",
       "      <td>0</td>\n",
       "      <td>0</td>\n",
       "      <td>0</td>\n",
       "      <td>0</td>\n",
       "      <td>24:51</td>\n",
       "      <td>3</td>\n",
       "      <td></td>\n",
       "      <td>RENATA FAST</td>\n",
       "      <td>D</td>\n",
       "    </tr>\n",
       "    <tr>\n",
       "      <th>3</th>\n",
       "      <td>MIN @ TOR</td>\n",
       "      <td>2024-12-07</td>\n",
       "      <td>1</td>\n",
       "      <td>0</td>\n",
       "      <td>1</td>\n",
       "      <td>-3</td>\n",
       "      <td>3</td>\n",
       "      <td>0</td>\n",
       "      <td>0</td>\n",
       "      <td>0</td>\n",
       "      <td>0</td>\n",
       "      <td>0</td>\n",
       "      <td>0</td>\n",
       "      <td>0</td>\n",
       "      <td>0</td>\n",
       "      <td>25:56</td>\n",
       "      <td>4</td>\n",
       "      <td></td>\n",
       "      <td>RENATA FAST</td>\n",
       "      <td>D</td>\n",
       "    </tr>\n",
       "    <tr>\n",
       "      <th>4</th>\n",
       "      <td>TOR @ NY</td>\n",
       "      <td>2024-12-18</td>\n",
       "      <td>0</td>\n",
       "      <td>1</td>\n",
       "      <td>1</td>\n",
       "      <td>1</td>\n",
       "      <td>1</td>\n",
       "      <td>2</td>\n",
       "      <td>0</td>\n",
       "      <td>0</td>\n",
       "      <td>0</td>\n",
       "      <td>0</td>\n",
       "      <td>0</td>\n",
       "      <td>0</td>\n",
       "      <td>0</td>\n",
       "      <td>13:33</td>\n",
       "      <td>3</td>\n",
       "      <td></td>\n",
       "      <td>RENATA FAST</td>\n",
       "      <td>D</td>\n",
       "    </tr>\n",
       "    <tr>\n",
       "      <th>5</th>\n",
       "      <td>MTL @ TOR</td>\n",
       "      <td>2024-12-21</td>\n",
       "      <td>0</td>\n",
       "      <td>1</td>\n",
       "      <td>1</td>\n",
       "      <td>1</td>\n",
       "      <td>2</td>\n",
       "      <td>0</td>\n",
       "      <td>0</td>\n",
       "      <td>0</td>\n",
       "      <td>0</td>\n",
       "      <td>0</td>\n",
       "      <td>0</td>\n",
       "      <td>0</td>\n",
       "      <td>0</td>\n",
       "      <td>23:16</td>\n",
       "      <td>4</td>\n",
       "      <td></td>\n",
       "      <td>RENATA FAST</td>\n",
       "      <td>D</td>\n",
       "    </tr>\n",
       "    <tr>\n",
       "      <th>...</th>\n",
       "      <td>...</td>\n",
       "      <td>...</td>\n",
       "      <td>...</td>\n",
       "      <td>...</td>\n",
       "      <td>...</td>\n",
       "      <td>...</td>\n",
       "      <td>...</td>\n",
       "      <td>...</td>\n",
       "      <td>...</td>\n",
       "      <td>...</td>\n",
       "      <td>...</td>\n",
       "      <td>...</td>\n",
       "      <td>...</td>\n",
       "      <td>...</td>\n",
       "      <td>...</td>\n",
       "      <td>...</td>\n",
       "      <td>...</td>\n",
       "      <td>...</td>\n",
       "      <td>...</td>\n",
       "      <td>...</td>\n",
       "    </tr>\n",
       "    <tr>\n",
       "      <th>23</th>\n",
       "      <td>MIN @ TOR</td>\n",
       "      <td>2025-03-09</td>\n",
       "      <td>1</td>\n",
       "      <td>0</td>\n",
       "      <td>1</td>\n",
       "      <td>1</td>\n",
       "      <td>2</td>\n",
       "      <td>0</td>\n",
       "      <td>0</td>\n",
       "      <td>0</td>\n",
       "      <td>0</td>\n",
       "      <td>0</td>\n",
       "      <td>0</td>\n",
       "      <td>0</td>\n",
       "      <td>0</td>\n",
       "      <td>29:10</td>\n",
       "      <td>6</td>\n",
       "      <td></td>\n",
       "      <td>RENATA FAST</td>\n",
       "      <td>D</td>\n",
       "    </tr>\n",
       "    <tr>\n",
       "      <th>24</th>\n",
       "      <td>NY @ TOR</td>\n",
       "      <td>2025-03-19</td>\n",
       "      <td>0</td>\n",
       "      <td>0</td>\n",
       "      <td>0</td>\n",
       "      <td>-1</td>\n",
       "      <td>3</td>\n",
       "      <td>2</td>\n",
       "      <td>0</td>\n",
       "      <td>0</td>\n",
       "      <td>0</td>\n",
       "      <td>0</td>\n",
       "      <td>0</td>\n",
       "      <td>0</td>\n",
       "      <td>0</td>\n",
       "      <td>24:06</td>\n",
       "      <td>1</td>\n",
       "      <td></td>\n",
       "      <td>RENATA FAST</td>\n",
       "      <td>D</td>\n",
       "    </tr>\n",
       "    <tr>\n",
       "      <th>25</th>\n",
       "      <td>TOR @ MTL</td>\n",
       "      <td>2025-03-23</td>\n",
       "      <td>0</td>\n",
       "      <td>0</td>\n",
       "      <td>0</td>\n",
       "      <td>1</td>\n",
       "      <td>1</td>\n",
       "      <td>0</td>\n",
       "      <td>0</td>\n",
       "      <td>0</td>\n",
       "      <td>0</td>\n",
       "      <td>0</td>\n",
       "      <td>0</td>\n",
       "      <td>0</td>\n",
       "      <td>0</td>\n",
       "      <td>26:05</td>\n",
       "      <td>2</td>\n",
       "      <td></td>\n",
       "      <td>RENATA FAST</td>\n",
       "      <td>D</td>\n",
       "    </tr>\n",
       "    <tr>\n",
       "      <th>26</th>\n",
       "      <td>TOR @ BOS</td>\n",
       "      <td>2025-03-26</td>\n",
       "      <td>1</td>\n",
       "      <td>0</td>\n",
       "      <td>1</td>\n",
       "      <td>1</td>\n",
       "      <td>2</td>\n",
       "      <td>2</td>\n",
       "      <td>0</td>\n",
       "      <td>0</td>\n",
       "      <td>0</td>\n",
       "      <td>0</td>\n",
       "      <td>1</td>\n",
       "      <td>0</td>\n",
       "      <td>0</td>\n",
       "      <td>24:11</td>\n",
       "      <td>2</td>\n",
       "      <td></td>\n",
       "      <td>RENATA FAST</td>\n",
       "      <td>D</td>\n",
       "    </tr>\n",
       "    <tr>\n",
       "      <th>27</th>\n",
       "      <td>TOR @ MIN</td>\n",
       "      <td>2025-03-30</td>\n",
       "      <td>0</td>\n",
       "      <td>0</td>\n",
       "      <td>0</td>\n",
       "      <td>0</td>\n",
       "      <td>1</td>\n",
       "      <td>2</td>\n",
       "      <td>0</td>\n",
       "      <td>0</td>\n",
       "      <td>0</td>\n",
       "      <td>0</td>\n",
       "      <td>0</td>\n",
       "      <td>0</td>\n",
       "      <td>0</td>\n",
       "      <td>23:53</td>\n",
       "      <td>2</td>\n",
       "      <td></td>\n",
       "      <td>RENATA FAST</td>\n",
       "      <td>D</td>\n",
       "    </tr>\n",
       "  </tbody>\n",
       "</table>\n",
       "<p>110 rows × 20 columns</p>\n",
       "</div>"
      ],
      "text/plain": [
       "            0           1  2  3  4   5  6  7  8  9 10 11 12 13 14     15 16  \\\n",
       "1   BOS @ TOR  2024-11-30  0  1  1   2  1  0  0  0  0  0  0  0  0  26:21  1   \n",
       "2   TOR @ OTT  2024-12-03  0  1  1   0  2  0  0  0  0  0  0  0  0  24:51  3   \n",
       "3   MIN @ TOR  2024-12-07  1  0  1  -3  3  0  0  0  0  0  0  0  0  25:56  4   \n",
       "4    TOR @ NY  2024-12-18  0  1  1   1  1  2  0  0  0  0  0  0  0  13:33  3   \n",
       "5   MTL @ TOR  2024-12-21  0  1  1   1  2  0  0  0  0  0  0  0  0  23:16  4   \n",
       "..        ...         ... .. .. ..  .. .. .. .. .. .. .. .. .. ..    ... ..   \n",
       "23  MIN @ TOR  2025-03-09  1  0  1   1  2  0  0  0  0  0  0  0  0  29:10  6   \n",
       "24   NY @ TOR  2025-03-19  0  0  0  -1  3  2  0  0  0  0  0  0  0  24:06  1   \n",
       "25  TOR @ MTL  2025-03-23  0  0  0   1  1  0  0  0  0  0  0  0  0  26:05  2   \n",
       "26  TOR @ BOS  2025-03-26  1  0  1   1  2  2  0  0  0  0  1  0  0  24:11  2   \n",
       "27  TOR @ MIN  2025-03-30  0  0  0   0  1  2  0  0  0  0  0  0  0  23:53  2   \n",
       "\n",
       "   17         name position  \n",
       "1      RENATA FAST        D  \n",
       "2      RENATA FAST        D  \n",
       "3      RENATA FAST        D  \n",
       "4      RENATA FAST        D  \n",
       "5      RENATA FAST        D  \n",
       ".. ..          ...      ...  \n",
       "23     RENATA FAST        D  \n",
       "24     RENATA FAST        D  \n",
       "25     RENATA FAST        D  \n",
       "26     RENATA FAST        D  \n",
       "27     RENATA FAST        D  \n",
       "\n",
       "[110 rows x 20 columns]"
      ]
     },
     "execution_count": 48,
     "metadata": {},
     "output_type": "execute_result"
    }
   ],
   "source": [
    "df = get_player_gbg(67)\n",
    "df"
   ]
  },
  {
   "cell_type": "code",
   "execution_count": 68,
   "id": "d8983960-5500-4fd6-8209-21fada61dffd",
   "metadata": {},
   "outputs": [],
   "source": [
    "df.columns = [\"game\", \"date\", \"goals\", \"assists\", \"points\",\n",
    "              \"plus-minus\", \"shots\", \"penalty minutes\", \"faceoffs\", \"faceoffs win percentage\",\n",
    "              \"power play goals\", \"short handed goals\", \"game winning goals\", \"shootoutgoals\", \"shootout attempts\",\n",
    "              \"time on the ice\", \"hits\", \"nothing\", \"season\", \"name\",\n",
    "              \"position\"]\n",
    "del df[\"nothing\"]"
   ]
  },
  {
   "cell_type": "code",
   "execution_count": 50,
   "id": "215214f3-15c4-4e9f-b5ba-780feaca0f0c",
   "metadata": {},
   "outputs": [],
   "source": [
    "df.to_csv(\"renata_fast_test.csv\")"
   ]
  },
  {
   "cell_type": "markdown",
   "id": "89df28c1-dd3a-4f5f-a925-991a21520361",
   "metadata": {},
   "source": [
    "It worked, so I can now create the script as a `.py` file, grab stats for a skater of my choice and start working on the dashboard."
   ]
  },
  {
   "cell_type": "markdown",
   "id": "d0543980-abf1-4478-849c-1035fccd17e3",
   "metadata": {},
   "source": [
    "### Oops!\n",
    "\n",
    "So it turns out the PWHL website isn’t working as expected. When getting stats for Emily Clark, who according to the dropdown menu should have statistics for 4 separate seasons, 3 of those \"seasons\" turned out to be the same one. She only actually has statistics for the regular seasons, as selecting either preseason results in getting stats for the 2024-2025 regular season. To correct this, I will adapt the script so that, when pulling statistics for any season, it checks if the dates of the matches are already in the dataframe and ignores the \"fake season\" if they are.\n",
    "\n",
    "Let’s change the `get_season_stats` function to this:\n",
    "\n",
    "```\n",
    "def get_season_stats(player_url, seasons):\n",
    "    temp_df = pd.DataFrame()\n",
    "    for s in seasons:\n",
    "        season_df = scrape_stats_page_gbg(player_url + str(s))\n",
    "        if len(season_df) > 0:\n",
    "            # ensure the webpage isn’t displaying current season statistics despite saying they are from an earlier season\n",
    "            date_to_check = season_df.at[0, 1] # first row, second column (second column contains date)\n",
    "            if len(temp_df) > 0 and date_to_check in temp_df[1].values:\n",
    "                continue\n",
    "            season_df[\"season\"] = s\n",
    "            temp_df = pd.concat([temp_df, season_df])\n",
    "    return temp_df\n",
    "```"
   ]
  },
  {
   "cell_type": "markdown",
   "id": "d9ff35f5-ff36-43f0-8449-19dff3b5e680",
   "metadata": {},
   "source": [
    "I should no longer have Emily Clark’s current season statistics in triplicate."
   ]
  },
  {
   "cell_type": "markdown",
   "id": "9b72984e-7995-46b8-ac1a-816c14d86aa9",
   "metadata": {},
   "source": [
    "### Skater visualizations\n",
    "\n",
    "Time to create some visualizations. I decided to start with forward players, using Emily Clark’s data, which will allow me to confirm that I do not have her current season data in triplicate."
   ]
  },
  {
   "cell_type": "code",
   "execution_count": 155,
   "id": "c1d88de9-1d6d-4fa6-9209-2e0ccf57b14a",
   "metadata": {},
   "outputs": [
    {
     "data": {
      "text/html": [
       "<div>\n",
       "<style scoped>\n",
       "    .dataframe tbody tr th:only-of-type {\n",
       "        vertical-align: middle;\n",
       "    }\n",
       "\n",
       "    .dataframe tbody tr th {\n",
       "        vertical-align: top;\n",
       "    }\n",
       "\n",
       "    .dataframe thead th {\n",
       "        text-align: right;\n",
       "    }\n",
       "</style>\n",
       "<table border=\"1\" class=\"dataframe\">\n",
       "  <thead>\n",
       "    <tr style=\"text-align: right;\">\n",
       "      <th></th>\n",
       "      <th>Unnamed: 0</th>\n",
       "      <th>game</th>\n",
       "      <th>date</th>\n",
       "      <th>goals</th>\n",
       "      <th>assists</th>\n",
       "      <th>points</th>\n",
       "      <th>plus-minus</th>\n",
       "      <th>shots</th>\n",
       "      <th>penalty minutes</th>\n",
       "      <th>faceoffs</th>\n",
       "      <th>...</th>\n",
       "      <th>power play goals</th>\n",
       "      <th>short handed goals</th>\n",
       "      <th>game winning goals</th>\n",
       "      <th>shootoutgoals</th>\n",
       "      <th>shootout attempts</th>\n",
       "      <th>time on the ice</th>\n",
       "      <th>hits</th>\n",
       "      <th>season</th>\n",
       "      <th>name</th>\n",
       "      <th>position</th>\n",
       "    </tr>\n",
       "  </thead>\n",
       "  <tbody>\n",
       "    <tr>\n",
       "      <th>0</th>\n",
       "      <td>1</td>\n",
       "      <td>OTT @ MTL</td>\n",
       "      <td>2024-11-30</td>\n",
       "      <td>1</td>\n",
       "      <td>0</td>\n",
       "      <td>1</td>\n",
       "      <td>0</td>\n",
       "      <td>5</td>\n",
       "      <td>0</td>\n",
       "      <td>0</td>\n",
       "      <td>...</td>\n",
       "      <td>0</td>\n",
       "      <td>0</td>\n",
       "      <td>0</td>\n",
       "      <td>0</td>\n",
       "      <td>0</td>\n",
       "      <td>15:10</td>\n",
       "      <td>4</td>\n",
       "      <td>5</td>\n",
       "      <td>EMILY CLARK</td>\n",
       "      <td>F</td>\n",
       "    </tr>\n",
       "    <tr>\n",
       "      <th>1</th>\n",
       "      <td>2</td>\n",
       "      <td>TOR @ OTT</td>\n",
       "      <td>2024-12-03</td>\n",
       "      <td>0</td>\n",
       "      <td>0</td>\n",
       "      <td>0</td>\n",
       "      <td>0</td>\n",
       "      <td>5</td>\n",
       "      <td>0</td>\n",
       "      <td>2</td>\n",
       "      <td>...</td>\n",
       "      <td>0</td>\n",
       "      <td>0</td>\n",
       "      <td>0</td>\n",
       "      <td>0</td>\n",
       "      <td>0</td>\n",
       "      <td>17:55</td>\n",
       "      <td>1</td>\n",
       "      <td>5</td>\n",
       "      <td>EMILY CLARK</td>\n",
       "      <td>F</td>\n",
       "    </tr>\n",
       "    <tr>\n",
       "      <th>2</th>\n",
       "      <td>3</td>\n",
       "      <td>MTL @ OTT</td>\n",
       "      <td>2024-12-06</td>\n",
       "      <td>0</td>\n",
       "      <td>0</td>\n",
       "      <td>0</td>\n",
       "      <td>-1</td>\n",
       "      <td>2</td>\n",
       "      <td>0</td>\n",
       "      <td>0</td>\n",
       "      <td>...</td>\n",
       "      <td>0</td>\n",
       "      <td>0</td>\n",
       "      <td>0</td>\n",
       "      <td>0</td>\n",
       "      <td>0</td>\n",
       "      <td>16:28</td>\n",
       "      <td>0</td>\n",
       "      <td>5</td>\n",
       "      <td>EMILY CLARK</td>\n",
       "      <td>F</td>\n",
       "    </tr>\n",
       "    <tr>\n",
       "      <th>3</th>\n",
       "      <td>4</td>\n",
       "      <td>OTT @ BOS</td>\n",
       "      <td>2024-12-17</td>\n",
       "      <td>0</td>\n",
       "      <td>0</td>\n",
       "      <td>0</td>\n",
       "      <td>-1</td>\n",
       "      <td>2</td>\n",
       "      <td>0</td>\n",
       "      <td>0</td>\n",
       "      <td>...</td>\n",
       "      <td>0</td>\n",
       "      <td>0</td>\n",
       "      <td>0</td>\n",
       "      <td>0</td>\n",
       "      <td>0</td>\n",
       "      <td>15:55</td>\n",
       "      <td>2</td>\n",
       "      <td>5</td>\n",
       "      <td>EMILY CLARK</td>\n",
       "      <td>F</td>\n",
       "    </tr>\n",
       "    <tr>\n",
       "      <th>4</th>\n",
       "      <td>5</td>\n",
       "      <td>OTT @ MIN</td>\n",
       "      <td>2024-12-19</td>\n",
       "      <td>0</td>\n",
       "      <td>0</td>\n",
       "      <td>0</td>\n",
       "      <td>0</td>\n",
       "      <td>0</td>\n",
       "      <td>0</td>\n",
       "      <td>1</td>\n",
       "      <td>...</td>\n",
       "      <td>0</td>\n",
       "      <td>0</td>\n",
       "      <td>0</td>\n",
       "      <td>0</td>\n",
       "      <td>0</td>\n",
       "      <td>17:32</td>\n",
       "      <td>2</td>\n",
       "      <td>5</td>\n",
       "      <td>EMILY CLARK</td>\n",
       "      <td>F</td>\n",
       "    </tr>\n",
       "  </tbody>\n",
       "</table>\n",
       "<p>5 rows × 21 columns</p>\n",
       "</div>"
      ],
      "text/plain": [
       "   Unnamed: 0       game        date  goals  assists  points  plus-minus  \\\n",
       "0           1  OTT @ MTL  2024-11-30      1        0       1           0   \n",
       "1           2  TOR @ OTT  2024-12-03      0        0       0           0   \n",
       "2           3  MTL @ OTT  2024-12-06      0        0       0          -1   \n",
       "3           4  OTT @ BOS  2024-12-17      0        0       0          -1   \n",
       "4           5  OTT @ MIN  2024-12-19      0        0       0           0   \n",
       "\n",
       "   shots  penalty minutes  faceoffs  ...  power play goals  \\\n",
       "0      5                0         0  ...                 0   \n",
       "1      5                0         2  ...                 0   \n",
       "2      2                0         0  ...                 0   \n",
       "3      2                0         0  ...                 0   \n",
       "4      0                0         1  ...                 0   \n",
       "\n",
       "   short handed goals  game winning goals  shootoutgoals  shootout attempts  \\\n",
       "0                   0                   0              0                  0   \n",
       "1                   0                   0              0                  0   \n",
       "2                   0                   0              0                  0   \n",
       "3                   0                   0              0                  0   \n",
       "4                   0                   0              0                  0   \n",
       "\n",
       "   time on the ice hits  season         name position  \n",
       "0            15:10    4       5  EMILY CLARK        F  \n",
       "1            17:55    1       5  EMILY CLARK        F  \n",
       "2            16:28    0       5  EMILY CLARK        F  \n",
       "3            15:55    2       5  EMILY CLARK        F  \n",
       "4            17:32    2       5  EMILY CLARK        F  \n",
       "\n",
       "[5 rows x 21 columns]"
      ]
     },
     "execution_count": 155,
     "metadata": {},
     "output_type": "execute_result"
    }
   ],
   "source": [
    "df = pd.read_csv(\"emily_clark_test.csv\")\n",
    "df.head()"
   ]
  },
  {
   "cell_type": "code",
   "execution_count": 157,
   "id": "9cc68aee-ec05-4f44-ade4-0a7770acf6fb",
   "metadata": {},
   "outputs": [],
   "source": [
    "import plotly.graph_objects as go\n",
    "import plotly.express as px"
   ]
  },
  {
   "cell_type": "code",
   "execution_count": 235,
   "id": "e77a5d0a-d097-45dc-981b-a6e2e69657ce",
   "metadata": {},
   "outputs": [],
   "source": [
    "fig_df = df\n",
    "fig_df[\"blocked shots\"] = fig_df[\"shots\"] - fig_df[\"goals\"]\n",
    "\n",
    "def get_game_and_date(row):\n",
    "    return str(row[\"game\"]) + \" \" + str(row[\"date\"])\n",
    "\n",
    "fig_df[\"game and date\"] = fig_df.apply(lambda row: get_game_and_date(row), axis=1)"
   ]
  },
  {
   "cell_type": "code",
   "execution_count": 237,
   "id": "08b75894-a81b-48f1-aa8d-29049e36cd1c",
   "metadata": {},
   "outputs": [
    {
     "data": {
      "application/vnd.plotly.v1+json": {
       "config": {
        "plotlyServerURL": "https://plot.ly"
       },
       "data": [
        {
         "alignmentgroup": "True",
         "customdata": [
          [
           5
          ],
          [
           5
          ],
          [
           5
          ],
          [
           5
          ],
          [
           5
          ],
          [
           5
          ],
          [
           5
          ],
          [
           5
          ],
          [
           5
          ],
          [
           5
          ],
          [
           5
          ],
          [
           5
          ],
          [
           5
          ],
          [
           5
          ],
          [
           5
          ],
          [
           5
          ],
          [
           5
          ],
          [
           5
          ],
          [
           5
          ],
          [
           5
          ],
          [
           5
          ],
          [
           5
          ],
          [
           5
          ],
          [
           5
          ],
          [
           5
          ],
          [
           5
          ],
          [
           5
          ]
         ],
         "hovertemplate": "variable=goals<br>date=%{x}<br>value=%{y}<br>season=%{customdata[0]}<extra></extra>",
         "legendgroup": "goals",
         "marker": {
          "color": "#636efa",
          "line": {
           "color": "black",
           "width": 1
          },
          "pattern": {
           "shape": ""
          }
         },
         "name": "goals",
         "offsetgroup": "goals",
         "orientation": "v",
         "showlegend": true,
         "textposition": "auto",
         "type": "bar",
         "x": [
          "2024-11-30",
          "2024-12-03",
          "2024-12-06",
          "2024-12-17",
          "2024-12-19",
          "2024-12-29",
          "2024-12-31",
          "2025-01-07",
          "2025-01-11",
          "2025-01-14",
          "2025-01-19",
          "2025-01-21",
          "2025-01-27",
          "2025-01-29",
          "2025-02-01",
          "2025-02-13",
          "2025-02-16",
          "2025-02-20",
          "2025-02-22",
          "2025-02-26",
          "2025-03-07",
          "2025-03-11",
          "2025-03-15",
          "2025-03-22",
          "2025-03-25",
          "2025-03-29",
          "2025-04-02"
         ],
         "xaxis": "x",
         "y": [
          1,
          0,
          0,
          0,
          0,
          1,
          0,
          1,
          0,
          0,
          0,
          0,
          0,
          0,
          1,
          0,
          0,
          0,
          2,
          1,
          0,
          0,
          0,
          1,
          1,
          0,
          0
         ],
         "yaxis": "y"
        },
        {
         "alignmentgroup": "True",
         "customdata": [
          [
           5
          ],
          [
           5
          ],
          [
           5
          ],
          [
           5
          ],
          [
           5
          ],
          [
           5
          ],
          [
           5
          ],
          [
           5
          ],
          [
           5
          ],
          [
           5
          ],
          [
           5
          ],
          [
           5
          ],
          [
           5
          ],
          [
           5
          ],
          [
           5
          ],
          [
           5
          ],
          [
           5
          ],
          [
           5
          ],
          [
           5
          ],
          [
           5
          ],
          [
           5
          ],
          [
           5
          ],
          [
           5
          ],
          [
           5
          ],
          [
           5
          ],
          [
           5
          ],
          [
           5
          ]
         ],
         "hovertemplate": "variable=blocked shots<br>date=%{x}<br>value=%{y}<br>season=%{customdata[0]}<extra></extra>",
         "legendgroup": "blocked shots",
         "marker": {
          "color": "#EF553B",
          "line": {
           "color": "black",
           "width": 1
          },
          "pattern": {
           "shape": ""
          }
         },
         "name": "blocked shots",
         "offsetgroup": "blocked shots",
         "orientation": "v",
         "showlegend": true,
         "textposition": "auto",
         "type": "bar",
         "x": [
          "2024-11-30",
          "2024-12-03",
          "2024-12-06",
          "2024-12-17",
          "2024-12-19",
          "2024-12-29",
          "2024-12-31",
          "2025-01-07",
          "2025-01-11",
          "2025-01-14",
          "2025-01-19",
          "2025-01-21",
          "2025-01-27",
          "2025-01-29",
          "2025-02-01",
          "2025-02-13",
          "2025-02-16",
          "2025-02-20",
          "2025-02-22",
          "2025-02-26",
          "2025-03-07",
          "2025-03-11",
          "2025-03-15",
          "2025-03-22",
          "2025-03-25",
          "2025-03-29",
          "2025-04-02"
         ],
         "xaxis": "x",
         "y": [
          4,
          5,
          2,
          2,
          0,
          2,
          0,
          3,
          1,
          5,
          1,
          1,
          4,
          6,
          3,
          2,
          6,
          4,
          2,
          1,
          3,
          1,
          2,
          2,
          3,
          3,
          3
         ],
         "yaxis": "y"
        }
       ],
       "layout": {
        "autosize": true,
        "barmode": "relative",
        "legend": {
         "title": {
          "text": "variable"
         },
         "tracegroupgap": 0
        },
        "template": {
         "data": {
          "bar": [
           {
            "error_x": {
             "color": "#2a3f5f"
            },
            "error_y": {
             "color": "#2a3f5f"
            },
            "marker": {
             "line": {
              "color": "#E5ECF6",
              "width": 0.5
             },
             "pattern": {
              "fillmode": "overlay",
              "size": 10,
              "solidity": 0.2
             }
            },
            "type": "bar"
           }
          ],
          "barpolar": [
           {
            "marker": {
             "line": {
              "color": "#E5ECF6",
              "width": 0.5
             },
             "pattern": {
              "fillmode": "overlay",
              "size": 10,
              "solidity": 0.2
             }
            },
            "type": "barpolar"
           }
          ],
          "carpet": [
           {
            "aaxis": {
             "endlinecolor": "#2a3f5f",
             "gridcolor": "white",
             "linecolor": "white",
             "minorgridcolor": "white",
             "startlinecolor": "#2a3f5f"
            },
            "baxis": {
             "endlinecolor": "#2a3f5f",
             "gridcolor": "white",
             "linecolor": "white",
             "minorgridcolor": "white",
             "startlinecolor": "#2a3f5f"
            },
            "type": "carpet"
           }
          ],
          "choropleth": [
           {
            "colorbar": {
             "outlinewidth": 0,
             "ticks": ""
            },
            "type": "choropleth"
           }
          ],
          "contour": [
           {
            "colorbar": {
             "outlinewidth": 0,
             "ticks": ""
            },
            "colorscale": [
             [
              0,
              "#0d0887"
             ],
             [
              0.1111111111111111,
              "#46039f"
             ],
             [
              0.2222222222222222,
              "#7201a8"
             ],
             [
              0.3333333333333333,
              "#9c179e"
             ],
             [
              0.4444444444444444,
              "#bd3786"
             ],
             [
              0.5555555555555556,
              "#d8576b"
             ],
             [
              0.6666666666666666,
              "#ed7953"
             ],
             [
              0.7777777777777778,
              "#fb9f3a"
             ],
             [
              0.8888888888888888,
              "#fdca26"
             ],
             [
              1,
              "#f0f921"
             ]
            ],
            "type": "contour"
           }
          ],
          "contourcarpet": [
           {
            "colorbar": {
             "outlinewidth": 0,
             "ticks": ""
            },
            "type": "contourcarpet"
           }
          ],
          "heatmap": [
           {
            "colorbar": {
             "outlinewidth": 0,
             "ticks": ""
            },
            "colorscale": [
             [
              0,
              "#0d0887"
             ],
             [
              0.1111111111111111,
              "#46039f"
             ],
             [
              0.2222222222222222,
              "#7201a8"
             ],
             [
              0.3333333333333333,
              "#9c179e"
             ],
             [
              0.4444444444444444,
              "#bd3786"
             ],
             [
              0.5555555555555556,
              "#d8576b"
             ],
             [
              0.6666666666666666,
              "#ed7953"
             ],
             [
              0.7777777777777778,
              "#fb9f3a"
             ],
             [
              0.8888888888888888,
              "#fdca26"
             ],
             [
              1,
              "#f0f921"
             ]
            ],
            "type": "heatmap"
           }
          ],
          "heatmapgl": [
           {
            "colorbar": {
             "outlinewidth": 0,
             "ticks": ""
            },
            "colorscale": [
             [
              0,
              "#0d0887"
             ],
             [
              0.1111111111111111,
              "#46039f"
             ],
             [
              0.2222222222222222,
              "#7201a8"
             ],
             [
              0.3333333333333333,
              "#9c179e"
             ],
             [
              0.4444444444444444,
              "#bd3786"
             ],
             [
              0.5555555555555556,
              "#d8576b"
             ],
             [
              0.6666666666666666,
              "#ed7953"
             ],
             [
              0.7777777777777778,
              "#fb9f3a"
             ],
             [
              0.8888888888888888,
              "#fdca26"
             ],
             [
              1,
              "#f0f921"
             ]
            ],
            "type": "heatmapgl"
           }
          ],
          "histogram": [
           {
            "marker": {
             "pattern": {
              "fillmode": "overlay",
              "size": 10,
              "solidity": 0.2
             }
            },
            "type": "histogram"
           }
          ],
          "histogram2d": [
           {
            "colorbar": {
             "outlinewidth": 0,
             "ticks": ""
            },
            "colorscale": [
             [
              0,
              "#0d0887"
             ],
             [
              0.1111111111111111,
              "#46039f"
             ],
             [
              0.2222222222222222,
              "#7201a8"
             ],
             [
              0.3333333333333333,
              "#9c179e"
             ],
             [
              0.4444444444444444,
              "#bd3786"
             ],
             [
              0.5555555555555556,
              "#d8576b"
             ],
             [
              0.6666666666666666,
              "#ed7953"
             ],
             [
              0.7777777777777778,
              "#fb9f3a"
             ],
             [
              0.8888888888888888,
              "#fdca26"
             ],
             [
              1,
              "#f0f921"
             ]
            ],
            "type": "histogram2d"
           }
          ],
          "histogram2dcontour": [
           {
            "colorbar": {
             "outlinewidth": 0,
             "ticks": ""
            },
            "colorscale": [
             [
              0,
              "#0d0887"
             ],
             [
              0.1111111111111111,
              "#46039f"
             ],
             [
              0.2222222222222222,
              "#7201a8"
             ],
             [
              0.3333333333333333,
              "#9c179e"
             ],
             [
              0.4444444444444444,
              "#bd3786"
             ],
             [
              0.5555555555555556,
              "#d8576b"
             ],
             [
              0.6666666666666666,
              "#ed7953"
             ],
             [
              0.7777777777777778,
              "#fb9f3a"
             ],
             [
              0.8888888888888888,
              "#fdca26"
             ],
             [
              1,
              "#f0f921"
             ]
            ],
            "type": "histogram2dcontour"
           }
          ],
          "mesh3d": [
           {
            "colorbar": {
             "outlinewidth": 0,
             "ticks": ""
            },
            "type": "mesh3d"
           }
          ],
          "parcoords": [
           {
            "line": {
             "colorbar": {
              "outlinewidth": 0,
              "ticks": ""
             }
            },
            "type": "parcoords"
           }
          ],
          "pie": [
           {
            "automargin": true,
            "type": "pie"
           }
          ],
          "scatter": [
           {
            "fillpattern": {
             "fillmode": "overlay",
             "size": 10,
             "solidity": 0.2
            },
            "type": "scatter"
           }
          ],
          "scatter3d": [
           {
            "line": {
             "colorbar": {
              "outlinewidth": 0,
              "ticks": ""
             }
            },
            "marker": {
             "colorbar": {
              "outlinewidth": 0,
              "ticks": ""
             }
            },
            "type": "scatter3d"
           }
          ],
          "scattercarpet": [
           {
            "marker": {
             "colorbar": {
              "outlinewidth": 0,
              "ticks": ""
             }
            },
            "type": "scattercarpet"
           }
          ],
          "scattergeo": [
           {
            "marker": {
             "colorbar": {
              "outlinewidth": 0,
              "ticks": ""
             }
            },
            "type": "scattergeo"
           }
          ],
          "scattergl": [
           {
            "marker": {
             "colorbar": {
              "outlinewidth": 0,
              "ticks": ""
             }
            },
            "type": "scattergl"
           }
          ],
          "scattermapbox": [
           {
            "marker": {
             "colorbar": {
              "outlinewidth": 0,
              "ticks": ""
             }
            },
            "type": "scattermapbox"
           }
          ],
          "scatterpolar": [
           {
            "marker": {
             "colorbar": {
              "outlinewidth": 0,
              "ticks": ""
             }
            },
            "type": "scatterpolar"
           }
          ],
          "scatterpolargl": [
           {
            "marker": {
             "colorbar": {
              "outlinewidth": 0,
              "ticks": ""
             }
            },
            "type": "scatterpolargl"
           }
          ],
          "scatterternary": [
           {
            "marker": {
             "colorbar": {
              "outlinewidth": 0,
              "ticks": ""
             }
            },
            "type": "scatterternary"
           }
          ],
          "surface": [
           {
            "colorbar": {
             "outlinewidth": 0,
             "ticks": ""
            },
            "colorscale": [
             [
              0,
              "#0d0887"
             ],
             [
              0.1111111111111111,
              "#46039f"
             ],
             [
              0.2222222222222222,
              "#7201a8"
             ],
             [
              0.3333333333333333,
              "#9c179e"
             ],
             [
              0.4444444444444444,
              "#bd3786"
             ],
             [
              0.5555555555555556,
              "#d8576b"
             ],
             [
              0.6666666666666666,
              "#ed7953"
             ],
             [
              0.7777777777777778,
              "#fb9f3a"
             ],
             [
              0.8888888888888888,
              "#fdca26"
             ],
             [
              1,
              "#f0f921"
             ]
            ],
            "type": "surface"
           }
          ],
          "table": [
           {
            "cells": {
             "fill": {
              "color": "#EBF0F8"
             },
             "line": {
              "color": "white"
             }
            },
            "header": {
             "fill": {
              "color": "#C8D4E3"
             },
             "line": {
              "color": "white"
             }
            },
            "type": "table"
           }
          ]
         },
         "layout": {
          "annotationdefaults": {
           "arrowcolor": "#2a3f5f",
           "arrowhead": 0,
           "arrowwidth": 1
          },
          "autotypenumbers": "strict",
          "coloraxis": {
           "colorbar": {
            "outlinewidth": 0,
            "ticks": ""
           }
          },
          "colorscale": {
           "diverging": [
            [
             0,
             "#8e0152"
            ],
            [
             0.1,
             "#c51b7d"
            ],
            [
             0.2,
             "#de77ae"
            ],
            [
             0.3,
             "#f1b6da"
            ],
            [
             0.4,
             "#fde0ef"
            ],
            [
             0.5,
             "#f7f7f7"
            ],
            [
             0.6,
             "#e6f5d0"
            ],
            [
             0.7,
             "#b8e186"
            ],
            [
             0.8,
             "#7fbc41"
            ],
            [
             0.9,
             "#4d9221"
            ],
            [
             1,
             "#276419"
            ]
           ],
           "sequential": [
            [
             0,
             "#0d0887"
            ],
            [
             0.1111111111111111,
             "#46039f"
            ],
            [
             0.2222222222222222,
             "#7201a8"
            ],
            [
             0.3333333333333333,
             "#9c179e"
            ],
            [
             0.4444444444444444,
             "#bd3786"
            ],
            [
             0.5555555555555556,
             "#d8576b"
            ],
            [
             0.6666666666666666,
             "#ed7953"
            ],
            [
             0.7777777777777778,
             "#fb9f3a"
            ],
            [
             0.8888888888888888,
             "#fdca26"
            ],
            [
             1,
             "#f0f921"
            ]
           ],
           "sequentialminus": [
            [
             0,
             "#0d0887"
            ],
            [
             0.1111111111111111,
             "#46039f"
            ],
            [
             0.2222222222222222,
             "#7201a8"
            ],
            [
             0.3333333333333333,
             "#9c179e"
            ],
            [
             0.4444444444444444,
             "#bd3786"
            ],
            [
             0.5555555555555556,
             "#d8576b"
            ],
            [
             0.6666666666666666,
             "#ed7953"
            ],
            [
             0.7777777777777778,
             "#fb9f3a"
            ],
            [
             0.8888888888888888,
             "#fdca26"
            ],
            [
             1,
             "#f0f921"
            ]
           ]
          },
          "colorway": [
           "#636efa",
           "#EF553B",
           "#00cc96",
           "#ab63fa",
           "#FFA15A",
           "#19d3f3",
           "#FF6692",
           "#B6E880",
           "#FF97FF",
           "#FECB52"
          ],
          "font": {
           "color": "#2a3f5f"
          },
          "geo": {
           "bgcolor": "white",
           "lakecolor": "white",
           "landcolor": "#E5ECF6",
           "showlakes": true,
           "showland": true,
           "subunitcolor": "white"
          },
          "hoverlabel": {
           "align": "left"
          },
          "hovermode": "closest",
          "mapbox": {
           "style": "light"
          },
          "paper_bgcolor": "white",
          "plot_bgcolor": "#E5ECF6",
          "polar": {
           "angularaxis": {
            "gridcolor": "white",
            "linecolor": "white",
            "ticks": ""
           },
           "bgcolor": "#E5ECF6",
           "radialaxis": {
            "gridcolor": "white",
            "linecolor": "white",
            "ticks": ""
           }
          },
          "scene": {
           "xaxis": {
            "backgroundcolor": "#E5ECF6",
            "gridcolor": "white",
            "gridwidth": 2,
            "linecolor": "white",
            "showbackground": true,
            "ticks": "",
            "zerolinecolor": "white"
           },
           "yaxis": {
            "backgroundcolor": "#E5ECF6",
            "gridcolor": "white",
            "gridwidth": 2,
            "linecolor": "white",
            "showbackground": true,
            "ticks": "",
            "zerolinecolor": "white"
           },
           "zaxis": {
            "backgroundcolor": "#E5ECF6",
            "gridcolor": "white",
            "gridwidth": 2,
            "linecolor": "white",
            "showbackground": true,
            "ticks": "",
            "zerolinecolor": "white"
           }
          },
          "shapedefaults": {
           "line": {
            "color": "#2a3f5f"
           }
          },
          "ternary": {
           "aaxis": {
            "gridcolor": "white",
            "linecolor": "white",
            "ticks": ""
           },
           "baxis": {
            "gridcolor": "white",
            "linecolor": "white",
            "ticks": ""
           },
           "bgcolor": "#E5ECF6",
           "caxis": {
            "gridcolor": "white",
            "linecolor": "white",
            "ticks": ""
           }
          },
          "title": {
           "x": 0.05
          },
          "xaxis": {
           "automargin": true,
           "gridcolor": "white",
           "linecolor": "white",
           "ticks": "",
           "title": {
            "standoff": 15
           },
           "zerolinecolor": "white",
           "zerolinewidth": 2
          },
          "yaxis": {
           "automargin": true,
           "gridcolor": "white",
           "linecolor": "white",
           "ticks": "",
           "title": {
            "standoff": 15
           },
           "zerolinecolor": "white",
           "zerolinewidth": 2
          }
         }
        },
        "title": {
         "text": "Shots per game"
        },
        "xaxis": {
         "anchor": "y",
         "autorange": true,
         "domain": [
          0,
          1
         ],
         "range": [
          "2024-11-29",
          "2025-04-03"
         ],
         "tickangle": -90,
         "tickvals": [
          "2024-11-30",
          "2024-12-03",
          "2024-12-06",
          "2024-12-17",
          "2024-12-19",
          "2024-12-29",
          "2024-12-31",
          "2025-01-07",
          "2025-01-11",
          "2025-01-14",
          "2025-01-19",
          "2025-01-21",
          "2025-01-27",
          "2025-01-29",
          "2025-02-01",
          "2025-02-13",
          "2025-02-16",
          "2025-02-20",
          "2025-02-22",
          "2025-02-26",
          "2025-03-07",
          "2025-03-11",
          "2025-03-15",
          "2025-03-22",
          "2025-03-25",
          "2025-03-29",
          "2025-04-02"
         ],
         "title": {
          "text": "date"
         },
         "type": "date"
        },
        "yaxis": {
         "anchor": "x",
         "autorange": true,
         "domain": [
          0,
          1
         ],
         "range": [
          0,
          6.315789473684211
         ],
         "title": {
          "text": "value"
         },
         "type": "linear"
        }
       }
      },
      "image/png": "[encoded data removed]",
      "text/html": [
       "<div>                            <div id=\"828e4623-dd65-4c2c-ab73-9fcbdb26f072\" class=\"plotly-graph-div\" style=\"height:525px; width:100%;\"></div>            <script type=\"text/javascript\">                require([\"plotly\"], function(Plotly) {                    window.PLOTLYENV=window.PLOTLYENV || {};                                    if (document.getElementById(\"828e4623-dd65-4c2c-ab73-9fcbdb26f072\")) {                    Plotly.newPlot(                        \"828e4623-dd65-4c2c-ab73-9fcbdb26f072\",                        [{\"alignmentgroup\":\"True\",\"customdata\":[[5],[5],[5],[5],[5],[5],[5],[5],[5],[5],[5],[5],[5],[5],[5],[5],[5],[5],[5],[5],[5],[5],[5],[5],[5],[5],[5]],\"hovertemplate\":\"variable=goals<br>date=%{x}<br>value=%{y}<br>season=%{customdata[0]}<extra></extra>\",\"legendgroup\":\"goals\",\"marker\":{\"color\":\"#636efa\",\"pattern\":{\"shape\":\"\"},\"line\":{\"color\":\"black\",\"width\":1}},\"name\":\"goals\",\"offsetgroup\":\"goals\",\"orientation\":\"v\",\"showlegend\":true,\"textposition\":\"auto\",\"x\":[\"2024-11-30\",\"2024-12-03\",\"2024-12-06\",\"2024-12-17\",\"2024-12-19\",\"2024-12-29\",\"2024-12-31\",\"2025-01-07\",\"2025-01-11\",\"2025-01-14\",\"2025-01-19\",\"2025-01-21\",\"2025-01-27\",\"2025-01-29\",\"2025-02-01\",\"2025-02-13\",\"2025-02-16\",\"2025-02-20\",\"2025-02-22\",\"2025-02-26\",\"2025-03-07\",\"2025-03-11\",\"2025-03-15\",\"2025-03-22\",\"2025-03-25\",\"2025-03-29\",\"2025-04-02\"],\"xaxis\":\"x\",\"y\":[1,0,0,0,0,1,0,1,0,0,0,0,0,0,1,0,0,0,2,1,0,0,0,1,1,0,0],\"yaxis\":\"y\",\"type\":\"bar\"},{\"alignmentgroup\":\"True\",\"customdata\":[[5],[5],[5],[5],[5],[5],[5],[5],[5],[5],[5],[5],[5],[5],[5],[5],[5],[5],[5],[5],[5],[5],[5],[5],[5],[5],[5]],\"hovertemplate\":\"variable=blocked shots<br>date=%{x}<br>value=%{y}<br>season=%{customdata[0]}<extra></extra>\",\"legendgroup\":\"blocked shots\",\"marker\":{\"color\":\"#EF553B\",\"pattern\":{\"shape\":\"\"},\"line\":{\"color\":\"black\",\"width\":1}},\"name\":\"blocked shots\",\"offsetgroup\":\"blocked shots\",\"orientation\":\"v\",\"showlegend\":true,\"textposition\":\"auto\",\"x\":[\"2024-11-30\",\"2024-12-03\",\"2024-12-06\",\"2024-12-17\",\"2024-12-19\",\"2024-12-29\",\"2024-12-31\",\"2025-01-07\",\"2025-01-11\",\"2025-01-14\",\"2025-01-19\",\"2025-01-21\",\"2025-01-27\",\"2025-01-29\",\"2025-02-01\",\"2025-02-13\",\"2025-02-16\",\"2025-02-20\",\"2025-02-22\",\"2025-02-26\",\"2025-03-07\",\"2025-03-11\",\"2025-03-15\",\"2025-03-22\",\"2025-03-25\",\"2025-03-29\",\"2025-04-02\"],\"xaxis\":\"x\",\"y\":[4,5,2,2,0,2,0,3,1,5,1,1,4,6,3,2,6,4,2,1,3,1,2,2,3,3,3],\"yaxis\":\"y\",\"type\":\"bar\"}],                        {\"template\":{\"data\":{\"histogram2dcontour\":[{\"type\":\"histogram2dcontour\",\"colorbar\":{\"outlinewidth\":0,\"ticks\":\"\"},\"colorscale\":[[0.0,\"#0d0887\"],[0.1111111111111111,\"#46039f\"],[0.2222222222222222,\"#7201a8\"],[0.3333333333333333,\"#9c179e\"],[0.4444444444444444,\"#bd3786\"],[0.5555555555555556,\"#d8576b\"],[0.6666666666666666,\"#ed7953\"],[0.7777777777777778,\"#fb9f3a\"],[0.8888888888888888,\"#fdca26\"],[1.0,\"#f0f921\"]]}],\"choropleth\":[{\"type\":\"choropleth\",\"colorbar\":{\"outlinewidth\":0,\"ticks\":\"\"}}],\"histogram2d\":[{\"type\":\"histogram2d\",\"colorbar\":{\"outlinewidth\":0,\"ticks\":\"\"},\"colorscale\":[[0.0,\"#0d0887\"],[0.1111111111111111,\"#46039f\"],[0.2222222222222222,\"#7201a8\"],[0.3333333333333333,\"#9c179e\"],[0.4444444444444444,\"#bd3786\"],[0.5555555555555556,\"#d8576b\"],[0.6666666666666666,\"#ed7953\"],[0.7777777777777778,\"#fb9f3a\"],[0.8888888888888888,\"#fdca26\"],[1.0,\"#f0f921\"]]}],\"heatmap\":[{\"type\":\"heatmap\",\"colorbar\":{\"outlinewidth\":0,\"ticks\":\"\"},\"colorscale\":[[0.0,\"#0d0887\"],[0.1111111111111111,\"#46039f\"],[0.2222222222222222,\"#7201a8\"],[0.3333333333333333,\"#9c179e\"],[0.4444444444444444,\"#bd3786\"],[0.5555555555555556,\"#d8576b\"],[0.6666666666666666,\"#ed7953\"],[0.7777777777777778,\"#fb9f3a\"],[0.8888888888888888,\"#fdca26\"],[1.0,\"#f0f921\"]]}],\"heatmapgl\":[{\"type\":\"heatmapgl\",\"colorbar\":{\"outlinewidth\":0,\"ticks\":\"\"},\"colorscale\":[[0.0,\"#0d0887\"],[0.1111111111111111,\"#46039f\"],[0.2222222222222222,\"#7201a8\"],[0.3333333333333333,\"#9c179e\"],[0.4444444444444444,\"#bd3786\"],[0.5555555555555556,\"#d8576b\"],[0.6666666666666666,\"#ed7953\"],[0.7777777777777778,\"#fb9f3a\"],[0.8888888888888888,\"#fdca26\"],[1.0,\"#f0f921\"]]}],\"contourcarpet\":[{\"type\":\"contourcarpet\",\"colorbar\":{\"outlinewidth\":0,\"ticks\":\"\"}}],\"contour\":[{\"type\":\"contour\",\"colorbar\":{\"outlinewidth\":0,\"ticks\":\"\"},\"colorscale\":[[0.0,\"#0d0887\"],[0.1111111111111111,\"#46039f\"],[0.2222222222222222,\"#7201a8\"],[0.3333333333333333,\"#9c179e\"],[0.4444444444444444,\"#bd3786\"],[0.5555555555555556,\"#d8576b\"],[0.6666666666666666,\"#ed7953\"],[0.7777777777777778,\"#fb9f3a\"],[0.8888888888888888,\"#fdca26\"],[1.0,\"#f0f921\"]]}],\"surface\":[{\"type\":\"surface\",\"colorbar\":{\"outlinewidth\":0,\"ticks\":\"\"},\"colorscale\":[[0.0,\"#0d0887\"],[0.1111111111111111,\"#46039f\"],[0.2222222222222222,\"#7201a8\"],[0.3333333333333333,\"#9c179e\"],[0.4444444444444444,\"#bd3786\"],[0.5555555555555556,\"#d8576b\"],[0.6666666666666666,\"#ed7953\"],[0.7777777777777778,\"#fb9f3a\"],[0.8888888888888888,\"#fdca26\"],[1.0,\"#f0f921\"]]}],\"mesh3d\":[{\"type\":\"mesh3d\",\"colorbar\":{\"outlinewidth\":0,\"ticks\":\"\"}}],\"scatter\":[{\"fillpattern\":{\"fillmode\":\"overlay\",\"size\":10,\"solidity\":0.2},\"type\":\"scatter\"}],\"parcoords\":[{\"type\":\"parcoords\",\"line\":{\"colorbar\":{\"outlinewidth\":0,\"ticks\":\"\"}}}],\"scatterpolargl\":[{\"type\":\"scatterpolargl\",\"marker\":{\"colorbar\":{\"outlinewidth\":0,\"ticks\":\"\"}}}],\"bar\":[{\"error_x\":{\"color\":\"#2a3f5f\"},\"error_y\":{\"color\":\"#2a3f5f\"},\"marker\":{\"line\":{\"color\":\"#E5ECF6\",\"width\":0.5},\"pattern\":{\"fillmode\":\"overlay\",\"size\":10,\"solidity\":0.2}},\"type\":\"bar\"}],\"scattergeo\":[{\"type\":\"scattergeo\",\"marker\":{\"colorbar\":{\"outlinewidth\":0,\"ticks\":\"\"}}}],\"scatterpolar\":[{\"type\":\"scatterpolar\",\"marker\":{\"colorbar\":{\"outlinewidth\":0,\"ticks\":\"\"}}}],\"histogram\":[{\"marker\":{\"pattern\":{\"fillmode\":\"overlay\",\"size\":10,\"solidity\":0.2}},\"type\":\"histogram\"}],\"scattergl\":[{\"type\":\"scattergl\",\"marker\":{\"colorbar\":{\"outlinewidth\":0,\"ticks\":\"\"}}}],\"scatter3d\":[{\"type\":\"scatter3d\",\"line\":{\"colorbar\":{\"outlinewidth\":0,\"ticks\":\"\"}},\"marker\":{\"colorbar\":{\"outlinewidth\":0,\"ticks\":\"\"}}}],\"scattermapbox\":[{\"type\":\"scattermapbox\",\"marker\":{\"colorbar\":{\"outlinewidth\":0,\"ticks\":\"\"}}}],\"scatterternary\":[{\"type\":\"scatterternary\",\"marker\":{\"colorbar\":{\"outlinewidth\":0,\"ticks\":\"\"}}}],\"scattercarpet\":[{\"type\":\"scattercarpet\",\"marker\":{\"colorbar\":{\"outlinewidth\":0,\"ticks\":\"\"}}}],\"carpet\":[{\"aaxis\":{\"endlinecolor\":\"#2a3f5f\",\"gridcolor\":\"white\",\"linecolor\":\"white\",\"minorgridcolor\":\"white\",\"startlinecolor\":\"#2a3f5f\"},\"baxis\":{\"endlinecolor\":\"#2a3f5f\",\"gridcolor\":\"white\",\"linecolor\":\"white\",\"minorgridcolor\":\"white\",\"startlinecolor\":\"#2a3f5f\"},\"type\":\"carpet\"}],\"table\":[{\"cells\":{\"fill\":{\"color\":\"#EBF0F8\"},\"line\":{\"color\":\"white\"}},\"header\":{\"fill\":{\"color\":\"#C8D4E3\"},\"line\":{\"color\":\"white\"}},\"type\":\"table\"}],\"barpolar\":[{\"marker\":{\"line\":{\"color\":\"#E5ECF6\",\"width\":0.5},\"pattern\":{\"fillmode\":\"overlay\",\"size\":10,\"solidity\":0.2}},\"type\":\"barpolar\"}],\"pie\":[{\"automargin\":true,\"type\":\"pie\"}]},\"layout\":{\"autotypenumbers\":\"strict\",\"colorway\":[\"#636efa\",\"#EF553B\",\"#00cc96\",\"#ab63fa\",\"#FFA15A\",\"#19d3f3\",\"#FF6692\",\"#B6E880\",\"#FF97FF\",\"#FECB52\"],\"font\":{\"color\":\"#2a3f5f\"},\"hovermode\":\"closest\",\"hoverlabel\":{\"align\":\"left\"},\"paper_bgcolor\":\"white\",\"plot_bgcolor\":\"#E5ECF6\",\"polar\":{\"bgcolor\":\"#E5ECF6\",\"angularaxis\":{\"gridcolor\":\"white\",\"linecolor\":\"white\",\"ticks\":\"\"},\"radialaxis\":{\"gridcolor\":\"white\",\"linecolor\":\"white\",\"ticks\":\"\"}},\"ternary\":{\"bgcolor\":\"#E5ECF6\",\"aaxis\":{\"gridcolor\":\"white\",\"linecolor\":\"white\",\"ticks\":\"\"},\"baxis\":{\"gridcolor\":\"white\",\"linecolor\":\"white\",\"ticks\":\"\"},\"caxis\":{\"gridcolor\":\"white\",\"linecolor\":\"white\",\"ticks\":\"\"}},\"coloraxis\":{\"colorbar\":{\"outlinewidth\":0,\"ticks\":\"\"}},\"colorscale\":{\"sequential\":[[0.0,\"#0d0887\"],[0.1111111111111111,\"#46039f\"],[0.2222222222222222,\"#7201a8\"],[0.3333333333333333,\"#9c179e\"],[0.4444444444444444,\"#bd3786\"],[0.5555555555555556,\"#d8576b\"],[0.6666666666666666,\"#ed7953\"],[0.7777777777777778,\"#fb9f3a\"],[0.8888888888888888,\"#fdca26\"],[1.0,\"#f0f921\"]],\"sequentialminus\":[[0.0,\"#0d0887\"],[0.1111111111111111,\"#46039f\"],[0.2222222222222222,\"#7201a8\"],[0.3333333333333333,\"#9c179e\"],[0.4444444444444444,\"#bd3786\"],[0.5555555555555556,\"#d8576b\"],[0.6666666666666666,\"#ed7953\"],[0.7777777777777778,\"#fb9f3a\"],[0.8888888888888888,\"#fdca26\"],[1.0,\"#f0f921\"]],\"diverging\":[[0,\"#8e0152\"],[0.1,\"#c51b7d\"],[0.2,\"#de77ae\"],[0.3,\"#f1b6da\"],[0.4,\"#fde0ef\"],[0.5,\"#f7f7f7\"],[0.6,\"#e6f5d0\"],[0.7,\"#b8e186\"],[0.8,\"#7fbc41\"],[0.9,\"#4d9221\"],[1,\"#276419\"]]},\"xaxis\":{\"gridcolor\":\"white\",\"linecolor\":\"white\",\"ticks\":\"\",\"title\":{\"standoff\":15},\"zerolinecolor\":\"white\",\"automargin\":true,\"zerolinewidth\":2},\"yaxis\":{\"gridcolor\":\"white\",\"linecolor\":\"white\",\"ticks\":\"\",\"title\":{\"standoff\":15},\"zerolinecolor\":\"white\",\"automargin\":true,\"zerolinewidth\":2},\"scene\":{\"xaxis\":{\"backgroundcolor\":\"#E5ECF6\",\"gridcolor\":\"white\",\"linecolor\":\"white\",\"showbackground\":true,\"ticks\":\"\",\"zerolinecolor\":\"white\",\"gridwidth\":2},\"yaxis\":{\"backgroundcolor\":\"#E5ECF6\",\"gridcolor\":\"white\",\"linecolor\":\"white\",\"showbackground\":true,\"ticks\":\"\",\"zerolinecolor\":\"white\",\"gridwidth\":2},\"zaxis\":{\"backgroundcolor\":\"#E5ECF6\",\"gridcolor\":\"white\",\"linecolor\":\"white\",\"showbackground\":true,\"ticks\":\"\",\"zerolinecolor\":\"white\",\"gridwidth\":2}},\"shapedefaults\":{\"line\":{\"color\":\"#2a3f5f\"}},\"annotationdefaults\":{\"arrowcolor\":\"#2a3f5f\",\"arrowhead\":0,\"arrowwidth\":1},\"geo\":{\"bgcolor\":\"white\",\"landcolor\":\"#E5ECF6\",\"subunitcolor\":\"white\",\"showland\":true,\"showlakes\":true,\"lakecolor\":\"white\"},\"title\":{\"x\":0.05},\"mapbox\":{\"style\":\"light\"}}},\"xaxis\":{\"anchor\":\"y\",\"domain\":[0.0,1.0],\"title\":{\"text\":\"date\"},\"tickangle\":-90,\"tickvals\":[\"2024-11-30\",\"2024-12-03\",\"2024-12-06\",\"2024-12-17\",\"2024-12-19\",\"2024-12-29\",\"2024-12-31\",\"2025-01-07\",\"2025-01-11\",\"2025-01-14\",\"2025-01-19\",\"2025-01-21\",\"2025-01-27\",\"2025-01-29\",\"2025-02-01\",\"2025-02-13\",\"2025-02-16\",\"2025-02-20\",\"2025-02-22\",\"2025-02-26\",\"2025-03-07\",\"2025-03-11\",\"2025-03-15\",\"2025-03-22\",\"2025-03-25\",\"2025-03-29\",\"2025-04-02\"]},\"yaxis\":{\"anchor\":\"x\",\"domain\":[0.0,1.0],\"title\":{\"text\":\"value\"}},\"legend\":{\"title\":{\"text\":\"variable\"},\"tracegroupgap\":0},\"title\":{\"text\":\"Shots per game\"},\"barmode\":\"relative\"},                        {\"responsive\": true}                    ).then(function(){\n",
       "                            \n",
       "var gd = document.getElementById('828e4623-dd65-4c2c-ab73-9fcbdb26f072');\n",
       "var x = new MutationObserver(function (mutations, observer) {{\n",
       "        var display = window.getComputedStyle(gd).display;\n",
       "        if (!display || display === 'none') {{\n",
       "            console.log([gd, 'removed!']);\n",
       "            Plotly.purge(gd);\n",
       "            observer.disconnect();\n",
       "        }}\n",
       "}});\n",
       "\n",
       "// Listen for the removal of the full notebook cells\n",
       "var notebookContainer = gd.closest('#notebook-container');\n",
       "if (notebookContainer) {{\n",
       "    x.observe(notebookContainer, {childList: true});\n",
       "}}\n",
       "\n",
       "// Listen for the clearing of the current output cell\n",
       "var outputEl = gd.closest('.output');\n",
       "if (outputEl) {{\n",
       "    x.observe(outputEl, {childList: true});\n",
       "}}\n",
       "\n",
       "                        })                };                });            </script>        </div>"
      ]
     },
     "metadata": {},
     "output_type": "display_data"
    }
   ],
   "source": [
    "fig = px.bar(fig_df, x=\"date\", y=[\"goals\", \"blocked shots\"], title=\"Shots per game\", hover_data = {\"season\": True})\n",
    "fig.update_xaxes(tickangle=270, tickvals = df[\"date\"])\n",
    "fig.update_traces(marker_line_color=\"black\", marker_line_width=1)\n",
    "fig.show()"
   ]
  },
  {
   "cell_type": "markdown",
   "id": "9b6a5733-8460-40fd-8628-d849328be2fd",
   "metadata": {},
   "source": [
    "Let’s do a second one. What about the number of points per minute on the ice?"
   ]
  },
  {
   "cell_type": "code",
   "execution_count": 217,
   "id": "c45ccc06-6c64-43b7-8fdf-2e09f6e0ddc1",
   "metadata": {},
   "outputs": [
    {
     "data": {
      "text/plain": [
       "0    15:10\n",
       "1    17:55\n",
       "2    16:28\n",
       "3    15:55\n",
       "4    17:32\n",
       "Name: time on the ice, dtype: object"
      ]
     },
     "execution_count": 217,
     "metadata": {},
     "output_type": "execute_result"
    }
   ],
   "source": [
    "df[\"time on the ice\"].head()"
   ]
  },
  {
   "cell_type": "code",
   "execution_count": 221,
   "id": "846c20c0-26a0-4324-8322-f7e5a9819481",
   "metadata": {},
   "outputs": [
    {
     "data": {
      "text/html": [
       "<div>\n",
       "<style scoped>\n",
       "    .dataframe tbody tr th:only-of-type {\n",
       "        vertical-align: middle;\n",
       "    }\n",
       "\n",
       "    .dataframe tbody tr th {\n",
       "        vertical-align: top;\n",
       "    }\n",
       "\n",
       "    .dataframe thead th {\n",
       "        text-align: right;\n",
       "    }\n",
       "</style>\n",
       "<table border=\"1\" class=\"dataframe\">\n",
       "  <thead>\n",
       "    <tr style=\"text-align: right;\">\n",
       "      <th></th>\n",
       "      <th>time on the ice</th>\n",
       "      <th>minutes on the ice</th>\n",
       "    </tr>\n",
       "  </thead>\n",
       "  <tbody>\n",
       "    <tr>\n",
       "      <th>0</th>\n",
       "      <td>15:10</td>\n",
       "      <td>15.166667</td>\n",
       "    </tr>\n",
       "    <tr>\n",
       "      <th>1</th>\n",
       "      <td>17:55</td>\n",
       "      <td>17.916667</td>\n",
       "    </tr>\n",
       "    <tr>\n",
       "      <th>2</th>\n",
       "      <td>16:28</td>\n",
       "      <td>16.466667</td>\n",
       "    </tr>\n",
       "    <tr>\n",
       "      <th>3</th>\n",
       "      <td>15:55</td>\n",
       "      <td>15.916667</td>\n",
       "    </tr>\n",
       "    <tr>\n",
       "      <th>4</th>\n",
       "      <td>17:32</td>\n",
       "      <td>17.533333</td>\n",
       "    </tr>\n",
       "  </tbody>\n",
       "</table>\n",
       "</div>"
      ],
      "text/plain": [
       "  time on the ice  minutes on the ice\n",
       "0           15:10           15.166667\n",
       "1           17:55           17.916667\n",
       "2           16:28           16.466667\n",
       "3           15:55           15.916667\n",
       "4           17:32           17.533333"
      ]
     },
     "execution_count": 221,
     "metadata": {},
     "output_type": "execute_result"
    }
   ],
   "source": [
    "def mm_ss_to_decimal(mm_ss):\n",
    "    mm, ss = mm_ss.split(\":\")\n",
    "    return int(mm) + (int(ss) / 60)\n",
    "\n",
    "def get_minutes_on_the_ice(row):\n",
    "    return mm_ss_to_decimal(str(row[\"time on the ice\"]))\n",
    "\n",
    "fig_df = df\n",
    "fig_df[\"minutes on the ice\"] = fig_df.apply(lambda row: get_minutes_on_the_ice(row), axis=1)\n",
    "fig_df[[\"time on the ice\", \"minutes on the ice\"]].head()"
   ]
  },
  {
   "cell_type": "code",
   "execution_count": 231,
   "id": "380f76fb-3259-46c6-83bf-d8af8ff27be3",
   "metadata": {},
   "outputs": [
    {
     "data": {
      "application/vnd.plotly.v1+json": {
       "config": {
        "plotlyServerURL": "https://plot.ly"
       },
       "data": [
        {
         "alignmentgroup": "True",
         "customdata": [
          [
           5
          ],
          [
           5
          ],
          [
           5
          ],
          [
           5
          ],
          [
           5
          ],
          [
           5
          ],
          [
           5
          ],
          [
           5
          ],
          [
           5
          ],
          [
           5
          ],
          [
           5
          ],
          [
           5
          ],
          [
           5
          ],
          [
           5
          ],
          [
           5
          ],
          [
           5
          ],
          [
           5
          ],
          [
           5
          ],
          [
           5
          ],
          [
           5
          ],
          [
           5
          ],
          [
           5
          ],
          [
           5
          ],
          [
           5
          ],
          [
           5
          ],
          [
           5
          ],
          [
           5
          ]
         ],
         "hovertemplate": "variable=points from goals<br>date=%{x}<br>value=%{y}<br>season=%{customdata[0]}<extra></extra>",
         "legendgroup": "points from goals",
         "marker": {
          "color": "#636efa",
          "line": {
           "color": "black",
           "width": 1
          },
          "pattern": {
           "shape": ""
          }
         },
         "name": "points from goals",
         "offsetgroup": "points from goals",
         "orientation": "v",
         "showlegend": true,
         "textposition": "auto",
         "type": "bar",
         "x": [
          "2024-11-30",
          "2024-12-03",
          "2024-12-06",
          "2024-12-17",
          "2024-12-19",
          "2024-12-29",
          "2024-12-31",
          "2025-01-07",
          "2025-01-11",
          "2025-01-14",
          "2025-01-19",
          "2025-01-21",
          "2025-01-27",
          "2025-01-29",
          "2025-02-01",
          "2025-02-13",
          "2025-02-16",
          "2025-02-20",
          "2025-02-22",
          "2025-02-26",
          "2025-03-07",
          "2025-03-11",
          "2025-03-15",
          "2025-03-22",
          "2025-03-25",
          "2025-03-29",
          "2025-04-02"
         ],
         "xaxis": "x",
         "y": [
          0.06593406593406594,
          0,
          0,
          0,
          0,
          0.05940594059405941,
          0,
          0.05859375,
          0,
          0,
          0,
          0,
          0,
          0,
          0.06465517241379311,
          0,
          0,
          0,
          0.05631159080244017,
          0.046189376443418015,
          0,
          0,
          0,
          0.061162079510703356,
          0.04421518054532056,
          0,
          0
         ],
         "yaxis": "y"
        },
        {
         "alignmentgroup": "True",
         "customdata": [
          [
           5
          ],
          [
           5
          ],
          [
           5
          ],
          [
           5
          ],
          [
           5
          ],
          [
           5
          ],
          [
           5
          ],
          [
           5
          ],
          [
           5
          ],
          [
           5
          ],
          [
           5
          ],
          [
           5
          ],
          [
           5
          ],
          [
           5
          ],
          [
           5
          ],
          [
           5
          ],
          [
           5
          ],
          [
           5
          ],
          [
           5
          ],
          [
           5
          ],
          [
           5
          ],
          [
           5
          ],
          [
           5
          ],
          [
           5
          ],
          [
           5
          ],
          [
           5
          ],
          [
           5
          ]
         ],
         "hovertemplate": "variable=points from assists<br>date=%{x}<br>value=%{y}<br>season=%{customdata[0]}<extra></extra>",
         "legendgroup": "points from assists",
         "marker": {
          "color": "#EF553B",
          "line": {
           "color": "black",
           "width": 1
          },
          "pattern": {
           "shape": ""
          }
         },
         "name": "points from assists",
         "offsetgroup": "points from assists",
         "orientation": "v",
         "showlegend": true,
         "textposition": "auto",
         "type": "bar",
         "x": [
          "2024-11-30",
          "2024-12-03",
          "2024-12-06",
          "2024-12-17",
          "2024-12-19",
          "2024-12-29",
          "2024-12-31",
          "2025-01-07",
          "2025-01-11",
          "2025-01-14",
          "2025-01-19",
          "2025-01-21",
          "2025-01-27",
          "2025-01-29",
          "2025-02-01",
          "2025-02-13",
          "2025-02-16",
          "2025-02-20",
          "2025-02-22",
          "2025-02-26",
          "2025-03-07",
          "2025-03-11",
          "2025-03-15",
          "2025-03-22",
          "2025-03-25",
          "2025-03-29",
          "2025-04-02"
         ],
         "xaxis": "x",
         "y": [
          0,
          0,
          0,
          0,
          0,
          0.05940594059405941,
          0,
          0,
          0,
          0,
          0,
          0.04930156121610517,
          0,
          0,
          0,
          0.14405762304921968,
          0.050590219224283306,
          0.04640371229698376,
          0.028155795401220086,
          0.046189376443418015,
          0,
          0,
          0,
          0,
          0,
          0,
          0
         ],
         "yaxis": "y"
        }
       ],
       "layout": {
        "autosize": true,
        "barmode": "relative",
        "legend": {
         "title": {
          "text": "variable"
         },
         "tracegroupgap": 0
        },
        "template": {
         "data": {
          "bar": [
           {
            "error_x": {
             "color": "#2a3f5f"
            },
            "error_y": {
             "color": "#2a3f5f"
            },
            "marker": {
             "line": {
              "color": "#E5ECF6",
              "width": 0.5
             },
             "pattern": {
              "fillmode": "overlay",
              "size": 10,
              "solidity": 0.2
             }
            },
            "type": "bar"
           }
          ],
          "barpolar": [
           {
            "marker": {
             "line": {
              "color": "#E5ECF6",
              "width": 0.5
             },
             "pattern": {
              "fillmode": "overlay",
              "size": 10,
              "solidity": 0.2
             }
            },
            "type": "barpolar"
           }
          ],
          "carpet": [
           {
            "aaxis": {
             "endlinecolor": "#2a3f5f",
             "gridcolor": "white",
             "linecolor": "white",
             "minorgridcolor": "white",
             "startlinecolor": "#2a3f5f"
            },
            "baxis": {
             "endlinecolor": "#2a3f5f",
             "gridcolor": "white",
             "linecolor": "white",
             "minorgridcolor": "white",
             "startlinecolor": "#2a3f5f"
            },
            "type": "carpet"
           }
          ],
          "choropleth": [
           {
            "colorbar": {
             "outlinewidth": 0,
             "ticks": ""
            },
            "type": "choropleth"
           }
          ],
          "contour": [
           {
            "colorbar": {
             "outlinewidth": 0,
             "ticks": ""
            },
            "colorscale": [
             [
              0,
              "#0d0887"
             ],
             [
              0.1111111111111111,
              "#46039f"
             ],
             [
              0.2222222222222222,
              "#7201a8"
             ],
             [
              0.3333333333333333,
              "#9c179e"
             ],
             [
              0.4444444444444444,
              "#bd3786"
             ],
             [
              0.5555555555555556,
              "#d8576b"
             ],
             [
              0.6666666666666666,
              "#ed7953"
             ],
             [
              0.7777777777777778,
              "#fb9f3a"
             ],
             [
              0.8888888888888888,
              "#fdca26"
             ],
             [
              1,
              "#f0f921"
             ]
            ],
            "type": "contour"
           }
          ],
          "contourcarpet": [
           {
            "colorbar": {
             "outlinewidth": 0,
             "ticks": ""
            },
            "type": "contourcarpet"
           }
          ],
          "heatmap": [
           {
            "colorbar": {
             "outlinewidth": 0,
             "ticks": ""
            },
            "colorscale": [
             [
              0,
              "#0d0887"
             ],
             [
              0.1111111111111111,
              "#46039f"
             ],
             [
              0.2222222222222222,
              "#7201a8"
             ],
             [
              0.3333333333333333,
              "#9c179e"
             ],
             [
              0.4444444444444444,
              "#bd3786"
             ],
             [
              0.5555555555555556,
              "#d8576b"
             ],
             [
              0.6666666666666666,
              "#ed7953"
             ],
             [
              0.7777777777777778,
              "#fb9f3a"
             ],
             [
              0.8888888888888888,
              "#fdca26"
             ],
             [
              1,
              "#f0f921"
             ]
            ],
            "type": "heatmap"
           }
          ],
          "heatmapgl": [
           {
            "colorbar": {
             "outlinewidth": 0,
             "ticks": ""
            },
            "colorscale": [
             [
              0,
              "#0d0887"
             ],
             [
              0.1111111111111111,
              "#46039f"
             ],
             [
              0.2222222222222222,
              "#7201a8"
             ],
             [
              0.3333333333333333,
              "#9c179e"
             ],
             [
              0.4444444444444444,
              "#bd3786"
             ],
             [
              0.5555555555555556,
              "#d8576b"
             ],
             [
              0.6666666666666666,
              "#ed7953"
             ],
             [
              0.7777777777777778,
              "#fb9f3a"
             ],
             [
              0.8888888888888888,
              "#fdca26"
             ],
             [
              1,
              "#f0f921"
             ]
            ],
            "type": "heatmapgl"
           }
          ],
          "histogram": [
           {
            "marker": {
             "pattern": {
              "fillmode": "overlay",
              "size": 10,
              "solidity": 0.2
             }
            },
            "type": "histogram"
           }
          ],
          "histogram2d": [
           {
            "colorbar": {
             "outlinewidth": 0,
             "ticks": ""
            },
            "colorscale": [
             [
              0,
              "#0d0887"
             ],
             [
              0.1111111111111111,
              "#46039f"
             ],
             [
              0.2222222222222222,
              "#7201a8"
             ],
             [
              0.3333333333333333,
              "#9c179e"
             ],
             [
              0.4444444444444444,
              "#bd3786"
             ],
             [
              0.5555555555555556,
              "#d8576b"
             ],
             [
              0.6666666666666666,
              "#ed7953"
             ],
             [
              0.7777777777777778,
              "#fb9f3a"
             ],
             [
              0.8888888888888888,
              "#fdca26"
             ],
             [
              1,
              "#f0f921"
             ]
            ],
            "type": "histogram2d"
           }
          ],
          "histogram2dcontour": [
           {
            "colorbar": {
             "outlinewidth": 0,
             "ticks": ""
            },
            "colorscale": [
             [
              0,
              "#0d0887"
             ],
             [
              0.1111111111111111,
              "#46039f"
             ],
             [
              0.2222222222222222,
              "#7201a8"
             ],
             [
              0.3333333333333333,
              "#9c179e"
             ],
             [
              0.4444444444444444,
              "#bd3786"
             ],
             [
              0.5555555555555556,
              "#d8576b"
             ],
             [
              0.6666666666666666,
              "#ed7953"
             ],
             [
              0.7777777777777778,
              "#fb9f3a"
             ],
             [
              0.8888888888888888,
              "#fdca26"
             ],
             [
              1,
              "#f0f921"
             ]
            ],
            "type": "histogram2dcontour"
           }
          ],
          "mesh3d": [
           {
            "colorbar": {
             "outlinewidth": 0,
             "ticks": ""
            },
            "type": "mesh3d"
           }
          ],
          "parcoords": [
           {
            "line": {
             "colorbar": {
              "outlinewidth": 0,
              "ticks": ""
             }
            },
            "type": "parcoords"
           }
          ],
          "pie": [
           {
            "automargin": true,
            "type": "pie"
           }
          ],
          "scatter": [
           {
            "fillpattern": {
             "fillmode": "overlay",
             "size": 10,
             "solidity": 0.2
            },
            "type": "scatter"
           }
          ],
          "scatter3d": [
           {
            "line": {
             "colorbar": {
              "outlinewidth": 0,
              "ticks": ""
             }
            },
            "marker": {
             "colorbar": {
              "outlinewidth": 0,
              "ticks": ""
             }
            },
            "type": "scatter3d"
           }
          ],
          "scattercarpet": [
           {
            "marker": {
             "colorbar": {
              "outlinewidth": 0,
              "ticks": ""
             }
            },
            "type": "scattercarpet"
           }
          ],
          "scattergeo": [
           {
            "marker": {
             "colorbar": {
              "outlinewidth": 0,
              "ticks": ""
             }
            },
            "type": "scattergeo"
           }
          ],
          "scattergl": [
           {
            "marker": {
             "colorbar": {
              "outlinewidth": 0,
              "ticks": ""
             }
            },
            "type": "scattergl"
           }
          ],
          "scattermapbox": [
           {
            "marker": {
             "colorbar": {
              "outlinewidth": 0,
              "ticks": ""
             }
            },
            "type": "scattermapbox"
           }
          ],
          "scatterpolar": [
           {
            "marker": {
             "colorbar": {
              "outlinewidth": 0,
              "ticks": ""
             }
            },
            "type": "scatterpolar"
           }
          ],
          "scatterpolargl": [
           {
            "marker": {
             "colorbar": {
              "outlinewidth": 0,
              "ticks": ""
             }
            },
            "type": "scatterpolargl"
           }
          ],
          "scatterternary": [
           {
            "marker": {
             "colorbar": {
              "outlinewidth": 0,
              "ticks": ""
             }
            },
            "type": "scatterternary"
           }
          ],
          "surface": [
           {
            "colorbar": {
             "outlinewidth": 0,
             "ticks": ""
            },
            "colorscale": [
             [
              0,
              "#0d0887"
             ],
             [
              0.1111111111111111,
              "#46039f"
             ],
             [
              0.2222222222222222,
              "#7201a8"
             ],
             [
              0.3333333333333333,
              "#9c179e"
             ],
             [
              0.4444444444444444,
              "#bd3786"
             ],
             [
              0.5555555555555556,
              "#d8576b"
             ],
             [
              0.6666666666666666,
              "#ed7953"
             ],
             [
              0.7777777777777778,
              "#fb9f3a"
             ],
             [
              0.8888888888888888,
              "#fdca26"
             ],
             [
              1,
              "#f0f921"
             ]
            ],
            "type": "surface"
           }
          ],
          "table": [
           {
            "cells": {
             "fill": {
              "color": "#EBF0F8"
             },
             "line": {
              "color": "white"
             }
            },
            "header": {
             "fill": {
              "color": "#C8D4E3"
             },
             "line": {
              "color": "white"
             }
            },
            "type": "table"
           }
          ]
         },
         "layout": {
          "annotationdefaults": {
           "arrowcolor": "#2a3f5f",
           "arrowhead": 0,
           "arrowwidth": 1
          },
          "autotypenumbers": "strict",
          "coloraxis": {
           "colorbar": {
            "outlinewidth": 0,
            "ticks": ""
           }
          },
          "colorscale": {
           "diverging": [
            [
             0,
             "#8e0152"
            ],
            [
             0.1,
             "#c51b7d"
            ],
            [
             0.2,
             "#de77ae"
            ],
            [
             0.3,
             "#f1b6da"
            ],
            [
             0.4,
             "#fde0ef"
            ],
            [
             0.5,
             "#f7f7f7"
            ],
            [
             0.6,
             "#e6f5d0"
            ],
            [
             0.7,
             "#b8e186"
            ],
            [
             0.8,
             "#7fbc41"
            ],
            [
             0.9,
             "#4d9221"
            ],
            [
             1,
             "#276419"
            ]
           ],
           "sequential": [
            [
             0,
             "#0d0887"
            ],
            [
             0.1111111111111111,
             "#46039f"
            ],
            [
             0.2222222222222222,
             "#7201a8"
            ],
            [
             0.3333333333333333,
             "#9c179e"
            ],
            [
             0.4444444444444444,
             "#bd3786"
            ],
            [
             0.5555555555555556,
             "#d8576b"
            ],
            [
             0.6666666666666666,
             "#ed7953"
            ],
            [
             0.7777777777777778,
             "#fb9f3a"
            ],
            [
             0.8888888888888888,
             "#fdca26"
            ],
            [
             1,
             "#f0f921"
            ]
           ],
           "sequentialminus": [
            [
             0,
             "#0d0887"
            ],
            [
             0.1111111111111111,
             "#46039f"
            ],
            [
             0.2222222222222222,
             "#7201a8"
            ],
            [
             0.3333333333333333,
             "#9c179e"
            ],
            [
             0.4444444444444444,
             "#bd3786"
            ],
            [
             0.5555555555555556,
             "#d8576b"
            ],
            [
             0.6666666666666666,
             "#ed7953"
            ],
            [
             0.7777777777777778,
             "#fb9f3a"
            ],
            [
             0.8888888888888888,
             "#fdca26"
            ],
            [
             1,
             "#f0f921"
            ]
           ]
          },
          "colorway": [
           "#636efa",
           "#EF553B",
           "#00cc96",
           "#ab63fa",
           "#FFA15A",
           "#19d3f3",
           "#FF6692",
           "#B6E880",
           "#FF97FF",
           "#FECB52"
          ],
          "font": {
           "color": "#2a3f5f"
          },
          "geo": {
           "bgcolor": "white",
           "lakecolor": "white",
           "landcolor": "#E5ECF6",
           "showlakes": true,
           "showland": true,
           "subunitcolor": "white"
          },
          "hoverlabel": {
           "align": "left"
          },
          "hovermode": "closest",
          "mapbox": {
           "style": "light"
          },
          "paper_bgcolor": "white",
          "plot_bgcolor": "#E5ECF6",
          "polar": {
           "angularaxis": {
            "gridcolor": "white",
            "linecolor": "white",
            "ticks": ""
           },
           "bgcolor": "#E5ECF6",
           "radialaxis": {
            "gridcolor": "white",
            "linecolor": "white",
            "ticks": ""
           }
          },
          "scene": {
           "xaxis": {
            "backgroundcolor": "#E5ECF6",
            "gridcolor": "white",
            "gridwidth": 2,
            "linecolor": "white",
            "showbackground": true,
            "ticks": "",
            "zerolinecolor": "white"
           },
           "yaxis": {
            "backgroundcolor": "#E5ECF6",
            "gridcolor": "white",
            "gridwidth": 2,
            "linecolor": "white",
            "showbackground": true,
            "ticks": "",
            "zerolinecolor": "white"
           },
           "zaxis": {
            "backgroundcolor": "#E5ECF6",
            "gridcolor": "white",
            "gridwidth": 2,
            "linecolor": "white",
            "showbackground": true,
            "ticks": "",
            "zerolinecolor": "white"
           }
          },
          "shapedefaults": {
           "line": {
            "color": "#2a3f5f"
           }
          },
          "ternary": {
           "aaxis": {
            "gridcolor": "white",
            "linecolor": "white",
            "ticks": ""
           },
           "baxis": {
            "gridcolor": "white",
            "linecolor": "white",
            "ticks": ""
           },
           "bgcolor": "#E5ECF6",
           "caxis": {
            "gridcolor": "white",
            "linecolor": "white",
            "ticks": ""
           }
          },
          "title": {
           "x": 0.05
          },
          "xaxis": {
           "automargin": true,
           "gridcolor": "white",
           "linecolor": "white",
           "ticks": "",
           "title": {
            "standoff": 15
           },
           "zerolinecolor": "white",
           "zerolinewidth": 2
          },
          "yaxis": {
           "automargin": true,
           "gridcolor": "white",
           "linecolor": "white",
           "ticks": "",
           "title": {
            "standoff": 15
           },
           "zerolinecolor": "white",
           "zerolinewidth": 2
          }
         }
        },
        "title": {
         "text": "Points per minute on the ice"
        },
        "xaxis": {
         "anchor": "y",
         "autorange": true,
         "domain": [
          0,
          1
         ],
         "range": [
          "2024-11-29",
          "2025-04-03"
         ],
         "tickangle": -90,
         "tickvals": [
          "2024-11-30",
          "2024-12-03",
          "2024-12-06",
          "2024-12-17",
          "2024-12-19",
          "2024-12-29",
          "2024-12-31",
          "2025-01-07",
          "2025-01-11",
          "2025-01-14",
          "2025-01-19",
          "2025-01-21",
          "2025-01-27",
          "2025-01-29",
          "2025-02-01",
          "2025-02-13",
          "2025-02-16",
          "2025-02-20",
          "2025-02-22",
          "2025-02-26",
          "2025-03-07",
          "2025-03-11",
          "2025-03-15",
          "2025-03-22",
          "2025-03-25",
          "2025-03-29",
          "2025-04-02"
         ],
         "title": {
          "text": "date"
         },
         "type": "date"
        },
        "yaxis": {
         "anchor": "x",
         "autorange": true,
         "domain": [
          0,
          1
         ],
         "range": [
          0,
          0.15163960320970493
         ],
         "title": {
          "text": "points per minute"
         },
         "type": "linear"
        }
       }
      },
      "image/png": "[encoded data removed]",
      "text/html": [
       "<div>                            <div id=\"c70a6f24-9058-40e2-b545-14994738a8f0\" class=\"plotly-graph-div\" style=\"height:525px; width:100%;\"></div>            <script type=\"text/javascript\">                require([\"plotly\"], function(Plotly) {                    window.PLOTLYENV=window.PLOTLYENV || {};                                    if (document.getElementById(\"c70a6f24-9058-40e2-b545-14994738a8f0\")) {                    Plotly.newPlot(                        \"c70a6f24-9058-40e2-b545-14994738a8f0\",                        [{\"alignmentgroup\":\"True\",\"customdata\":[[5],[5],[5],[5],[5],[5],[5],[5],[5],[5],[5],[5],[5],[5],[5],[5],[5],[5],[5],[5],[5],[5],[5],[5],[5],[5],[5]],\"hovertemplate\":\"variable=points from goals<br>date=%{x}<br>value=%{y}<br>season=%{customdata[0]}<extra></extra>\",\"legendgroup\":\"points from goals\",\"marker\":{\"color\":\"#636efa\",\"pattern\":{\"shape\":\"\"},\"line\":{\"color\":\"black\",\"width\":1}},\"name\":\"points from goals\",\"offsetgroup\":\"points from goals\",\"orientation\":\"v\",\"showlegend\":true,\"textposition\":\"auto\",\"x\":[\"2024-11-30\",\"2024-12-03\",\"2024-12-06\",\"2024-12-17\",\"2024-12-19\",\"2024-12-29\",\"2024-12-31\",\"2025-01-07\",\"2025-01-11\",\"2025-01-14\",\"2025-01-19\",\"2025-01-21\",\"2025-01-27\",\"2025-01-29\",\"2025-02-01\",\"2025-02-13\",\"2025-02-16\",\"2025-02-20\",\"2025-02-22\",\"2025-02-26\",\"2025-03-07\",\"2025-03-11\",\"2025-03-15\",\"2025-03-22\",\"2025-03-25\",\"2025-03-29\",\"2025-04-02\"],\"xaxis\":\"x\",\"y\":[0.06593406593406594,0.0,0.0,0.0,0.0,0.05940594059405941,0.0,0.05859375,0.0,0.0,0.0,0.0,0.0,0.0,0.06465517241379311,0.0,0.0,0.0,0.05631159080244017,0.046189376443418015,0.0,0.0,0.0,0.061162079510703356,0.04421518054532056,0.0,0.0],\"yaxis\":\"y\",\"type\":\"bar\"},{\"alignmentgroup\":\"True\",\"customdata\":[[5],[5],[5],[5],[5],[5],[5],[5],[5],[5],[5],[5],[5],[5],[5],[5],[5],[5],[5],[5],[5],[5],[5],[5],[5],[5],[5]],\"hovertemplate\":\"variable=points from assists<br>date=%{x}<br>value=%{y}<br>season=%{customdata[0]}<extra></extra>\",\"legendgroup\":\"points from assists\",\"marker\":{\"color\":\"#EF553B\",\"pattern\":{\"shape\":\"\"},\"line\":{\"color\":\"black\",\"width\":1}},\"name\":\"points from assists\",\"offsetgroup\":\"points from assists\",\"orientation\":\"v\",\"showlegend\":true,\"textposition\":\"auto\",\"x\":[\"2024-11-30\",\"2024-12-03\",\"2024-12-06\",\"2024-12-17\",\"2024-12-19\",\"2024-12-29\",\"2024-12-31\",\"2025-01-07\",\"2025-01-11\",\"2025-01-14\",\"2025-01-19\",\"2025-01-21\",\"2025-01-27\",\"2025-01-29\",\"2025-02-01\",\"2025-02-13\",\"2025-02-16\",\"2025-02-20\",\"2025-02-22\",\"2025-02-26\",\"2025-03-07\",\"2025-03-11\",\"2025-03-15\",\"2025-03-22\",\"2025-03-25\",\"2025-03-29\",\"2025-04-02\"],\"xaxis\":\"x\",\"y\":[0.0,0.0,0.0,0.0,0.0,0.05940594059405941,0.0,0.0,0.0,0.0,0.0,0.04930156121610517,0.0,0.0,0.0,0.14405762304921968,0.050590219224283306,0.04640371229698376,0.028155795401220086,0.046189376443418015,0.0,0.0,0.0,0.0,0.0,0.0,0.0],\"yaxis\":\"y\",\"type\":\"bar\"}],                        {\"template\":{\"data\":{\"histogram2dcontour\":[{\"type\":\"histogram2dcontour\",\"colorbar\":{\"outlinewidth\":0,\"ticks\":\"\"},\"colorscale\":[[0.0,\"#0d0887\"],[0.1111111111111111,\"#46039f\"],[0.2222222222222222,\"#7201a8\"],[0.3333333333333333,\"#9c179e\"],[0.4444444444444444,\"#bd3786\"],[0.5555555555555556,\"#d8576b\"],[0.6666666666666666,\"#ed7953\"],[0.7777777777777778,\"#fb9f3a\"],[0.8888888888888888,\"#fdca26\"],[1.0,\"#f0f921\"]]}],\"choropleth\":[{\"type\":\"choropleth\",\"colorbar\":{\"outlinewidth\":0,\"ticks\":\"\"}}],\"histogram2d\":[{\"type\":\"histogram2d\",\"colorbar\":{\"outlinewidth\":0,\"ticks\":\"\"},\"colorscale\":[[0.0,\"#0d0887\"],[0.1111111111111111,\"#46039f\"],[0.2222222222222222,\"#7201a8\"],[0.3333333333333333,\"#9c179e\"],[0.4444444444444444,\"#bd3786\"],[0.5555555555555556,\"#d8576b\"],[0.6666666666666666,\"#ed7953\"],[0.7777777777777778,\"#fb9f3a\"],[0.8888888888888888,\"#fdca26\"],[1.0,\"#f0f921\"]]}],\"heatmap\":[{\"type\":\"heatmap\",\"colorbar\":{\"outlinewidth\":0,\"ticks\":\"\"},\"colorscale\":[[0.0,\"#0d0887\"],[0.1111111111111111,\"#46039f\"],[0.2222222222222222,\"#7201a8\"],[0.3333333333333333,\"#9c179e\"],[0.4444444444444444,\"#bd3786\"],[0.5555555555555556,\"#d8576b\"],[0.6666666666666666,\"#ed7953\"],[0.7777777777777778,\"#fb9f3a\"],[0.8888888888888888,\"#fdca26\"],[1.0,\"#f0f921\"]]}],\"heatmapgl\":[{\"type\":\"heatmapgl\",\"colorbar\":{\"outlinewidth\":0,\"ticks\":\"\"},\"colorscale\":[[0.0,\"#0d0887\"],[0.1111111111111111,\"#46039f\"],[0.2222222222222222,\"#7201a8\"],[0.3333333333333333,\"#9c179e\"],[0.4444444444444444,\"#bd3786\"],[0.5555555555555556,\"#d8576b\"],[0.6666666666666666,\"#ed7953\"],[0.7777777777777778,\"#fb9f3a\"],[0.8888888888888888,\"#fdca26\"],[1.0,\"#f0f921\"]]}],\"contourcarpet\":[{\"type\":\"contourcarpet\",\"colorbar\":{\"outlinewidth\":0,\"ticks\":\"\"}}],\"contour\":[{\"type\":\"contour\",\"colorbar\":{\"outlinewidth\":0,\"ticks\":\"\"},\"colorscale\":[[0.0,\"#0d0887\"],[0.1111111111111111,\"#46039f\"],[0.2222222222222222,\"#7201a8\"],[0.3333333333333333,\"#9c179e\"],[0.4444444444444444,\"#bd3786\"],[0.5555555555555556,\"#d8576b\"],[0.6666666666666666,\"#ed7953\"],[0.7777777777777778,\"#fb9f3a\"],[0.8888888888888888,\"#fdca26\"],[1.0,\"#f0f921\"]]}],\"surface\":[{\"type\":\"surface\",\"colorbar\":{\"outlinewidth\":0,\"ticks\":\"\"},\"colorscale\":[[0.0,\"#0d0887\"],[0.1111111111111111,\"#46039f\"],[0.2222222222222222,\"#7201a8\"],[0.3333333333333333,\"#9c179e\"],[0.4444444444444444,\"#bd3786\"],[0.5555555555555556,\"#d8576b\"],[0.6666666666666666,\"#ed7953\"],[0.7777777777777778,\"#fb9f3a\"],[0.8888888888888888,\"#fdca26\"],[1.0,\"#f0f921\"]]}],\"mesh3d\":[{\"type\":\"mesh3d\",\"colorbar\":{\"outlinewidth\":0,\"ticks\":\"\"}}],\"scatter\":[{\"fillpattern\":{\"fillmode\":\"overlay\",\"size\":10,\"solidity\":0.2},\"type\":\"scatter\"}],\"parcoords\":[{\"type\":\"parcoords\",\"line\":{\"colorbar\":{\"outlinewidth\":0,\"ticks\":\"\"}}}],\"scatterpolargl\":[{\"type\":\"scatterpolargl\",\"marker\":{\"colorbar\":{\"outlinewidth\":0,\"ticks\":\"\"}}}],\"bar\":[{\"error_x\":{\"color\":\"#2a3f5f\"},\"error_y\":{\"color\":\"#2a3f5f\"},\"marker\":{\"line\":{\"color\":\"#E5ECF6\",\"width\":0.5},\"pattern\":{\"fillmode\":\"overlay\",\"size\":10,\"solidity\":0.2}},\"type\":\"bar\"}],\"scattergeo\":[{\"type\":\"scattergeo\",\"marker\":{\"colorbar\":{\"outlinewidth\":0,\"ticks\":\"\"}}}],\"scatterpolar\":[{\"type\":\"scatterpolar\",\"marker\":{\"colorbar\":{\"outlinewidth\":0,\"ticks\":\"\"}}}],\"histogram\":[{\"marker\":{\"pattern\":{\"fillmode\":\"overlay\",\"size\":10,\"solidity\":0.2}},\"type\":\"histogram\"}],\"scattergl\":[{\"type\":\"scattergl\",\"marker\":{\"colorbar\":{\"outlinewidth\":0,\"ticks\":\"\"}}}],\"scatter3d\":[{\"type\":\"scatter3d\",\"line\":{\"colorbar\":{\"outlinewidth\":0,\"ticks\":\"\"}},\"marker\":{\"colorbar\":{\"outlinewidth\":0,\"ticks\":\"\"}}}],\"scattermapbox\":[{\"type\":\"scattermapbox\",\"marker\":{\"colorbar\":{\"outlinewidth\":0,\"ticks\":\"\"}}}],\"scatterternary\":[{\"type\":\"scatterternary\",\"marker\":{\"colorbar\":{\"outlinewidth\":0,\"ticks\":\"\"}}}],\"scattercarpet\":[{\"type\":\"scattercarpet\",\"marker\":{\"colorbar\":{\"outlinewidth\":0,\"ticks\":\"\"}}}],\"carpet\":[{\"aaxis\":{\"endlinecolor\":\"#2a3f5f\",\"gridcolor\":\"white\",\"linecolor\":\"white\",\"minorgridcolor\":\"white\",\"startlinecolor\":\"#2a3f5f\"},\"baxis\":{\"endlinecolor\":\"#2a3f5f\",\"gridcolor\":\"white\",\"linecolor\":\"white\",\"minorgridcolor\":\"white\",\"startlinecolor\":\"#2a3f5f\"},\"type\":\"carpet\"}],\"table\":[{\"cells\":{\"fill\":{\"color\":\"#EBF0F8\"},\"line\":{\"color\":\"white\"}},\"header\":{\"fill\":{\"color\":\"#C8D4E3\"},\"line\":{\"color\":\"white\"}},\"type\":\"table\"}],\"barpolar\":[{\"marker\":{\"line\":{\"color\":\"#E5ECF6\",\"width\":0.5},\"pattern\":{\"fillmode\":\"overlay\",\"size\":10,\"solidity\":0.2}},\"type\":\"barpolar\"}],\"pie\":[{\"automargin\":true,\"type\":\"pie\"}]},\"layout\":{\"autotypenumbers\":\"strict\",\"colorway\":[\"#636efa\",\"#EF553B\",\"#00cc96\",\"#ab63fa\",\"#FFA15A\",\"#19d3f3\",\"#FF6692\",\"#B6E880\",\"#FF97FF\",\"#FECB52\"],\"font\":{\"color\":\"#2a3f5f\"},\"hovermode\":\"closest\",\"hoverlabel\":{\"align\":\"left\"},\"paper_bgcolor\":\"white\",\"plot_bgcolor\":\"#E5ECF6\",\"polar\":{\"bgcolor\":\"#E5ECF6\",\"angularaxis\":{\"gridcolor\":\"white\",\"linecolor\":\"white\",\"ticks\":\"\"},\"radialaxis\":{\"gridcolor\":\"white\",\"linecolor\":\"white\",\"ticks\":\"\"}},\"ternary\":{\"bgcolor\":\"#E5ECF6\",\"aaxis\":{\"gridcolor\":\"white\",\"linecolor\":\"white\",\"ticks\":\"\"},\"baxis\":{\"gridcolor\":\"white\",\"linecolor\":\"white\",\"ticks\":\"\"},\"caxis\":{\"gridcolor\":\"white\",\"linecolor\":\"white\",\"ticks\":\"\"}},\"coloraxis\":{\"colorbar\":{\"outlinewidth\":0,\"ticks\":\"\"}},\"colorscale\":{\"sequential\":[[0.0,\"#0d0887\"],[0.1111111111111111,\"#46039f\"],[0.2222222222222222,\"#7201a8\"],[0.3333333333333333,\"#9c179e\"],[0.4444444444444444,\"#bd3786\"],[0.5555555555555556,\"#d8576b\"],[0.6666666666666666,\"#ed7953\"],[0.7777777777777778,\"#fb9f3a\"],[0.8888888888888888,\"#fdca26\"],[1.0,\"#f0f921\"]],\"sequentialminus\":[[0.0,\"#0d0887\"],[0.1111111111111111,\"#46039f\"],[0.2222222222222222,\"#7201a8\"],[0.3333333333333333,\"#9c179e\"],[0.4444444444444444,\"#bd3786\"],[0.5555555555555556,\"#d8576b\"],[0.6666666666666666,\"#ed7953\"],[0.7777777777777778,\"#fb9f3a\"],[0.8888888888888888,\"#fdca26\"],[1.0,\"#f0f921\"]],\"diverging\":[[0,\"#8e0152\"],[0.1,\"#c51b7d\"],[0.2,\"#de77ae\"],[0.3,\"#f1b6da\"],[0.4,\"#fde0ef\"],[0.5,\"#f7f7f7\"],[0.6,\"#e6f5d0\"],[0.7,\"#b8e186\"],[0.8,\"#7fbc41\"],[0.9,\"#4d9221\"],[1,\"#276419\"]]},\"xaxis\":{\"gridcolor\":\"white\",\"linecolor\":\"white\",\"ticks\":\"\",\"title\":{\"standoff\":15},\"zerolinecolor\":\"white\",\"automargin\":true,\"zerolinewidth\":2},\"yaxis\":{\"gridcolor\":\"white\",\"linecolor\":\"white\",\"ticks\":\"\",\"title\":{\"standoff\":15},\"zerolinecolor\":\"white\",\"automargin\":true,\"zerolinewidth\":2},\"scene\":{\"xaxis\":{\"backgroundcolor\":\"#E5ECF6\",\"gridcolor\":\"white\",\"linecolor\":\"white\",\"showbackground\":true,\"ticks\":\"\",\"zerolinecolor\":\"white\",\"gridwidth\":2},\"yaxis\":{\"backgroundcolor\":\"#E5ECF6\",\"gridcolor\":\"white\",\"linecolor\":\"white\",\"showbackground\":true,\"ticks\":\"\",\"zerolinecolor\":\"white\",\"gridwidth\":2},\"zaxis\":{\"backgroundcolor\":\"#E5ECF6\",\"gridcolor\":\"white\",\"linecolor\":\"white\",\"showbackground\":true,\"ticks\":\"\",\"zerolinecolor\":\"white\",\"gridwidth\":2}},\"shapedefaults\":{\"line\":{\"color\":\"#2a3f5f\"}},\"annotationdefaults\":{\"arrowcolor\":\"#2a3f5f\",\"arrowhead\":0,\"arrowwidth\":1},\"geo\":{\"bgcolor\":\"white\",\"landcolor\":\"#E5ECF6\",\"subunitcolor\":\"white\",\"showland\":true,\"showlakes\":true,\"lakecolor\":\"white\"},\"title\":{\"x\":0.05},\"mapbox\":{\"style\":\"light\"}}},\"xaxis\":{\"anchor\":\"y\",\"domain\":[0.0,1.0],\"title\":{\"text\":\"date\"},\"tickangle\":-90,\"tickvals\":[\"2024-11-30\",\"2024-12-03\",\"2024-12-06\",\"2024-12-17\",\"2024-12-19\",\"2024-12-29\",\"2024-12-31\",\"2025-01-07\",\"2025-01-11\",\"2025-01-14\",\"2025-01-19\",\"2025-01-21\",\"2025-01-27\",\"2025-01-29\",\"2025-02-01\",\"2025-02-13\",\"2025-02-16\",\"2025-02-20\",\"2025-02-22\",\"2025-02-26\",\"2025-03-07\",\"2025-03-11\",\"2025-03-15\",\"2025-03-22\",\"2025-03-25\",\"2025-03-29\",\"2025-04-02\"]},\"yaxis\":{\"anchor\":\"x\",\"domain\":[0.0,1.0],\"title\":{\"text\":\"points per minute\"}},\"legend\":{\"title\":{\"text\":\"variable\"},\"tracegroupgap\":0},\"title\":{\"text\":\"Points per minute on the ice\"},\"barmode\":\"relative\"},                        {\"responsive\": true}                    ).then(function(){\n",
       "                            \n",
       "var gd = document.getElementById('c70a6f24-9058-40e2-b545-14994738a8f0');\n",
       "var x = new MutationObserver(function (mutations, observer) {{\n",
       "        var display = window.getComputedStyle(gd).display;\n",
       "        if (!display || display === 'none') {{\n",
       "            console.log([gd, 'removed!']);\n",
       "            Plotly.purge(gd);\n",
       "            observer.disconnect();\n",
       "        }}\n",
       "}});\n",
       "\n",
       "// Listen for the removal of the full notebook cells\n",
       "var notebookContainer = gd.closest('#notebook-container');\n",
       "if (notebookContainer) {{\n",
       "    x.observe(notebookContainer, {childList: true});\n",
       "}}\n",
       "\n",
       "// Listen for the clearing of the current output cell\n",
       "var outputEl = gd.closest('.output');\n",
       "if (outputEl) {{\n",
       "    x.observe(outputEl, {childList: true});\n",
       "}}\n",
       "\n",
       "                        })                };                });            </script>        </div>"
      ]
     },
     "metadata": {},
     "output_type": "display_data"
    }
   ],
   "source": [
    "fig_df[\"points from goals\"] = fig_df[\"goals\"] / fig_df[\"minutes on the ice\"]\n",
    "fig_df[\"points from assists\"] = fig_df[\"assists\"] / fig_df[\"minutes on the ice\"]\n",
    "\n",
    "fig = px.bar(fig_df, x=\"date\", y=[\"points from goals\", \"points from assists\"], title=\"Points per minute on the ice\", hover_data = {\"season\": True})\n",
    "fig.update_layout(yaxis_title=\"points per minute\")\n",
    "fig.update_xaxes(tickangle=270, tickvals = df[\"date\"])\n",
    "fig.update_traces(marker_line_color=\"black\", marker_line_width=1)\n",
    "fig.show()"
   ]
  },
  {
   "cell_type": "markdown",
   "id": "3d8b2cc1-b58a-4e4e-bb50-d9dccb969782",
   "metadata": {},
   "source": [
    "## Statistics for two skaters\n",
    "\n",
    "I would like my dashboard to work thusly:\n",
    "\n",
    "- When initially loading the webpage, no player is selected. A dropdown menu allows for the selection of one.\n",
    "- When the player is selected, the charts for their positions are loaded with their stats. A new dropdown menu appears, offering a selection of players with the same position. By default, \"None\" is selected. For instance, selecting forward \"MARIE-PHILIP POULIN\" in the player selection dropdown will make the second dropdown appear, with \"None\" selected, the other options being the names of the other forwards in the league.\n",
    "- If, after selecting a \"comparison player\" in the second menu, the value of the first menu is changed, the \"comparison player\" choice will be retained only if the position of the first player remains the same. Otherwise, it will default to \"None\". For instance, if \"MARIE-PHILIPPE POULIN\", a forward, is selected in the first menu, and her wife, fellow forward \"LAURA STACEY\", is selected as the \"comparison player\", then the user selects another forward, \"SARAH NURSE\", in the first menu, the \"comparison player\" will remain \"LAURA STACEY\" as both selections are forward players. However, if \"AERIN FRANKEL\", a goalie, is selected in the first menu, the \"comparison player\" will default to \"None\" as \"LAURA STACEY\", a forward player, does not have statistics that can be compared to \"AERIN FRANKEL\"’s.\n",
    "\n",
    "Let’s start by seeing how a comparative chart could look like."
   ]
  },
  {
   "cell_type": "code",
   "execution_count": 242,
   "id": "6a673b67-e718-4959-8025-eb75c04873b8",
   "metadata": {},
   "outputs": [],
   "source": [
    "df = pd.read_csv(\"comparison_test.csv\")"
   ]
  },
  {
   "cell_type": "code",
   "execution_count": 246,
   "id": "e0768f1c-12f9-439d-aa9c-f7fe01da3228",
   "metadata": {},
   "outputs": [
    {
     "data": {
      "application/vnd.plotly.v1+json": {
       "config": {
        "plotlyServerURL": "https://plot.ly"
       },
       "data": [
        {
         "alignmentgroup": "True",
         "customdata": [
          [
           5
          ],
          [
           5
          ],
          [
           5
          ],
          [
           5
          ],
          [
           5
          ],
          [
           5
          ],
          [
           5
          ],
          [
           5
          ],
          [
           5
          ],
          [
           5
          ],
          [
           5
          ],
          [
           5
          ],
          [
           5
          ],
          [
           5
          ],
          [
           5
          ],
          [
           5
          ],
          [
           5
          ],
          [
           5
          ],
          [
           5
          ],
          [
           5
          ],
          [
           5
          ],
          [
           5
          ],
          [
           5
          ],
          [
           5
          ]
         ],
         "hovertemplate": "name=ASHTON BELL<br>date=%{x}<br>points per minute=%{y}<br>season=%{customdata[0]}<extra></extra>",
         "legendgroup": "ASHTON BELL",
         "marker": {
          "color": "#636efa",
          "line": {
           "color": "black",
           "width": 1
          },
          "pattern": {
           "shape": ""
          }
         },
         "name": "ASHTON BELL",
         "offsetgroup": "ASHTON BELL",
         "orientation": "v",
         "showlegend": true,
         "textposition": "auto",
         "type": "bar",
         "x": [
          "2024-11-30",
          "2024-12-03",
          "2024-12-06",
          "2024-12-17",
          "2024-12-19",
          "2024-12-29",
          "2024-12-31",
          "2025-01-07",
          "2025-01-11",
          "2025-01-14",
          "2025-01-19",
          "2025-01-21",
          "2025-01-27",
          "2025-01-29",
          "2025-02-01",
          "2025-02-13",
          "2025-02-26",
          "2025-03-07",
          "2025-03-11",
          "2025-03-15",
          "2025-03-22",
          "2025-03-25",
          "2025-03-29",
          "2025-04-02"
         ],
         "xaxis": "x",
         "y": [
          0,
          0,
          0.056764427625354774,
          0,
          0,
          0,
          0,
          0,
          0.042643923240938165,
          0,
          0,
          0,
          0,
          0,
          0.0510204081632653,
          0,
          0,
          0,
          0,
          0.05016722408026756,
          0,
          0,
          0,
          0
         ],
         "yaxis": "y"
        },
        {
         "alignmentgroup": "True",
         "customdata": [
          [
           5
          ],
          [
           5
          ],
          [
           5
          ],
          [
           5
          ],
          [
           5
          ],
          [
           5
          ],
          [
           5
          ],
          [
           5
          ],
          [
           5
          ],
          [
           5
          ],
          [
           5
          ],
          [
           5
          ],
          [
           5
          ],
          [
           5
          ],
          [
           5
          ],
          [
           5
          ],
          [
           5
          ],
          [
           5
          ],
          [
           5
          ],
          [
           5
          ],
          [
           5
          ],
          [
           5
          ]
         ],
         "hovertemplate": "name=AMANDA BOULIER<br>date=%{x}<br>points per minute=%{y}<br>season=%{customdata[0]}<extra></extra>",
         "legendgroup": "AMANDA BOULIER",
         "marker": {
          "color": "#EF553B",
          "line": {
           "color": "black",
           "width": 1
          },
          "pattern": {
           "shape": ""
          }
         },
         "name": "AMANDA BOULIER",
         "offsetgroup": "AMANDA BOULIER",
         "orientation": "v",
         "showlegend": true,
         "textposition": "auto",
         "type": "bar",
         "x": [
          "2024-11-30",
          "2024-12-04",
          "2024-12-06",
          "2024-12-21",
          "2025-01-17",
          "2025-01-19",
          "2025-01-29",
          "2025-01-30",
          "2025-02-02",
          "2025-02-15",
          "2025-02-18",
          "2025-02-22",
          "2025-02-25",
          "2025-03-01",
          "2025-03-04",
          "2025-03-06",
          "2025-03-08",
          "2025-03-12",
          "2025-03-18",
          "2025-03-23",
          "2025-03-26",
          "2025-04-01"
         ],
         "xaxis": "x",
         "y": [
          0,
          0,
          0,
          0.14388489208633093,
          0,
          0,
          0.08915304606240713,
          0,
          0,
          0.11940298507462686,
          0,
          0,
          0,
          0,
          0,
          0,
          0,
          0,
          0.10762331838565023,
          0,
          0,
          0
         ],
         "yaxis": "y"
        }
       ],
       "layout": {
        "autosize": true,
        "barmode": "relative",
        "legend": {
         "title": {
          "text": "name"
         },
         "tracegroupgap": 0
        },
        "template": {
         "data": {
          "bar": [
           {
            "error_x": {
             "color": "#2a3f5f"
            },
            "error_y": {
             "color": "#2a3f5f"
            },
            "marker": {
             "line": {
              "color": "#E5ECF6",
              "width": 0.5
             },
             "pattern": {
              "fillmode": "overlay",
              "size": 10,
              "solidity": 0.2
             }
            },
            "type": "bar"
           }
          ],
          "barpolar": [
           {
            "marker": {
             "line": {
              "color": "#E5ECF6",
              "width": 0.5
             },
             "pattern": {
              "fillmode": "overlay",
              "size": 10,
              "solidity": 0.2
             }
            },
            "type": "barpolar"
           }
          ],
          "carpet": [
           {
            "aaxis": {
             "endlinecolor": "#2a3f5f",
             "gridcolor": "white",
             "linecolor": "white",
             "minorgridcolor": "white",
             "startlinecolor": "#2a3f5f"
            },
            "baxis": {
             "endlinecolor": "#2a3f5f",
             "gridcolor": "white",
             "linecolor": "white",
             "minorgridcolor": "white",
             "startlinecolor": "#2a3f5f"
            },
            "type": "carpet"
           }
          ],
          "choropleth": [
           {
            "colorbar": {
             "outlinewidth": 0,
             "ticks": ""
            },
            "type": "choropleth"
           }
          ],
          "contour": [
           {
            "colorbar": {
             "outlinewidth": 0,
             "ticks": ""
            },
            "colorscale": [
             [
              0,
              "#0d0887"
             ],
             [
              0.1111111111111111,
              "#46039f"
             ],
             [
              0.2222222222222222,
              "#7201a8"
             ],
             [
              0.3333333333333333,
              "#9c179e"
             ],
             [
              0.4444444444444444,
              "#bd3786"
             ],
             [
              0.5555555555555556,
              "#d8576b"
             ],
             [
              0.6666666666666666,
              "#ed7953"
             ],
             [
              0.7777777777777778,
              "#fb9f3a"
             ],
             [
              0.8888888888888888,
              "#fdca26"
             ],
             [
              1,
              "#f0f921"
             ]
            ],
            "type": "contour"
           }
          ],
          "contourcarpet": [
           {
            "colorbar": {
             "outlinewidth": 0,
             "ticks": ""
            },
            "type": "contourcarpet"
           }
          ],
          "heatmap": [
           {
            "colorbar": {
             "outlinewidth": 0,
             "ticks": ""
            },
            "colorscale": [
             [
              0,
              "#0d0887"
             ],
             [
              0.1111111111111111,
              "#46039f"
             ],
             [
              0.2222222222222222,
              "#7201a8"
             ],
             [
              0.3333333333333333,
              "#9c179e"
             ],
             [
              0.4444444444444444,
              "#bd3786"
             ],
             [
              0.5555555555555556,
              "#d8576b"
             ],
             [
              0.6666666666666666,
              "#ed7953"
             ],
             [
              0.7777777777777778,
              "#fb9f3a"
             ],
             [
              0.8888888888888888,
              "#fdca26"
             ],
             [
              1,
              "#f0f921"
             ]
            ],
            "type": "heatmap"
           }
          ],
          "heatmapgl": [
           {
            "colorbar": {
             "outlinewidth": 0,
             "ticks": ""
            },
            "colorscale": [
             [
              0,
              "#0d0887"
             ],
             [
              0.1111111111111111,
              "#46039f"
             ],
             [
              0.2222222222222222,
              "#7201a8"
             ],
             [
              0.3333333333333333,
              "#9c179e"
             ],
             [
              0.4444444444444444,
              "#bd3786"
             ],
             [
              0.5555555555555556,
              "#d8576b"
             ],
             [
              0.6666666666666666,
              "#ed7953"
             ],
             [
              0.7777777777777778,
              "#fb9f3a"
             ],
             [
              0.8888888888888888,
              "#fdca26"
             ],
             [
              1,
              "#f0f921"
             ]
            ],
            "type": "heatmapgl"
           }
          ],
          "histogram": [
           {
            "marker": {
             "pattern": {
              "fillmode": "overlay",
              "size": 10,
              "solidity": 0.2
             }
            },
            "type": "histogram"
           }
          ],
          "histogram2d": [
           {
            "colorbar": {
             "outlinewidth": 0,
             "ticks": ""
            },
            "colorscale": [
             [
              0,
              "#0d0887"
             ],
             [
              0.1111111111111111,
              "#46039f"
             ],
             [
              0.2222222222222222,
              "#7201a8"
             ],
             [
              0.3333333333333333,
              "#9c179e"
             ],
             [
              0.4444444444444444,
              "#bd3786"
             ],
             [
              0.5555555555555556,
              "#d8576b"
             ],
             [
              0.6666666666666666,
              "#ed7953"
             ],
             [
              0.7777777777777778,
              "#fb9f3a"
             ],
             [
              0.8888888888888888,
              "#fdca26"
             ],
             [
              1,
              "#f0f921"
             ]
            ],
            "type": "histogram2d"
           }
          ],
          "histogram2dcontour": [
           {
            "colorbar": {
             "outlinewidth": 0,
             "ticks": ""
            },
            "colorscale": [
             [
              0,
              "#0d0887"
             ],
             [
              0.1111111111111111,
              "#46039f"
             ],
             [
              0.2222222222222222,
              "#7201a8"
             ],
             [
              0.3333333333333333,
              "#9c179e"
             ],
             [
              0.4444444444444444,
              "#bd3786"
             ],
             [
              0.5555555555555556,
              "#d8576b"
             ],
             [
              0.6666666666666666,
              "#ed7953"
             ],
             [
              0.7777777777777778,
              "#fb9f3a"
             ],
             [
              0.8888888888888888,
              "#fdca26"
             ],
             [
              1,
              "#f0f921"
             ]
            ],
            "type": "histogram2dcontour"
           }
          ],
          "mesh3d": [
           {
            "colorbar": {
             "outlinewidth": 0,
             "ticks": ""
            },
            "type": "mesh3d"
           }
          ],
          "parcoords": [
           {
            "line": {
             "colorbar": {
              "outlinewidth": 0,
              "ticks": ""
             }
            },
            "type": "parcoords"
           }
          ],
          "pie": [
           {
            "automargin": true,
            "type": "pie"
           }
          ],
          "scatter": [
           {
            "fillpattern": {
             "fillmode": "overlay",
             "size": 10,
             "solidity": 0.2
            },
            "type": "scatter"
           }
          ],
          "scatter3d": [
           {
            "line": {
             "colorbar": {
              "outlinewidth": 0,
              "ticks": ""
             }
            },
            "marker": {
             "colorbar": {
              "outlinewidth": 0,
              "ticks": ""
             }
            },
            "type": "scatter3d"
           }
          ],
          "scattercarpet": [
           {
            "marker": {
             "colorbar": {
              "outlinewidth": 0,
              "ticks": ""
             }
            },
            "type": "scattercarpet"
           }
          ],
          "scattergeo": [
           {
            "marker": {
             "colorbar": {
              "outlinewidth": 0,
              "ticks": ""
             }
            },
            "type": "scattergeo"
           }
          ],
          "scattergl": [
           {
            "marker": {
             "colorbar": {
              "outlinewidth": 0,
              "ticks": ""
             }
            },
            "type": "scattergl"
           }
          ],
          "scattermapbox": [
           {
            "marker": {
             "colorbar": {
              "outlinewidth": 0,
              "ticks": ""
             }
            },
            "type": "scattermapbox"
           }
          ],
          "scatterpolar": [
           {
            "marker": {
             "colorbar": {
              "outlinewidth": 0,
              "ticks": ""
             }
            },
            "type": "scatterpolar"
           }
          ],
          "scatterpolargl": [
           {
            "marker": {
             "colorbar": {
              "outlinewidth": 0,
              "ticks": ""
             }
            },
            "type": "scatterpolargl"
           }
          ],
          "scatterternary": [
           {
            "marker": {
             "colorbar": {
              "outlinewidth": 0,
              "ticks": ""
             }
            },
            "type": "scatterternary"
           }
          ],
          "surface": [
           {
            "colorbar": {
             "outlinewidth": 0,
             "ticks": ""
            },
            "colorscale": [
             [
              0,
              "#0d0887"
             ],
             [
              0.1111111111111111,
              "#46039f"
             ],
             [
              0.2222222222222222,
              "#7201a8"
             ],
             [
              0.3333333333333333,
              "#9c179e"
             ],
             [
              0.4444444444444444,
              "#bd3786"
             ],
             [
              0.5555555555555556,
              "#d8576b"
             ],
             [
              0.6666666666666666,
              "#ed7953"
             ],
             [
              0.7777777777777778,
              "#fb9f3a"
             ],
             [
              0.8888888888888888,
              "#fdca26"
             ],
             [
              1,
              "#f0f921"
             ]
            ],
            "type": "surface"
           }
          ],
          "table": [
           {
            "cells": {
             "fill": {
              "color": "#EBF0F8"
             },
             "line": {
              "color": "white"
             }
            },
            "header": {
             "fill": {
              "color": "#C8D4E3"
             },
             "line": {
              "color": "white"
             }
            },
            "type": "table"
           }
          ]
         },
         "layout": {
          "annotationdefaults": {
           "arrowcolor": "#2a3f5f",
           "arrowhead": 0,
           "arrowwidth": 1
          },
          "autotypenumbers": "strict",
          "coloraxis": {
           "colorbar": {
            "outlinewidth": 0,
            "ticks": ""
           }
          },
          "colorscale": {
           "diverging": [
            [
             0,
             "#8e0152"
            ],
            [
             0.1,
             "#c51b7d"
            ],
            [
             0.2,
             "#de77ae"
            ],
            [
             0.3,
             "#f1b6da"
            ],
            [
             0.4,
             "#fde0ef"
            ],
            [
             0.5,
             "#f7f7f7"
            ],
            [
             0.6,
             "#e6f5d0"
            ],
            [
             0.7,
             "#b8e186"
            ],
            [
             0.8,
             "#7fbc41"
            ],
            [
             0.9,
             "#4d9221"
            ],
            [
             1,
             "#276419"
            ]
           ],
           "sequential": [
            [
             0,
             "#0d0887"
            ],
            [
             0.1111111111111111,
             "#46039f"
            ],
            [
             0.2222222222222222,
             "#7201a8"
            ],
            [
             0.3333333333333333,
             "#9c179e"
            ],
            [
             0.4444444444444444,
             "#bd3786"
            ],
            [
             0.5555555555555556,
             "#d8576b"
            ],
            [
             0.6666666666666666,
             "#ed7953"
            ],
            [
             0.7777777777777778,
             "#fb9f3a"
            ],
            [
             0.8888888888888888,
             "#fdca26"
            ],
            [
             1,
             "#f0f921"
            ]
           ],
           "sequentialminus": [
            [
             0,
             "#0d0887"
            ],
            [
             0.1111111111111111,
             "#46039f"
            ],
            [
             0.2222222222222222,
             "#7201a8"
            ],
            [
             0.3333333333333333,
             "#9c179e"
            ],
            [
             0.4444444444444444,
             "#bd3786"
            ],
            [
             0.5555555555555556,
             "#d8576b"
            ],
            [
             0.6666666666666666,
             "#ed7953"
            ],
            [
             0.7777777777777778,
             "#fb9f3a"
            ],
            [
             0.8888888888888888,
             "#fdca26"
            ],
            [
             1,
             "#f0f921"
            ]
           ]
          },
          "colorway": [
           "#636efa",
           "#EF553B",
           "#00cc96",
           "#ab63fa",
           "#FFA15A",
           "#19d3f3",
           "#FF6692",
           "#B6E880",
           "#FF97FF",
           "#FECB52"
          ],
          "font": {
           "color": "#2a3f5f"
          },
          "geo": {
           "bgcolor": "white",
           "lakecolor": "white",
           "landcolor": "#E5ECF6",
           "showlakes": true,
           "showland": true,
           "subunitcolor": "white"
          },
          "hoverlabel": {
           "align": "left"
          },
          "hovermode": "closest",
          "mapbox": {
           "style": "light"
          },
          "paper_bgcolor": "white",
          "plot_bgcolor": "#E5ECF6",
          "polar": {
           "angularaxis": {
            "gridcolor": "white",
            "linecolor": "white",
            "ticks": ""
           },
           "bgcolor": "#E5ECF6",
           "radialaxis": {
            "gridcolor": "white",
            "linecolor": "white",
            "ticks": ""
           }
          },
          "scene": {
           "xaxis": {
            "backgroundcolor": "#E5ECF6",
            "gridcolor": "white",
            "gridwidth": 2,
            "linecolor": "white",
            "showbackground": true,
            "ticks": "",
            "zerolinecolor": "white"
           },
           "yaxis": {
            "backgroundcolor": "#E5ECF6",
            "gridcolor": "white",
            "gridwidth": 2,
            "linecolor": "white",
            "showbackground": true,
            "ticks": "",
            "zerolinecolor": "white"
           },
           "zaxis": {
            "backgroundcolor": "#E5ECF6",
            "gridcolor": "white",
            "gridwidth": 2,
            "linecolor": "white",
            "showbackground": true,
            "ticks": "",
            "zerolinecolor": "white"
           }
          },
          "shapedefaults": {
           "line": {
            "color": "#2a3f5f"
           }
          },
          "ternary": {
           "aaxis": {
            "gridcolor": "white",
            "linecolor": "white",
            "ticks": ""
           },
           "baxis": {
            "gridcolor": "white",
            "linecolor": "white",
            "ticks": ""
           },
           "bgcolor": "#E5ECF6",
           "caxis": {
            "gridcolor": "white",
            "linecolor": "white",
            "ticks": ""
           }
          },
          "title": {
           "x": 0.05
          },
          "xaxis": {
           "automargin": true,
           "gridcolor": "white",
           "linecolor": "white",
           "ticks": "",
           "title": {
            "standoff": 15
           },
           "zerolinecolor": "white",
           "zerolinewidth": 2
          },
          "yaxis": {
           "automargin": true,
           "gridcolor": "white",
           "linecolor": "white",
           "ticks": "",
           "title": {
            "standoff": 15
           },
           "zerolinecolor": "white",
           "zerolinewidth": 2
          }
         }
        },
        "title": {
         "text": "Points per minute on the ice"
        },
        "xaxis": {
         "anchor": "y",
         "autorange": true,
         "domain": [
          0,
          1
         ],
         "range": [
          "2024-11-29 12:00",
          "2025-04-02 12:00"
         ],
         "tickangle": -90,
         "tickvals": [
          "2024-11-30",
          "2024-12-03",
          "2024-12-06",
          "2024-12-17",
          "2024-12-19",
          "2024-12-29",
          "2024-12-31",
          "2025-01-07",
          "2025-01-11",
          "2025-01-14",
          "2025-01-19",
          "2025-01-21",
          "2025-01-27",
          "2025-01-29",
          "2025-02-01",
          "2025-02-13",
          "2025-02-26",
          "2025-03-07",
          "2025-03-11",
          "2025-03-15",
          "2025-03-22",
          "2025-03-25",
          "2025-03-29",
          "2025-04-02",
          "2024-11-30",
          "2024-12-04",
          "2024-12-06",
          "2024-12-21",
          "2025-01-17",
          "2025-01-19",
          "2025-01-29",
          "2025-01-30",
          "2025-02-02",
          "2025-02-15",
          "2025-02-18",
          "2025-02-22",
          "2025-02-25",
          "2025-03-01",
          "2025-03-04",
          "2025-03-06",
          "2025-03-08",
          "2025-03-12",
          "2025-03-18",
          "2025-03-23",
          "2025-03-26",
          "2025-04-01"
         ],
         "title": {
          "text": "date"
         },
         "type": "date"
        },
        "yaxis": {
         "anchor": "x",
         "autorange": true,
         "domain": [
          0,
          1
         ],
         "range": [
          0,
          0.15145778114350625
         ],
         "title": {
          "text": "points per minute"
         },
         "type": "linear"
        }
       }
      },
      "image/png": "[encoded data removed]",
      "text/html": [
       "<div>                            <div id=\"d30ce660-d778-46fd-9ce4-28bed74693ba\" class=\"plotly-graph-div\" style=\"height:525px; width:100%;\"></div>            <script type=\"text/javascript\">                require([\"plotly\"], function(Plotly) {                    window.PLOTLYENV=window.PLOTLYENV || {};                                    if (document.getElementById(\"d30ce660-d778-46fd-9ce4-28bed74693ba\")) {                    Plotly.newPlot(                        \"d30ce660-d778-46fd-9ce4-28bed74693ba\",                        [{\"alignmentgroup\":\"True\",\"customdata\":[[5],[5],[5],[5],[5],[5],[5],[5],[5],[5],[5],[5],[5],[5],[5],[5],[5],[5],[5],[5],[5],[5],[5],[5]],\"hovertemplate\":\"name=ASHTON BELL<br>date=%{x}<br>points per minute=%{y}<br>season=%{customdata[0]}<extra></extra>\",\"legendgroup\":\"ASHTON BELL\",\"marker\":{\"color\":\"#636efa\",\"pattern\":{\"shape\":\"\"},\"line\":{\"color\":\"black\",\"width\":1}},\"name\":\"ASHTON BELL\",\"offsetgroup\":\"ASHTON BELL\",\"orientation\":\"v\",\"showlegend\":true,\"textposition\":\"auto\",\"x\":[\"2024-11-30\",\"2024-12-03\",\"2024-12-06\",\"2024-12-17\",\"2024-12-19\",\"2024-12-29\",\"2024-12-31\",\"2025-01-07\",\"2025-01-11\",\"2025-01-14\",\"2025-01-19\",\"2025-01-21\",\"2025-01-27\",\"2025-01-29\",\"2025-02-01\",\"2025-02-13\",\"2025-02-26\",\"2025-03-07\",\"2025-03-11\",\"2025-03-15\",\"2025-03-22\",\"2025-03-25\",\"2025-03-29\",\"2025-04-02\"],\"xaxis\":\"x\",\"y\":[0.0,0.0,0.056764427625354774,0.0,0.0,0.0,0.0,0.0,0.042643923240938165,0.0,0.0,0.0,0.0,0.0,0.0510204081632653,0.0,0.0,0.0,0.0,0.05016722408026756,0.0,0.0,0.0,0.0],\"yaxis\":\"y\",\"type\":\"bar\"},{\"alignmentgroup\":\"True\",\"customdata\":[[5],[5],[5],[5],[5],[5],[5],[5],[5],[5],[5],[5],[5],[5],[5],[5],[5],[5],[5],[5],[5],[5]],\"hovertemplate\":\"name=AMANDA BOULIER<br>date=%{x}<br>points per minute=%{y}<br>season=%{customdata[0]}<extra></extra>\",\"legendgroup\":\"AMANDA BOULIER\",\"marker\":{\"color\":\"#EF553B\",\"pattern\":{\"shape\":\"\"},\"line\":{\"color\":\"black\",\"width\":1}},\"name\":\"AMANDA BOULIER\",\"offsetgroup\":\"AMANDA BOULIER\",\"orientation\":\"v\",\"showlegend\":true,\"textposition\":\"auto\",\"x\":[\"2024-11-30\",\"2024-12-04\",\"2024-12-06\",\"2024-12-21\",\"2025-01-17\",\"2025-01-19\",\"2025-01-29\",\"2025-01-30\",\"2025-02-02\",\"2025-02-15\",\"2025-02-18\",\"2025-02-22\",\"2025-02-25\",\"2025-03-01\",\"2025-03-04\",\"2025-03-06\",\"2025-03-08\",\"2025-03-12\",\"2025-03-18\",\"2025-03-23\",\"2025-03-26\",\"2025-04-01\"],\"xaxis\":\"x\",\"y\":[0.0,0.0,0.0,0.14388489208633093,0.0,0.0,0.08915304606240713,0.0,0.0,0.11940298507462686,0.0,0.0,0.0,0.0,0.0,0.0,0.0,0.0,0.10762331838565023,0.0,0.0,0.0],\"yaxis\":\"y\",\"type\":\"bar\"}],                        {\"template\":{\"data\":{\"histogram2dcontour\":[{\"type\":\"histogram2dcontour\",\"colorbar\":{\"outlinewidth\":0,\"ticks\":\"\"},\"colorscale\":[[0.0,\"#0d0887\"],[0.1111111111111111,\"#46039f\"],[0.2222222222222222,\"#7201a8\"],[0.3333333333333333,\"#9c179e\"],[0.4444444444444444,\"#bd3786\"],[0.5555555555555556,\"#d8576b\"],[0.6666666666666666,\"#ed7953\"],[0.7777777777777778,\"#fb9f3a\"],[0.8888888888888888,\"#fdca26\"],[1.0,\"#f0f921\"]]}],\"choropleth\":[{\"type\":\"choropleth\",\"colorbar\":{\"outlinewidth\":0,\"ticks\":\"\"}}],\"histogram2d\":[{\"type\":\"histogram2d\",\"colorbar\":{\"outlinewidth\":0,\"ticks\":\"\"},\"colorscale\":[[0.0,\"#0d0887\"],[0.1111111111111111,\"#46039f\"],[0.2222222222222222,\"#7201a8\"],[0.3333333333333333,\"#9c179e\"],[0.4444444444444444,\"#bd3786\"],[0.5555555555555556,\"#d8576b\"],[0.6666666666666666,\"#ed7953\"],[0.7777777777777778,\"#fb9f3a\"],[0.8888888888888888,\"#fdca26\"],[1.0,\"#f0f921\"]]}],\"heatmap\":[{\"type\":\"heatmap\",\"colorbar\":{\"outlinewidth\":0,\"ticks\":\"\"},\"colorscale\":[[0.0,\"#0d0887\"],[0.1111111111111111,\"#46039f\"],[0.2222222222222222,\"#7201a8\"],[0.3333333333333333,\"#9c179e\"],[0.4444444444444444,\"#bd3786\"],[0.5555555555555556,\"#d8576b\"],[0.6666666666666666,\"#ed7953\"],[0.7777777777777778,\"#fb9f3a\"],[0.8888888888888888,\"#fdca26\"],[1.0,\"#f0f921\"]]}],\"heatmapgl\":[{\"type\":\"heatmapgl\",\"colorbar\":{\"outlinewidth\":0,\"ticks\":\"\"},\"colorscale\":[[0.0,\"#0d0887\"],[0.1111111111111111,\"#46039f\"],[0.2222222222222222,\"#7201a8\"],[0.3333333333333333,\"#9c179e\"],[0.4444444444444444,\"#bd3786\"],[0.5555555555555556,\"#d8576b\"],[0.6666666666666666,\"#ed7953\"],[0.7777777777777778,\"#fb9f3a\"],[0.8888888888888888,\"#fdca26\"],[1.0,\"#f0f921\"]]}],\"contourcarpet\":[{\"type\":\"contourcarpet\",\"colorbar\":{\"outlinewidth\":0,\"ticks\":\"\"}}],\"contour\":[{\"type\":\"contour\",\"colorbar\":{\"outlinewidth\":0,\"ticks\":\"\"},\"colorscale\":[[0.0,\"#0d0887\"],[0.1111111111111111,\"#46039f\"],[0.2222222222222222,\"#7201a8\"],[0.3333333333333333,\"#9c179e\"],[0.4444444444444444,\"#bd3786\"],[0.5555555555555556,\"#d8576b\"],[0.6666666666666666,\"#ed7953\"],[0.7777777777777778,\"#fb9f3a\"],[0.8888888888888888,\"#fdca26\"],[1.0,\"#f0f921\"]]}],\"surface\":[{\"type\":\"surface\",\"colorbar\":{\"outlinewidth\":0,\"ticks\":\"\"},\"colorscale\":[[0.0,\"#0d0887\"],[0.1111111111111111,\"#46039f\"],[0.2222222222222222,\"#7201a8\"],[0.3333333333333333,\"#9c179e\"],[0.4444444444444444,\"#bd3786\"],[0.5555555555555556,\"#d8576b\"],[0.6666666666666666,\"#ed7953\"],[0.7777777777777778,\"#fb9f3a\"],[0.8888888888888888,\"#fdca26\"],[1.0,\"#f0f921\"]]}],\"mesh3d\":[{\"type\":\"mesh3d\",\"colorbar\":{\"outlinewidth\":0,\"ticks\":\"\"}}],\"scatter\":[{\"fillpattern\":{\"fillmode\":\"overlay\",\"size\":10,\"solidity\":0.2},\"type\":\"scatter\"}],\"parcoords\":[{\"type\":\"parcoords\",\"line\":{\"colorbar\":{\"outlinewidth\":0,\"ticks\":\"\"}}}],\"scatterpolargl\":[{\"type\":\"scatterpolargl\",\"marker\":{\"colorbar\":{\"outlinewidth\":0,\"ticks\":\"\"}}}],\"bar\":[{\"error_x\":{\"color\":\"#2a3f5f\"},\"error_y\":{\"color\":\"#2a3f5f\"},\"marker\":{\"line\":{\"color\":\"#E5ECF6\",\"width\":0.5},\"pattern\":{\"fillmode\":\"overlay\",\"size\":10,\"solidity\":0.2}},\"type\":\"bar\"}],\"scattergeo\":[{\"type\":\"scattergeo\",\"marker\":{\"colorbar\":{\"outlinewidth\":0,\"ticks\":\"\"}}}],\"scatterpolar\":[{\"type\":\"scatterpolar\",\"marker\":{\"colorbar\":{\"outlinewidth\":0,\"ticks\":\"\"}}}],\"histogram\":[{\"marker\":{\"pattern\":{\"fillmode\":\"overlay\",\"size\":10,\"solidity\":0.2}},\"type\":\"histogram\"}],\"scattergl\":[{\"type\":\"scattergl\",\"marker\":{\"colorbar\":{\"outlinewidth\":0,\"ticks\":\"\"}}}],\"scatter3d\":[{\"type\":\"scatter3d\",\"line\":{\"colorbar\":{\"outlinewidth\":0,\"ticks\":\"\"}},\"marker\":{\"colorbar\":{\"outlinewidth\":0,\"ticks\":\"\"}}}],\"scattermapbox\":[{\"type\":\"scattermapbox\",\"marker\":{\"colorbar\":{\"outlinewidth\":0,\"ticks\":\"\"}}}],\"scatterternary\":[{\"type\":\"scatterternary\",\"marker\":{\"colorbar\":{\"outlinewidth\":0,\"ticks\":\"\"}}}],\"scattercarpet\":[{\"type\":\"scattercarpet\",\"marker\":{\"colorbar\":{\"outlinewidth\":0,\"ticks\":\"\"}}}],\"carpet\":[{\"aaxis\":{\"endlinecolor\":\"#2a3f5f\",\"gridcolor\":\"white\",\"linecolor\":\"white\",\"minorgridcolor\":\"white\",\"startlinecolor\":\"#2a3f5f\"},\"baxis\":{\"endlinecolor\":\"#2a3f5f\",\"gridcolor\":\"white\",\"linecolor\":\"white\",\"minorgridcolor\":\"white\",\"startlinecolor\":\"#2a3f5f\"},\"type\":\"carpet\"}],\"table\":[{\"cells\":{\"fill\":{\"color\":\"#EBF0F8\"},\"line\":{\"color\":\"white\"}},\"header\":{\"fill\":{\"color\":\"#C8D4E3\"},\"line\":{\"color\":\"white\"}},\"type\":\"table\"}],\"barpolar\":[{\"marker\":{\"line\":{\"color\":\"#E5ECF6\",\"width\":0.5},\"pattern\":{\"fillmode\":\"overlay\",\"size\":10,\"solidity\":0.2}},\"type\":\"barpolar\"}],\"pie\":[{\"automargin\":true,\"type\":\"pie\"}]},\"layout\":{\"autotypenumbers\":\"strict\",\"colorway\":[\"#636efa\",\"#EF553B\",\"#00cc96\",\"#ab63fa\",\"#FFA15A\",\"#19d3f3\",\"#FF6692\",\"#B6E880\",\"#FF97FF\",\"#FECB52\"],\"font\":{\"color\":\"#2a3f5f\"},\"hovermode\":\"closest\",\"hoverlabel\":{\"align\":\"left\"},\"paper_bgcolor\":\"white\",\"plot_bgcolor\":\"#E5ECF6\",\"polar\":{\"bgcolor\":\"#E5ECF6\",\"angularaxis\":{\"gridcolor\":\"white\",\"linecolor\":\"white\",\"ticks\":\"\"},\"radialaxis\":{\"gridcolor\":\"white\",\"linecolor\":\"white\",\"ticks\":\"\"}},\"ternary\":{\"bgcolor\":\"#E5ECF6\",\"aaxis\":{\"gridcolor\":\"white\",\"linecolor\":\"white\",\"ticks\":\"\"},\"baxis\":{\"gridcolor\":\"white\",\"linecolor\":\"white\",\"ticks\":\"\"},\"caxis\":{\"gridcolor\":\"white\",\"linecolor\":\"white\",\"ticks\":\"\"}},\"coloraxis\":{\"colorbar\":{\"outlinewidth\":0,\"ticks\":\"\"}},\"colorscale\":{\"sequential\":[[0.0,\"#0d0887\"],[0.1111111111111111,\"#46039f\"],[0.2222222222222222,\"#7201a8\"],[0.3333333333333333,\"#9c179e\"],[0.4444444444444444,\"#bd3786\"],[0.5555555555555556,\"#d8576b\"],[0.6666666666666666,\"#ed7953\"],[0.7777777777777778,\"#fb9f3a\"],[0.8888888888888888,\"#fdca26\"],[1.0,\"#f0f921\"]],\"sequentialminus\":[[0.0,\"#0d0887\"],[0.1111111111111111,\"#46039f\"],[0.2222222222222222,\"#7201a8\"],[0.3333333333333333,\"#9c179e\"],[0.4444444444444444,\"#bd3786\"],[0.5555555555555556,\"#d8576b\"],[0.6666666666666666,\"#ed7953\"],[0.7777777777777778,\"#fb9f3a\"],[0.8888888888888888,\"#fdca26\"],[1.0,\"#f0f921\"]],\"diverging\":[[0,\"#8e0152\"],[0.1,\"#c51b7d\"],[0.2,\"#de77ae\"],[0.3,\"#f1b6da\"],[0.4,\"#fde0ef\"],[0.5,\"#f7f7f7\"],[0.6,\"#e6f5d0\"],[0.7,\"#b8e186\"],[0.8,\"#7fbc41\"],[0.9,\"#4d9221\"],[1,\"#276419\"]]},\"xaxis\":{\"gridcolor\":\"white\",\"linecolor\":\"white\",\"ticks\":\"\",\"title\":{\"standoff\":15},\"zerolinecolor\":\"white\",\"automargin\":true,\"zerolinewidth\":2},\"yaxis\":{\"gridcolor\":\"white\",\"linecolor\":\"white\",\"ticks\":\"\",\"title\":{\"standoff\":15},\"zerolinecolor\":\"white\",\"automargin\":true,\"zerolinewidth\":2},\"scene\":{\"xaxis\":{\"backgroundcolor\":\"#E5ECF6\",\"gridcolor\":\"white\",\"linecolor\":\"white\",\"showbackground\":true,\"ticks\":\"\",\"zerolinecolor\":\"white\",\"gridwidth\":2},\"yaxis\":{\"backgroundcolor\":\"#E5ECF6\",\"gridcolor\":\"white\",\"linecolor\":\"white\",\"showbackground\":true,\"ticks\":\"\",\"zerolinecolor\":\"white\",\"gridwidth\":2},\"zaxis\":{\"backgroundcolor\":\"#E5ECF6\",\"gridcolor\":\"white\",\"linecolor\":\"white\",\"showbackground\":true,\"ticks\":\"\",\"zerolinecolor\":\"white\",\"gridwidth\":2}},\"shapedefaults\":{\"line\":{\"color\":\"#2a3f5f\"}},\"annotationdefaults\":{\"arrowcolor\":\"#2a3f5f\",\"arrowhead\":0,\"arrowwidth\":1},\"geo\":{\"bgcolor\":\"white\",\"landcolor\":\"#E5ECF6\",\"subunitcolor\":\"white\",\"showland\":true,\"showlakes\":true,\"lakecolor\":\"white\"},\"title\":{\"x\":0.05},\"mapbox\":{\"style\":\"light\"}}},\"xaxis\":{\"anchor\":\"y\",\"domain\":[0.0,1.0],\"title\":{\"text\":\"date\"},\"tickangle\":-90,\"tickvals\":[\"2024-11-30\",\"2024-12-03\",\"2024-12-06\",\"2024-12-17\",\"2024-12-19\",\"2024-12-29\",\"2024-12-31\",\"2025-01-07\",\"2025-01-11\",\"2025-01-14\",\"2025-01-19\",\"2025-01-21\",\"2025-01-27\",\"2025-01-29\",\"2025-02-01\",\"2025-02-13\",\"2025-02-26\",\"2025-03-07\",\"2025-03-11\",\"2025-03-15\",\"2025-03-22\",\"2025-03-25\",\"2025-03-29\",\"2025-04-02\",\"2024-11-30\",\"2024-12-04\",\"2024-12-06\",\"2024-12-21\",\"2025-01-17\",\"2025-01-19\",\"2025-01-29\",\"2025-01-30\",\"2025-02-02\",\"2025-02-15\",\"2025-02-18\",\"2025-02-22\",\"2025-02-25\",\"2025-03-01\",\"2025-03-04\",\"2025-03-06\",\"2025-03-08\",\"2025-03-12\",\"2025-03-18\",\"2025-03-23\",\"2025-03-26\",\"2025-04-01\"]},\"yaxis\":{\"anchor\":\"x\",\"domain\":[0.0,1.0],\"title\":{\"text\":\"points per minute\"}},\"legend\":{\"title\":{\"text\":\"name\"},\"tracegroupgap\":0},\"title\":{\"text\":\"Points per minute on the ice\"},\"barmode\":\"relative\"},                        {\"responsive\": true}                    ).then(function(){\n",
       "                            \n",
       "var gd = document.getElementById('d30ce660-d778-46fd-9ce4-28bed74693ba');\n",
       "var x = new MutationObserver(function (mutations, observer) {{\n",
       "        var display = window.getComputedStyle(gd).display;\n",
       "        if (!display || display === 'none') {{\n",
       "            console.log([gd, 'removed!']);\n",
       "            Plotly.purge(gd);\n",
       "            observer.disconnect();\n",
       "        }}\n",
       "}});\n",
       "\n",
       "// Listen for the removal of the full notebook cells\n",
       "var notebookContainer = gd.closest('#notebook-container');\n",
       "if (notebookContainer) {{\n",
       "    x.observe(notebookContainer, {childList: true});\n",
       "}}\n",
       "\n",
       "// Listen for the clearing of the current output cell\n",
       "var outputEl = gd.closest('.output');\n",
       "if (outputEl) {{\n",
       "    x.observe(outputEl, {childList: true});\n",
       "}}\n",
       "\n",
       "                        })                };                });            </script>        </div>"
      ]
     },
     "metadata": {},
     "output_type": "display_data"
    }
   ],
   "source": [
    "def mm_ss_to_decimal(mm_ss):\n",
    "    mm, ss = mm_ss.split(\":\")\n",
    "    return int(mm) + (int(ss) / 60)\n",
    "\n",
    "def get_minutes_on_the_ice(row):\n",
    "    return mm_ss_to_decimal(str(row[\"time on the ice\"]))\n",
    "\n",
    "fig_df = df\n",
    "fig_df[\"minutes on the ice\"] = fig_df.apply(lambda row: get_minutes_on_the_ice(row), axis=1)\n",
    "\n",
    "#fig_df[\"points from goals\"] = fig_df[\"goals\"] / fig_df[\"minutes on the ice\"]\n",
    "#fig_df[\"points from assists\"] = fig_df[\"assists\"] / fig_df[\"minutes on the ice\"]\n",
    "fig_df[\"points per minute\"] = fig_df[\"points\"] / fig_df[\"minutes on the ice\"]\n",
    "\n",
    "#fig = px.bar(fig_df, x=\"date\", y=[\"points from goals\", \"points from assists\"], title=\"Points per minute on the ice\", hover_data = {\"season\": True})\n",
    "fig = px.bar(fig_df, x=\"date\", y=\"points per minute\", color=\"name\", title=\"Points per minute on the ice\", hover_data = {\"season\": True})\n",
    "fig.update_layout(yaxis_title=\"points per minute\")\n",
    "fig.update_xaxes(tickangle=270, tickvals = df[\"date\"])\n",
    "fig.update_traces(marker_line_color=\"black\", marker_line_width=1)\n",
    "fig.show()"
   ]
  },
  {
   "cell_type": "markdown",
   "id": "eabcad0e-bba2-4658-a76c-a4ad3903cd4a",
   "metadata": {},
   "source": [
    "## TODO\n",
    "\n",
    "- Write about this notebook in the README file\n",
    "- Check what the PWHL’s definition of a \"game winning goal\" is\n",
    "- Figure out exactly how it is determined which goalie gets the win/loss in their statistics (final goalie or most time on the ice, probably?)\n",
    "- Add to script TODO: add a comparison mode\n",
    "- Add to script TODO: add a message for a player with no stats\n",
    "- Add to README TODO: create a script to update only the latest season in the CSV file containing all game by game stats (so no need to get ALL the stats again from the website)\n",
    "- Change all specific Fleet positions to F and D\n",
    "- Add to script TODO: make sure the comparison dropdown doesn’t offer to compare a player with themselves\n",
    "- Consider enabling F and D comparison"
   ]
  },
  {
   "cell_type": "code",
   "execution_count": null,
   "id": "c57cab6a-ef76-4b10-aa06-76841cec7b15",
   "metadata": {},
   "outputs": [],
   "source": []
  },
  {
   "cell_type": "code",
   "execution_count": null,
   "id": "be38e635-bdf0-487f-ab87-47a0eeb87ba7",
   "metadata": {},
   "outputs": [],
   "source": []
  }
 ],
 "metadata": {
  "kernelspec": {
   "display_name": "Python [conda env:base] *",
   "language": "python",
   "name": "conda-base-py"
  },
  "language_info": {
   "codemirror_mode": {
    "name": "ipython",
    "version": 3
   },
   "file_extension": ".py",
   "mimetype": "text/x-python",
   "name": "python",
   "nbconvert_exporter": "python",
   "pygments_lexer": "ipython3",
   "version": "3.11.7"
  }
 },
 "nbformat": 4,
 "nbformat_minor": 5
}
